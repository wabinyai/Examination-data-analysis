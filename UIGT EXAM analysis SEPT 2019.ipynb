{
 "cells": [
  {
   "cell_type": "code",
   "execution_count": 1,
   "metadata": {},
   "outputs": [],
   "source": [
    "# Import relevant items\n",
    "import pandas as pd\n",
    "import numpy as np\n",
    "import seaborn as sns\n",
    "%matplotlib inline\n",
    "\n",
    "import datetime as dt"
   ]
  },
  {
   "cell_type": "code",
   "execution_count": 2,
   "metadata": {},
   "outputs": [],
   "source": [
    "import matplotlib.pyplot as plt\n",
    "plt.style.use('ggplot')\n",
    "plt.rcParams[\"figure.figsize\"] = [16,10]"
   ]
  },
  {
   "cell_type": "code",
   "execution_count": 3,
   "metadata": {},
   "outputs": [],
   "source": [
    "foo = r'E:\\python\\data36\\finalSept2019.csv'"
   ]
  },
  {
   "cell_type": "code",
   "execution_count": 4,
   "metadata": {},
   "outputs": [],
   "source": [
    "df = pd.read_csv(foo)"
   ]
  },
  {
   "cell_type": "code",
   "execution_count": 5,
   "metadata": {},
   "outputs": [
    {
     "data": {
      "text/html": [
       "<div>\n",
       "<style scoped>\n",
       "    .dataframe tbody tr th:only-of-type {\n",
       "        vertical-align: middle;\n",
       "    }\n",
       "\n",
       "    .dataframe tbody tr th {\n",
       "        vertical-align: top;\n",
       "    }\n",
       "\n",
       "    .dataframe thead th {\n",
       "        text-align: right;\n",
       "    }\n",
       "</style>\n",
       "<table border=\"1\" class=\"dataframe\">\n",
       "  <thead>\n",
       "    <tr style=\"text-align: right;\">\n",
       "      <th></th>\n",
       "      <th>STUDENT_ID</th>\n",
       "      <th>COURSE</th>\n",
       "      <th>COURSE_UNIT</th>\n",
       "      <th>SEMESTER</th>\n",
       "      <th>TEST</th>\n",
       "      <th>COURSE_WORK</th>\n",
       "      <th>EXAM</th>\n",
       "      <th>GRADE_POINT</th>\n",
       "      <th>GENDER</th>\n",
       "    </tr>\n",
       "  </thead>\n",
       "  <tbody>\n",
       "    <tr>\n",
       "      <th>0</th>\n",
       "      <td>2741</td>\n",
       "      <td>DGDD</td>\n",
       "      <td>DRAWING I</td>\n",
       "      <td>1</td>\n",
       "      <td>18</td>\n",
       "      <td>14</td>\n",
       "      <td>42</td>\n",
       "      <td>B</td>\n",
       "      <td>M</td>\n",
       "    </tr>\n",
       "    <tr>\n",
       "      <th>1</th>\n",
       "      <td>2741</td>\n",
       "      <td>DGDD</td>\n",
       "      <td>INDESIGN</td>\n",
       "      <td>1</td>\n",
       "      <td>17</td>\n",
       "      <td>15</td>\n",
       "      <td>43</td>\n",
       "      <td>B+</td>\n",
       "      <td>M</td>\n",
       "    </tr>\n",
       "    <tr>\n",
       "      <th>2</th>\n",
       "      <td>2741</td>\n",
       "      <td>DGDD</td>\n",
       "      <td>BUSINESS COMMUNICATION SKILL</td>\n",
       "      <td>1</td>\n",
       "      <td>12</td>\n",
       "      <td>20</td>\n",
       "      <td>54</td>\n",
       "      <td>A</td>\n",
       "      <td>M</td>\n",
       "    </tr>\n",
       "    <tr>\n",
       "      <th>3</th>\n",
       "      <td>2741</td>\n",
       "      <td>DGDD</td>\n",
       "      <td>CORELDRAW</td>\n",
       "      <td>1</td>\n",
       "      <td>18</td>\n",
       "      <td>20</td>\n",
       "      <td>35</td>\n",
       "      <td>B</td>\n",
       "      <td>M</td>\n",
       "    </tr>\n",
       "    <tr>\n",
       "      <th>4</th>\n",
       "      <td>2741</td>\n",
       "      <td>DGDD</td>\n",
       "      <td>DRAWING FOR GRAPHICS</td>\n",
       "      <td>1</td>\n",
       "      <td>12</td>\n",
       "      <td>20</td>\n",
       "      <td>58</td>\n",
       "      <td>A</td>\n",
       "      <td>M</td>\n",
       "    </tr>\n",
       "  </tbody>\n",
       "</table>\n",
       "</div>"
      ],
      "text/plain": [
       "   STUDENT_ID COURSE                   COURSE_UNIT  SEMESTER  TEST  \\\n",
       "0        2741   DGDD                     DRAWING I         1    18   \n",
       "1        2741   DGDD                      INDESIGN         1    17   \n",
       "2        2741   DGDD  BUSINESS COMMUNICATION SKILL         1    12   \n",
       "3        2741   DGDD                     CORELDRAW         1    18   \n",
       "4        2741   DGDD          DRAWING FOR GRAPHICS         1    12   \n",
       "\n",
       "   COURSE_WORK  EXAM GRADE_POINT GENDER  \n",
       "0           14    42           B      M  \n",
       "1           15    43          B+      M  \n",
       "2           20    54           A      M  \n",
       "3           20    35           B      M  \n",
       "4           20    58           A      M  "
      ]
     },
     "execution_count": 5,
     "metadata": {},
     "output_type": "execute_result"
    }
   ],
   "source": [
    "df.head()"
   ]
  },
  {
   "cell_type": "code",
   "execution_count": 6,
   "metadata": {},
   "outputs": [],
   "source": [
    "df['Final_Exam'] = df['TEST']+df['COURSE_WORK']+df['EXAM']"
   ]
  },
  {
   "cell_type": "code",
   "execution_count": 7,
   "metadata": {},
   "outputs": [
    {
     "data": {
      "text/html": [
       "<div>\n",
       "<style scoped>\n",
       "    .dataframe tbody tr th:only-of-type {\n",
       "        vertical-align: middle;\n",
       "    }\n",
       "\n",
       "    .dataframe tbody tr th {\n",
       "        vertical-align: top;\n",
       "    }\n",
       "\n",
       "    .dataframe thead th {\n",
       "        text-align: right;\n",
       "    }\n",
       "</style>\n",
       "<table border=\"1\" class=\"dataframe\">\n",
       "  <thead>\n",
       "    <tr style=\"text-align: right;\">\n",
       "      <th></th>\n",
       "      <th>STUDENT_ID</th>\n",
       "      <th>COURSE</th>\n",
       "      <th>COURSE_UNIT</th>\n",
       "      <th>SEMESTER</th>\n",
       "      <th>TEST</th>\n",
       "      <th>COURSE_WORK</th>\n",
       "      <th>EXAM</th>\n",
       "      <th>GRADE_POINT</th>\n",
       "      <th>GENDER</th>\n",
       "      <th>Final_Exam</th>\n",
       "    </tr>\n",
       "  </thead>\n",
       "  <tbody>\n",
       "    <tr>\n",
       "      <th>0</th>\n",
       "      <td>2741</td>\n",
       "      <td>DGDD</td>\n",
       "      <td>DRAWING I</td>\n",
       "      <td>1</td>\n",
       "      <td>18</td>\n",
       "      <td>14</td>\n",
       "      <td>42</td>\n",
       "      <td>B</td>\n",
       "      <td>M</td>\n",
       "      <td>74</td>\n",
       "    </tr>\n",
       "    <tr>\n",
       "      <th>1</th>\n",
       "      <td>2741</td>\n",
       "      <td>DGDD</td>\n",
       "      <td>INDESIGN</td>\n",
       "      <td>1</td>\n",
       "      <td>17</td>\n",
       "      <td>15</td>\n",
       "      <td>43</td>\n",
       "      <td>B+</td>\n",
       "      <td>M</td>\n",
       "      <td>75</td>\n",
       "    </tr>\n",
       "    <tr>\n",
       "      <th>2</th>\n",
       "      <td>2741</td>\n",
       "      <td>DGDD</td>\n",
       "      <td>BUSINESS COMMUNICATION SKILL</td>\n",
       "      <td>1</td>\n",
       "      <td>12</td>\n",
       "      <td>20</td>\n",
       "      <td>54</td>\n",
       "      <td>A</td>\n",
       "      <td>M</td>\n",
       "      <td>86</td>\n",
       "    </tr>\n",
       "    <tr>\n",
       "      <th>3</th>\n",
       "      <td>2741</td>\n",
       "      <td>DGDD</td>\n",
       "      <td>CORELDRAW</td>\n",
       "      <td>1</td>\n",
       "      <td>18</td>\n",
       "      <td>20</td>\n",
       "      <td>35</td>\n",
       "      <td>B</td>\n",
       "      <td>M</td>\n",
       "      <td>73</td>\n",
       "    </tr>\n",
       "    <tr>\n",
       "      <th>4</th>\n",
       "      <td>2741</td>\n",
       "      <td>DGDD</td>\n",
       "      <td>DRAWING FOR GRAPHICS</td>\n",
       "      <td>1</td>\n",
       "      <td>12</td>\n",
       "      <td>20</td>\n",
       "      <td>58</td>\n",
       "      <td>A</td>\n",
       "      <td>M</td>\n",
       "      <td>90</td>\n",
       "    </tr>\n",
       "  </tbody>\n",
       "</table>\n",
       "</div>"
      ],
      "text/plain": [
       "   STUDENT_ID COURSE                   COURSE_UNIT  SEMESTER  TEST  \\\n",
       "0        2741   DGDD                     DRAWING I         1    18   \n",
       "1        2741   DGDD                      INDESIGN         1    17   \n",
       "2        2741   DGDD  BUSINESS COMMUNICATION SKILL         1    12   \n",
       "3        2741   DGDD                     CORELDRAW         1    18   \n",
       "4        2741   DGDD          DRAWING FOR GRAPHICS         1    12   \n",
       "\n",
       "   COURSE_WORK  EXAM GRADE_POINT GENDER  Final_Exam  \n",
       "0           14    42           B      M          74  \n",
       "1           15    43          B+      M          75  \n",
       "2           20    54           A      M          86  \n",
       "3           20    35           B      M          73  \n",
       "4           20    58           A      M          90  "
      ]
     },
     "execution_count": 7,
     "metadata": {},
     "output_type": "execute_result"
    }
   ],
   "source": [
    "df.head()"
   ]
  },
  {
   "cell_type": "code",
   "execution_count": 8,
   "metadata": {},
   "outputs": [
    {
     "data": {
      "text/plain": [
       "STUDENT_ID     373\n",
       "COURSE         373\n",
       "COURSE_UNIT    373\n",
       "SEMESTER       373\n",
       "TEST           373\n",
       "COURSE_WORK    373\n",
       "EXAM           373\n",
       "GRADE_POINT    373\n",
       "GENDER         373\n",
       "Final_Exam     373\n",
       "dtype: int64"
      ]
     },
     "execution_count": 8,
     "metadata": {},
     "output_type": "execute_result"
    }
   ],
   "source": [
    "df.count()"
   ]
  },
  {
   "cell_type": "code",
   "execution_count": 9,
   "metadata": {},
   "outputs": [
    {
     "data": {
      "text/html": [
       "<div>\n",
       "<style scoped>\n",
       "    .dataframe tbody tr th:only-of-type {\n",
       "        vertical-align: middle;\n",
       "    }\n",
       "\n",
       "    .dataframe tbody tr th {\n",
       "        vertical-align: top;\n",
       "    }\n",
       "\n",
       "    .dataframe thead th {\n",
       "        text-align: right;\n",
       "    }\n",
       "</style>\n",
       "<table border=\"1\" class=\"dataframe\">\n",
       "  <thead>\n",
       "    <tr style=\"text-align: right;\">\n",
       "      <th></th>\n",
       "      <th>STUDENT_ID</th>\n",
       "      <th>SEMESTER</th>\n",
       "      <th>TEST</th>\n",
       "      <th>COURSE_WORK</th>\n",
       "      <th>EXAM</th>\n",
       "      <th>Final_Exam</th>\n",
       "    </tr>\n",
       "  </thead>\n",
       "  <tbody>\n",
       "    <tr>\n",
       "      <th>count</th>\n",
       "      <td>373.000000</td>\n",
       "      <td>373.000000</td>\n",
       "      <td>373.000000</td>\n",
       "      <td>373.000000</td>\n",
       "      <td>373.000000</td>\n",
       "      <td>373.000000</td>\n",
       "    </tr>\n",
       "    <tr>\n",
       "      <th>mean</th>\n",
       "      <td>2763.892761</td>\n",
       "      <td>1.994638</td>\n",
       "      <td>15.252011</td>\n",
       "      <td>14.179625</td>\n",
       "      <td>37.337802</td>\n",
       "      <td>66.769437</td>\n",
       "    </tr>\n",
       "    <tr>\n",
       "      <th>std</th>\n",
       "      <td>91.962646</td>\n",
       "      <td>1.039527</td>\n",
       "      <td>4.295631</td>\n",
       "      <td>4.761225</td>\n",
       "      <td>14.174359</td>\n",
       "      <td>18.518385</td>\n",
       "    </tr>\n",
       "    <tr>\n",
       "      <th>min</th>\n",
       "      <td>2573.000000</td>\n",
       "      <td>1.000000</td>\n",
       "      <td>1.000000</td>\n",
       "      <td>1.000000</td>\n",
       "      <td>1.000000</td>\n",
       "      <td>3.000000</td>\n",
       "    </tr>\n",
       "    <tr>\n",
       "      <th>25%</th>\n",
       "      <td>2711.000000</td>\n",
       "      <td>1.000000</td>\n",
       "      <td>12.000000</td>\n",
       "      <td>10.000000</td>\n",
       "      <td>31.000000</td>\n",
       "      <td>60.000000</td>\n",
       "    </tr>\n",
       "    <tr>\n",
       "      <th>50%</th>\n",
       "      <td>2782.000000</td>\n",
       "      <td>2.000000</td>\n",
       "      <td>17.000000</td>\n",
       "      <td>15.000000</td>\n",
       "      <td>40.000000</td>\n",
       "      <td>70.000000</td>\n",
       "    </tr>\n",
       "    <tr>\n",
       "      <th>75%</th>\n",
       "      <td>2846.000000</td>\n",
       "      <td>3.000000</td>\n",
       "      <td>19.000000</td>\n",
       "      <td>18.000000</td>\n",
       "      <td>47.000000</td>\n",
       "      <td>80.000000</td>\n",
       "    </tr>\n",
       "    <tr>\n",
       "      <th>max</th>\n",
       "      <td>2873.000000</td>\n",
       "      <td>4.000000</td>\n",
       "      <td>20.000000</td>\n",
       "      <td>20.000000</td>\n",
       "      <td>59.000000</td>\n",
       "      <td>98.000000</td>\n",
       "    </tr>\n",
       "  </tbody>\n",
       "</table>\n",
       "</div>"
      ],
      "text/plain": [
       "        STUDENT_ID    SEMESTER        TEST  COURSE_WORK        EXAM  \\\n",
       "count   373.000000  373.000000  373.000000   373.000000  373.000000   \n",
       "mean   2763.892761    1.994638   15.252011    14.179625   37.337802   \n",
       "std      91.962646    1.039527    4.295631     4.761225   14.174359   \n",
       "min    2573.000000    1.000000    1.000000     1.000000    1.000000   \n",
       "25%    2711.000000    1.000000   12.000000    10.000000   31.000000   \n",
       "50%    2782.000000    2.000000   17.000000    15.000000   40.000000   \n",
       "75%    2846.000000    3.000000   19.000000    18.000000   47.000000   \n",
       "max    2873.000000    4.000000   20.000000    20.000000   59.000000   \n",
       "\n",
       "       Final_Exam  \n",
       "count  373.000000  \n",
       "mean    66.769437  \n",
       "std     18.518385  \n",
       "min      3.000000  \n",
       "25%     60.000000  \n",
       "50%     70.000000  \n",
       "75%     80.000000  \n",
       "max     98.000000  "
      ]
     },
     "execution_count": 9,
     "metadata": {},
     "output_type": "execute_result"
    }
   ],
   "source": [
    "df.describe()"
   ]
  },
  {
   "cell_type": "code",
   "execution_count": 10,
   "metadata": {},
   "outputs": [
    {
     "data": {
      "text/plain": [
       "78"
      ]
     },
     "execution_count": 10,
     "metadata": {},
     "output_type": "execute_result"
    }
   ],
   "source": [
    "len(df.STUDENT_ID.unique())"
   ]
  },
  {
   "cell_type": "code",
   "execution_count": 11,
   "metadata": {},
   "outputs": [
    {
     "data": {
      "text/plain": [
       "GENDER\n",
       "F    32\n",
       "M    46\n",
       "Name: STUDENT_ID, dtype: int64"
      ]
     },
     "execution_count": 11,
     "metadata": {},
     "output_type": "execute_result"
    }
   ],
   "source": [
    "df.groupby('GENDER')['STUDENT_ID'].nunique()"
   ]
  },
  {
   "cell_type": "code",
   "execution_count": 12,
   "metadata": {},
   "outputs": [
    {
     "data": {
      "image/png": "[encoded data removed]",
      "text/plain": [
       "<Figure size 1152x720 with 1 Axes>"
      ]
     },
     "metadata": {},
     "output_type": "display_data"
    }
   ],
   "source": [
    "(df.groupby('GENDER')['Final_Exam'].mean()).plot(kind='Bar')\n",
    "plt.title('Performance per gender', fontsize=25)\n",
    "plt.xlabel('Gender and Reg-No', fontsize=25)\n",
    "plt.ylabel('Mean percentage mark',fontsize=25)\n",
    "plt.xticks(rotation=60,fontsize=25)\n",
    "#plt.legend()\n",
    "plt.show()"
   ]
  },
  {
   "cell_type": "code",
   "execution_count": 13,
   "metadata": {},
   "outputs": [
    {
     "data": {
      "text/plain": [
       "GENDER\n",
       "F    63.920732\n",
       "M    69.004785\n",
       "Name: Final_Exam, dtype: float64"
      ]
     },
     "execution_count": 13,
     "metadata": {},
     "output_type": "execute_result"
    }
   ],
   "source": [
    "df.groupby('GENDER')['Final_Exam'].mean()"
   ]
  },
  {
   "cell_type": "code",
   "execution_count": 14,
   "metadata": {},
   "outputs": [
    {
     "data": {
      "text/plain": [
       "12"
      ]
     },
     "execution_count": 14,
     "metadata": {},
     "output_type": "execute_result"
    }
   ],
   "source": [
    "len(df.COURSE.unique())"
   ]
  },
  {
   "cell_type": "code",
   "execution_count": 15,
   "metadata": {},
   "outputs": [
    {
     "data": {
      "text/plain": [
       "GRADE_POINT\n",
       "A     97\n",
       "B     45\n",
       "B+    48\n",
       "B-    39\n",
       "C     15\n",
       "C+    53\n",
       "C-    16\n",
       "D+    11\n",
       "F     49\n",
       "Name: STUDENT_ID, dtype: int64"
      ]
     },
     "execution_count": 15,
     "metadata": {},
     "output_type": "execute_result"
    }
   ],
   "source": [
    "df.groupby('GRADE_POINT')['STUDENT_ID'].count()"
   ]
  },
  {
   "cell_type": "code",
   "execution_count": 16,
   "metadata": {},
   "outputs": [
    {
     "data": {
      "text/plain": [
       "COURSE\n",
       "CCS       1\n",
       "CEE       1\n",
       "CGDD     17\n",
       "CIT       1\n",
       "CMM       1\n",
       "CVTVP     2\n",
       "DAD       4\n",
       "DEE       1\n",
       "DGDD     43\n",
       "DIT       1\n",
       "DMM       3\n",
       "DVTVP     4\n",
       "Name: STUDENT_ID, dtype: int64"
      ]
     },
     "execution_count": 16,
     "metadata": {},
     "output_type": "execute_result"
    }
   ],
   "source": [
    "df.groupby('COURSE')['STUDENT_ID'].nunique()"
   ]
  },
  {
   "cell_type": "code",
   "execution_count": 17,
   "metadata": {},
   "outputs": [
    {
     "data": {
      "text/plain": [
       "COURSE\n",
       "CIT      53.500000\n",
       "CGDD     56.452055\n",
       "DMM      61.933333\n",
       "CMM      63.200000\n",
       "DGDD     68.405000\n",
       "DIT      68.500000\n",
       "DAD      70.857143\n",
       "DEE      72.571429\n",
       "CCS      77.000000\n",
       "DVTVP    77.052632\n",
       "CVTVP    80.666667\n",
       "CEE      82.333333\n",
       "Name: Final_Exam, dtype: float64"
      ]
     },
     "execution_count": 17,
     "metadata": {},
     "output_type": "execute_result"
    }
   ],
   "source": [
    "df.groupby('COURSE')['Final_Exam'].mean().sort_values()"
   ]
  },
  {
   "cell_type": "code",
   "execution_count": 18,
   "metadata": {},
   "outputs": [
    {
     "data": {
      "image/png": "[encoded data removed]",
      "text/plain": [
       "<Figure size 1152x720 with 1 Axes>"
      ]
     },
     "metadata": {},
     "output_type": "display_data"
    }
   ],
   "source": [
    "(df.groupby('COURSE')['Final_Exam'].mean().sort_values()).plot(kind='bar')\n",
    "plt.title('Compare  grade letter   ',fontsize=25)\n",
    "plt.xlabel('Course ', fontsize=25)\n",
    "plt.ylabel('Mean average final examination ',fontsize=25)\n",
    "plt.xticks(rotation=60,fontsize=25)\n",
    "#plt.legend()\n",
    "plt.show()"
   ]
  },
  {
   "cell_type": "code",
   "execution_count": 19,
   "metadata": {},
   "outputs": [
    {
     "data": {
      "text/plain": [
       "59"
      ]
     },
     "execution_count": 19,
     "metadata": {},
     "output_type": "execute_result"
    }
   ],
   "source": [
    "len(df.COURSE_UNIT.unique())"
   ]
  },
  {
   "cell_type": "code",
   "execution_count": 20,
   "metadata": {},
   "outputs": [
    {
     "data": {
      "text/plain": [
       "array(['DRAWING I', 'INDESIGN', 'BUSINESS COMMUNICATION SKILL',\n",
       "       'CORELDRAW', 'DRAWING FOR GRAPHICS', 'ICT FUNDAMENTAL', 'ENGLISH',\n",
       "       'DESIGN PRINCIPLES', 'INDESIGN I', 'INDSIGN I', 'COLOR THEORY',\n",
       "       'ENTREPRENEURSHIP', 'TV THEORY', 'TV PRODUCTION THEORY',\n",
       "       'CONCEPT AND STORY VISUALIZATION', 'PHOTOSHOP',\n",
       "       'ENGINEERING SCIENCE', 'ENGINEERING MATH 1',\n",
       "       'INSTALLATION PRACTICE 1', 'ENGINEERING DRAWING',\n",
       "       'INTRODUCTION TO BUSINESS ADMINISTRATION',\n",
       "       'CONSTRUCTION TECHNOLOGY I', 'ENGINEERING SURVEYING I',\n",
       "       'ARCHITECTURAL STUDIO I', 'CONSTRUCTION TECHNOLOGY 1',\n",
       "       'CUSTOMER CARE', 'PRINTING MANAGEMENT', 'DRAWING II',\n",
       "       'INDESIGN II', 'PROPOSAL WRITING', 'MOTION GRAPHICS',\n",
       "       'CAMERA WORK II', 'DATA BASE PROGRAMMING', 'USER INTERFACE DESIGN',\n",
       "       'SYSTERM ANALYSIS', 'CONSTRUCTION TECHNOLOGY II',\n",
       "       'ENGINEERING SURVEYING II', 'ARCHITECTURAL STUDIO II',\n",
       "       'ENGINEERING MATH 2', 'CONSTRUCTION TECHNOLOGY', 'SURVEYING 2',\n",
       "       '3D MODELING WITH WINGS 3D', 'FIREWORKS', 'FIGURATIVE DRAWING',\n",
       "       'PREMIER PRO I', 'COMPOSITION PRINCIPLES', 'SYSTEM ADMINISTRATION',\n",
       "       'ILLUSTRATOR', 'STUDIO MANAGEMENT', '3D MODELING WITH BLENDER 3D',\n",
       "       'TYPOGRAPHY', 'PROJECT PRESENTATION', 'AFTER EFFECTS II',\n",
       "       'DIGITAL ELECTRONICS', 'ANALOGE DIGITAL ELECTRONICS PRACTICE',\n",
       "       'REAL LIFE PROJECT 2', 'ANALOGUE ELECTRONICS 2',\n",
       "       'DIGITAL ELECTRONICS 2', 'MAJOR WORK'], dtype=object)"
      ]
     },
     "execution_count": 20,
     "metadata": {},
     "output_type": "execute_result"
    }
   ],
   "source": [
    "df.COURSE_UNIT.unique()"
   ]
  },
  {
   "cell_type": "code",
   "execution_count": 21,
   "metadata": {},
   "outputs": [
    {
     "data": {
      "text/plain": [
       "BUSINESS COMMUNICATION SKILL               27\n",
       "ENGLISH                                    26\n",
       "ICT FUNDAMENTAL                            26\n",
       "PHOTOSHOP                                  24\n",
       "FIREWORKS                                  24\n",
       "3D MODELING WITH WINGS 3D                  23\n",
       "FIGURATIVE DRAWING                         21\n",
       "CORELDRAW                                  17\n",
       "DRAWING I                                  15\n",
       "CUSTOMER CARE                              14\n",
       "COLOR THEORY                               11\n",
       "ENTREPRENEURSHIP                           11\n",
       "DRAWING II                                 10\n",
       "DRAWING FOR GRAPHICS                        9\n",
       "DESIGN PRINCIPLES                           9\n",
       "INDESIGN                                    7\n",
       "INDESIGN II                                 7\n",
       "INDESIGN I                                  6\n",
       "ILLUSTRATOR                                 6\n",
       "3D MODELING WITH BLENDER 3D                 6\n",
       "ENGINEERING DRAWING                         5\n",
       "PRINTING MANAGEMENT                         5\n",
       "STUDIO MANAGEMENT                           5\n",
       "TYPOGRAPHY                                  5\n",
       "ENGINEERING MATH 1                          4\n",
       "ARCHITECTURAL STUDIO II                     3\n",
       "ARCHITECTURAL STUDIO I                      3\n",
       "ENGINEERING SURVEYING I                     3\n",
       "ENGINEERING MATH 2                          3\n",
       "USER INTERFACE DESIGN                       2\n",
       "ENGINEERING SURVEYING II                    2\n",
       "COMPOSITION PRINCIPLES                      2\n",
       "CONSTRUCTION TECHNOLOGY II                  2\n",
       "PROPOSAL WRITING                            2\n",
       "SYSTERM ANALYSIS                            2\n",
       "CONSTRUCTION TECHNOLOGY I                   2\n",
       "PREMIER PRO I                               2\n",
       "DATA BASE PROGRAMMING                       1\n",
       "MOTION GRAPHICS                             1\n",
       "TV PRODUCTION THEORY                        1\n",
       "MAJOR WORK                                  1\n",
       "REAL LIFE PROJECT 2                         1\n",
       "INSTALLATION PRACTICE 1                     1\n",
       "DIGITAL ELECTRONICS 2                       1\n",
       "AFTER EFFECTS II                            1\n",
       "SURVEYING 2                                 1\n",
       "ANALOGUE ELECTRONICS 2                      1\n",
       "CAMERA WORK II                              1\n",
       "CONCEPT AND STORY VISUALIZATION             1\n",
       "ENGINEERING SCIENCE                         1\n",
       "DIGITAL ELECTRONICS                         1\n",
       "SYSTEM ADMINISTRATION                       1\n",
       "CONSTRUCTION TECHNOLOGY 1                   1\n",
       "INDSIGN I                                   1\n",
       "TV THEORY                                   1\n",
       "ANALOGE DIGITAL ELECTRONICS PRACTICE        1\n",
       "CONSTRUCTION TECHNOLOGY                     1\n",
       "PROJECT PRESENTATION                        1\n",
       "INTRODUCTION TO BUSINESS ADMINISTRATION     1\n",
       "Name: COURSE_UNIT, dtype: int64"
      ]
     },
     "execution_count": 21,
     "metadata": {},
     "output_type": "execute_result"
    }
   ],
   "source": [
    "df['COURSE_UNIT'].value_counts()"
   ]
  },
  {
   "cell_type": "code",
   "execution_count": 22,
   "metadata": {},
   "outputs": [
    {
     "data": {
      "text/plain": [
       "COURSE\n",
       "CCS      77.000000\n",
       "CEE      82.333333\n",
       "CGDD     56.452055\n",
       "CIT      53.500000\n",
       "CMM      63.200000\n",
       "CVTVP    80.666667\n",
       "DAD      70.857143\n",
       "DEE      72.571429\n",
       "DGDD     68.405000\n",
       "DIT      68.500000\n",
       "DMM      61.933333\n",
       "DVTVP    77.052632\n",
       "Name: Final_Exam, dtype: float64"
      ]
     },
     "execution_count": 22,
     "metadata": {},
     "output_type": "execute_result"
    }
   ],
   "source": [
    "df.groupby('COURSE')['Final_Exam'].mean()"
   ]
  },
  {
   "cell_type": "code",
   "execution_count": 23,
   "metadata": {},
   "outputs": [],
   "source": [
    "g= df.groupby('STUDENT_ID')['Final_Exam'].mean().sort_values()"
   ]
  },
  {
   "cell_type": "code",
   "execution_count": 24,
   "metadata": {},
   "outputs": [
    {
     "data": {
      "text/plain": [
       "STUDENT_ID\n",
       "2797    31.250000\n",
       "2866    35.000000\n",
       "2666    36.750000\n",
       "2717    40.000000\n",
       "2859    42.181818\n",
       "2858    44.166667\n",
       "2856    45.333333\n",
       "2805    46.600000\n",
       "2824    47.500000\n",
       "2760    47.750000\n",
       "2799    48.500000\n",
       "2764    50.500000\n",
       "2581    52.500000\n",
       "2612    52.750000\n",
       "2798    53.500000\n",
       "2720    55.000000\n",
       "2873    56.500000\n",
       "2608    58.250000\n",
       "2801    58.400000\n",
       "2837    58.571429\n",
       "2862    59.714286\n",
       "2615    60.250000\n",
       "2784    60.500000\n",
       "2765    61.285714\n",
       "2712    62.333333\n",
       "2872    63.200000\n",
       "2592    64.000000\n",
       "2728    64.500000\n",
       "2718    64.750000\n",
       "2773    65.333333\n",
       "          ...    \n",
       "2726    72.750000\n",
       "2867    73.000000\n",
       "2851    73.500000\n",
       "2768    74.400000\n",
       "2576    75.500000\n",
       "2655    75.800000\n",
       "2763    76.600000\n",
       "2828    77.000000\n",
       "2738    77.000000\n",
       "2741    77.142857\n",
       "2782    77.250000\n",
       "2778    77.333333\n",
       "2832    77.571429\n",
       "2652    77.750000\n",
       "2871    77.857143\n",
       "2783    78.500000\n",
       "2647    79.250000\n",
       "2869    80.000000\n",
       "2662    80.000000\n",
       "2706    80.333333\n",
       "2713    80.750000\n",
       "2649    81.000000\n",
       "2668    81.000000\n",
       "2603    81.750000\n",
       "2643    82.250000\n",
       "2583    82.333333\n",
       "2846    84.636364\n",
       "2829    85.625000\n",
       "2573    87.500000\n",
       "2631    90.750000\n",
       "Name: Final_Exam, Length: 78, dtype: float64"
      ]
     },
     "execution_count": 24,
     "metadata": {},
     "output_type": "execute_result"
    }
   ],
   "source": [
    "g"
   ]
  },
  {
   "cell_type": "code",
   "execution_count": 25,
   "metadata": {},
   "outputs": [
    {
     "data": {
      "text/plain": [
       "67"
      ]
     },
     "execution_count": 25,
     "metadata": {},
     "output_type": "execute_result"
    }
   ],
   "source": [
    "g[g >= 50.0 ].count() "
   ]
  },
  {
   "cell_type": "code",
   "execution_count": 26,
   "metadata": {},
   "outputs": [
    {
     "data": {
      "text/plain": [
       "11"
      ]
     },
     "execution_count": 26,
     "metadata": {},
     "output_type": "execute_result"
    }
   ],
   "source": [
    "g[g < 50.0 ].count() "
   ]
  },
  {
   "cell_type": "code",
   "execution_count": 15,
   "metadata": {},
   "outputs": [
    {
     "data": {
      "image/png": "[encoded data removed]",
      "text/plain": [
       "<Figure size 1152x720 with 1 Axes>"
      ]
     },
     "metadata": {},
     "output_type": "display_data"
    }
   ],
   "source": [
    "df.Final_Exam.plot(kind='box')\n",
    "plt.title('Box plot showing final pass mark', fontsize=25)\n",
    "#plt.xlabel('Semester', fontsize=25)\n",
    "plt.ylabel('Marks (x/100%)',fontsize=25)\n",
    "plt.xticks(fontsize=25)\n",
    "#plt.legend()\n",
    "plt.show()"
   ]
  },
  {
   "cell_type": "code",
   "execution_count": 69,
   "metadata": {},
   "outputs": [
    {
     "data": {
      "text/html": [
       "<div>\n",
       "<style scoped>\n",
       "    .dataframe tbody tr th:only-of-type {\n",
       "        vertical-align: middle;\n",
       "    }\n",
       "\n",
       "    .dataframe tbody tr th {\n",
       "        vertical-align: top;\n",
       "    }\n",
       "\n",
       "    .dataframe thead th {\n",
       "        text-align: right;\n",
       "    }\n",
       "</style>\n",
       "<table border=\"1\" class=\"dataframe\">\n",
       "  <thead>\n",
       "    <tr style=\"text-align: right;\">\n",
       "      <th></th>\n",
       "      <th>STUDENT_ID</th>\n",
       "      <th>SEMESTER</th>\n",
       "      <th>TEST</th>\n",
       "      <th>COURSE_WORK</th>\n",
       "      <th>EXAM</th>\n",
       "      <th>Final_Exam</th>\n",
       "    </tr>\n",
       "  </thead>\n",
       "  <tbody>\n",
       "    <tr>\n",
       "      <th>count</th>\n",
       "      <td>361.000000</td>\n",
       "      <td>361.000000</td>\n",
       "      <td>361.000000</td>\n",
       "      <td>361.000000</td>\n",
       "      <td>361.000000</td>\n",
       "      <td>361.000000</td>\n",
       "    </tr>\n",
       "    <tr>\n",
       "      <th>mean</th>\n",
       "      <td>2767.149584</td>\n",
       "      <td>1.952909</td>\n",
       "      <td>15.218837</td>\n",
       "      <td>14.083102</td>\n",
       "      <td>36.930748</td>\n",
       "      <td>66.232687</td>\n",
       "    </tr>\n",
       "    <tr>\n",
       "      <th>std</th>\n",
       "      <td>90.376710</td>\n",
       "      <td>1.016803</td>\n",
       "      <td>4.411384</td>\n",
       "      <td>4.864699</td>\n",
       "      <td>14.666787</td>\n",
       "      <td>19.355623</td>\n",
       "    </tr>\n",
       "    <tr>\n",
       "      <th>min</th>\n",
       "      <td>2573.000000</td>\n",
       "      <td>1.000000</td>\n",
       "      <td>1.000000</td>\n",
       "      <td>1.000000</td>\n",
       "      <td>1.000000</td>\n",
       "      <td>3.000000</td>\n",
       "    </tr>\n",
       "    <tr>\n",
       "      <th>25%</th>\n",
       "      <td>2713.000000</td>\n",
       "      <td>1.000000</td>\n",
       "      <td>12.000000</td>\n",
       "      <td>10.000000</td>\n",
       "      <td>30.000000</td>\n",
       "      <td>58.000000</td>\n",
       "    </tr>\n",
       "    <tr>\n",
       "      <th>50%</th>\n",
       "      <td>2784.000000</td>\n",
       "      <td>2.000000</td>\n",
       "      <td>17.000000</td>\n",
       "      <td>15.000000</td>\n",
       "      <td>40.000000</td>\n",
       "      <td>70.000000</td>\n",
       "    </tr>\n",
       "    <tr>\n",
       "      <th>75%</th>\n",
       "      <td>2846.000000</td>\n",
       "      <td>3.000000</td>\n",
       "      <td>19.000000</td>\n",
       "      <td>18.000000</td>\n",
       "      <td>47.000000</td>\n",
       "      <td>80.000000</td>\n",
       "    </tr>\n",
       "    <tr>\n",
       "      <th>max</th>\n",
       "      <td>2873.000000</td>\n",
       "      <td>4.000000</td>\n",
       "      <td>20.000000</td>\n",
       "      <td>20.000000</td>\n",
       "      <td>59.000000</td>\n",
       "      <td>98.000000</td>\n",
       "    </tr>\n",
       "  </tbody>\n",
       "</table>\n",
       "</div>"
      ],
      "text/plain": [
       "        STUDENT_ID    SEMESTER        TEST  COURSE_WORK        EXAM  \\\n",
       "count   361.000000  361.000000  361.000000   361.000000  361.000000   \n",
       "mean   2767.149584    1.952909   15.218837    14.083102   36.930748   \n",
       "std      90.376710    1.016803    4.411384     4.864699   14.666787   \n",
       "min    2573.000000    1.000000    1.000000     1.000000    1.000000   \n",
       "25%    2713.000000    1.000000   12.000000    10.000000   30.000000   \n",
       "50%    2784.000000    2.000000   17.000000    15.000000   40.000000   \n",
       "75%    2846.000000    3.000000   19.000000    18.000000   47.000000   \n",
       "max    2873.000000    4.000000   20.000000    20.000000   59.000000   \n",
       "\n",
       "       Final_Exam  \n",
       "count  361.000000  \n",
       "mean    66.232687  \n",
       "std     19.355623  \n",
       "min      3.000000  \n",
       "25%     58.000000  \n",
       "50%     70.000000  \n",
       "75%     80.000000  \n",
       "max     98.000000  "
      ]
     },
     "execution_count": 69,
     "metadata": {},
     "output_type": "execute_result"
    }
   ],
   "source": [
    "df.describe()"
   ]
  },
  {
   "cell_type": "code",
   "execution_count": 76,
   "metadata": {},
   "outputs": [
    {
     "data": {
      "image/png": "[encoded data removed]",
      "text/plain": [
       "<Figure size 1152x720 with 1 Axes>"
      ]
     },
     "metadata": {},
     "output_type": "display_data"
    }
   ],
   "source": [
    "df.boxplot(column=['TEST','COURSE_WORK','EXAM'])\n",
    "plt.title('Box plot showing perfomance \\n ', fontsize=25)\n",
    "#plt.xlabel('Semester', fontsize=25)\n",
    "plt.ylabel('Marks (x/100%)',fontsize=25)\n",
    "plt.xticks(fontsize=25)\n",
    "#plt.legend()\n",
    "plt.show()"
   ]
  },
  {
   "cell_type": "code",
   "execution_count": 120,
   "metadata": {},
   "outputs": [
    {
     "data": {
      "image/png": "[encoded data removed]",
      "text/plain": [
       "<Figure size 1152x720 with 1 Axes>"
      ]
     },
     "metadata": {},
     "output_type": "display_data"
    }
   ],
   "source": [
    "x = df['Final_Exam']\n",
    "sns.distplot(x)\n",
    "plt.title('Perfomance  \\n ', fontsize=25)\n",
    "plt.xlabel('Total (x/100)', fontsize=25)\n",
    "plt.show()"
   ]
  },
  {
   "cell_type": "code",
   "execution_count": 37,
   "metadata": {},
   "outputs": [],
   "source": [
    "final =df['Final_Exam']"
   ]
  },
  {
   "cell_type": "code",
   "execution_count": 38,
   "metadata": {},
   "outputs": [
    {
     "data": {
      "text/plain": [
       "309"
      ]
     },
     "execution_count": 38,
     "metadata": {},
     "output_type": "execute_result"
    }
   ],
   "source": [
    "\n",
    "final[final > 50.0 ].count() "
   ]
  },
  {
   "cell_type": "code",
   "execution_count": 39,
   "metadata": {},
   "outputs": [
    {
     "data": {
      "text/plain": [
       "373"
      ]
     },
     "execution_count": 39,
     "metadata": {},
     "output_type": "execute_result"
    }
   ],
   "source": [
    "final.count()"
   ]
  },
  {
   "cell_type": "code",
   "execution_count": 40,
   "metadata": {},
   "outputs": [
    {
     "data": {
      "text/plain": [
       "83.6461126005362"
      ]
     },
     "execution_count": 40,
     "metadata": {},
     "output_type": "execute_result"
    }
   ],
   "source": [
    "(final[final >= 50.0 ].count() /final.count())*100"
   ]
  },
  {
   "cell_type": "code",
   "execution_count": 41,
   "metadata": {},
   "outputs": [
    {
     "data": {
      "text/plain": [
       "16.353887399463808"
      ]
     },
     "execution_count": 41,
     "metadata": {},
     "output_type": "execute_result"
    }
   ],
   "source": [
    "(final[final < 50.0 ].count() /final.count())*100"
   ]
  },
  {
   "cell_type": "code",
   "execution_count": 116,
   "metadata": {},
   "outputs": [
    {
     "data": {
      "text/plain": [
       "100.0"
      ]
     },
     "execution_count": 116,
     "metadata": {},
     "output_type": "execute_result"
    }
   ],
   "source": [
    "82.55+17.45"
   ]
  },
  {
   "cell_type": "code",
   "execution_count": 117,
   "metadata": {},
   "outputs": [
    {
     "data": {
      "text/plain": [
       "A     95\n",
       "F     52\n",
       "C+    50\n",
       "B+    47\n",
       "B     41\n",
       "B-    37\n",
       "C     14\n",
       "C-    14\n",
       "D+    11\n",
       "Name: GRADE_POINT, dtype: int64"
      ]
     },
     "execution_count": 117,
     "metadata": {},
     "output_type": "execute_result"
    }
   ],
   "source": [
    "df['GRADE_POINT'].value_counts()"
   ]
  },
  {
   "cell_type": "code",
   "execution_count": 146,
   "metadata": {},
   "outputs": [
    {
     "name": "stdout",
     "output_type": "stream",
     "text": [
      "                                                  Final_Exam\n",
      "GRADE_POINT COURSE_UNIT                                     \n",
      "A           3D MODELING WITH BLENDER 3D                    4\n",
      "            3D MODELING WITH WINGS 3D                      9\n",
      "            AFTER EFFECTS II                               1\n",
      "            ANALOGE DIGITAL ELECTRONICS PRACTICE           1\n",
      "            ARCHITECTURAL STUDIO I                         2\n",
      "            ARCHITECTURAL STUDIO II                        2\n",
      "            BUSINESS COMMUNICATION SKILL                   7\n",
      "            CAMERA WORK II                                 1\n",
      "            COLOR THEORY                                   3\n",
      "            COMPOSITION PRINCIPLES                         2\n",
      "            CONCEPT AND STORY VISUALIZATION                1\n",
      "            CONSTRUCTION TECHNOLOGY 1                      1\n",
      "            CONSTRUCTION TECHNOLOGY I                      1\n",
      "            CONSTRUCTION TECHNOLOGY II                     1\n",
      "            CORELDRAW                                      1\n",
      "            CUSTOMER CARE                                  4\n",
      "            DESIGN PRINCIPLES                              1\n",
      "            DIGITAL ELECTRONICS                            1\n",
      "            DRAWING FOR GRAPHICS                           2\n",
      "            DRAWING I                                      1\n",
      "            ENGINEERING DRAWING                            3\n",
      "            ENGINEERING MATH 1                             2\n",
      "            ENGINEERING SCIENCE                            1\n",
      "            ENGINEERING SURVEYING I                        2\n",
      "            ENGINEERING SURVEYING II                       1\n",
      "            ENGLISH                                        2\n",
      "            ENTREPRENEURSHIP                               4\n",
      "            FIGURATIVE DRAWING                             1\n",
      "            FIREWORKS                                      4\n",
      "            ICT FUNDAMENTAL                                9\n"
     ]
    }
   ],
   "source": [
    "dr =df[['GRADE_POINT','COURSE_UNIT','Final_Exam']]\n",
    "print(dr.groupby(['GRADE_POINT','COURSE_UNIT']).count().head(30))"
   ]
  },
  {
   "cell_type": "code",
   "execution_count": 148,
   "metadata": {},
   "outputs": [
    {
     "data": {
      "text/plain": [
       "COURSE\n",
       "CCS      77.000000\n",
       "CEE      82.333333\n",
       "CGDD     55.850746\n",
       "CIT      53.500000\n",
       "CMM      63.200000\n",
       "CVTVP    80.666667\n",
       "DAD      70.857143\n",
       "DEE      72.571429\n",
       "DGDD     67.345361\n",
       "DIT      68.500000\n",
       "DMM      61.933333\n",
       "DVTVP    77.052632\n",
       "Name: Final_Exam, dtype: float64"
      ]
     },
     "execution_count": 148,
     "metadata": {},
     "output_type": "execute_result"
    }
   ],
   "source": [
    "df.groupby('COURSE')['Final_Exam'].mean()"
   ]
  },
  {
   "cell_type": "markdown",
   "metadata": {},
   "source": [
    "# looking at graphics department "
   ]
  },
  {
   "cell_type": "code",
   "execution_count": 57,
   "metadata": {},
   "outputs": [],
   "source": [
    "DGDD = df[df['COURSE'] == \"DGDD\"]"
   ]
  },
  {
   "cell_type": "code",
   "execution_count": 58,
   "metadata": {},
   "outputs": [
    {
     "data": {
      "text/html": [
       "<div>\n",
       "<style scoped>\n",
       "    .dataframe tbody tr th:only-of-type {\n",
       "        vertical-align: middle;\n",
       "    }\n",
       "\n",
       "    .dataframe tbody tr th {\n",
       "        vertical-align: top;\n",
       "    }\n",
       "\n",
       "    .dataframe thead th {\n",
       "        text-align: right;\n",
       "    }\n",
       "</style>\n",
       "<table border=\"1\" class=\"dataframe\">\n",
       "  <thead>\n",
       "    <tr style=\"text-align: right;\">\n",
       "      <th></th>\n",
       "      <th>STUDENT_ID</th>\n",
       "      <th>COURSE</th>\n",
       "      <th>COURSE_UNIT</th>\n",
       "      <th>SEMESTER</th>\n",
       "      <th>TEST</th>\n",
       "      <th>COURSE_WORK</th>\n",
       "      <th>EXAM</th>\n",
       "      <th>GRADE_POINT</th>\n",
       "      <th>GENDER</th>\n",
       "      <th>Final_Exam</th>\n",
       "    </tr>\n",
       "  </thead>\n",
       "  <tbody>\n",
       "    <tr>\n",
       "      <th>0</th>\n",
       "      <td>2741</td>\n",
       "      <td>DGDD</td>\n",
       "      <td>DRAWING I</td>\n",
       "      <td>1</td>\n",
       "      <td>18</td>\n",
       "      <td>14</td>\n",
       "      <td>42</td>\n",
       "      <td>B</td>\n",
       "      <td>M</td>\n",
       "      <td>74</td>\n",
       "    </tr>\n",
       "    <tr>\n",
       "      <th>1</th>\n",
       "      <td>2741</td>\n",
       "      <td>DGDD</td>\n",
       "      <td>INDESIGN</td>\n",
       "      <td>1</td>\n",
       "      <td>17</td>\n",
       "      <td>15</td>\n",
       "      <td>43</td>\n",
       "      <td>B+</td>\n",
       "      <td>M</td>\n",
       "      <td>75</td>\n",
       "    </tr>\n",
       "    <tr>\n",
       "      <th>2</th>\n",
       "      <td>2741</td>\n",
       "      <td>DGDD</td>\n",
       "      <td>BUSINESS COMMUNICATION SKILL</td>\n",
       "      <td>1</td>\n",
       "      <td>12</td>\n",
       "      <td>20</td>\n",
       "      <td>54</td>\n",
       "      <td>A</td>\n",
       "      <td>M</td>\n",
       "      <td>86</td>\n",
       "    </tr>\n",
       "    <tr>\n",
       "      <th>3</th>\n",
       "      <td>2741</td>\n",
       "      <td>DGDD</td>\n",
       "      <td>CORELDRAW</td>\n",
       "      <td>1</td>\n",
       "      <td>18</td>\n",
       "      <td>20</td>\n",
       "      <td>35</td>\n",
       "      <td>B</td>\n",
       "      <td>M</td>\n",
       "      <td>73</td>\n",
       "    </tr>\n",
       "    <tr>\n",
       "      <th>4</th>\n",
       "      <td>2741</td>\n",
       "      <td>DGDD</td>\n",
       "      <td>DRAWING FOR GRAPHICS</td>\n",
       "      <td>1</td>\n",
       "      <td>12</td>\n",
       "      <td>20</td>\n",
       "      <td>58</td>\n",
       "      <td>A</td>\n",
       "      <td>M</td>\n",
       "      <td>90</td>\n",
       "    </tr>\n",
       "  </tbody>\n",
       "</table>\n",
       "</div>"
      ],
      "text/plain": [
       "   STUDENT_ID COURSE                   COURSE_UNIT  SEMESTER  TEST  \\\n",
       "0        2741   DGDD                     DRAWING I         1    18   \n",
       "1        2741   DGDD                      INDESIGN         1    17   \n",
       "2        2741   DGDD  BUSINESS COMMUNICATION SKILL         1    12   \n",
       "3        2741   DGDD                     CORELDRAW         1    18   \n",
       "4        2741   DGDD          DRAWING FOR GRAPHICS         1    12   \n",
       "\n",
       "   COURSE_WORK  EXAM GRADE_POINT GENDER  Final_Exam  \n",
       "0           14    42           B      M          74  \n",
       "1           15    43          B+      M          75  \n",
       "2           20    54           A      M          86  \n",
       "3           20    35           B      M          73  \n",
       "4           20    58           A      M          90  "
      ]
     },
     "execution_count": 58,
     "metadata": {},
     "output_type": "execute_result"
    }
   ],
   "source": [
    "DGDD.head()"
   ]
  },
  {
   "cell_type": "code",
   "execution_count": 59,
   "metadata": {},
   "outputs": [
    {
     "data": {
      "text/plain": [
       "43"
      ]
     },
     "execution_count": 59,
     "metadata": {},
     "output_type": "execute_result"
    }
   ],
   "source": [
    "len(DGDD.STUDENT_ID.unique())"
   ]
  },
  {
   "cell_type": "code",
   "execution_count": 63,
   "metadata": {},
   "outputs": [
    {
     "data": {
      "text/plain": [
       "STUDENT_ID\n",
       "2666    36.750000\n",
       "2717    40.000000\n",
       "2801    45.200000\n",
       "2764    50.500000\n",
       "2581    52.500000\n",
       "2612    52.750000\n",
       "2720    55.000000\n",
       "2608    58.250000\n",
       "2837    58.571429\n",
       "2862    59.714286\n",
       "2615    60.250000\n",
       "2784    60.500000\n",
       "2765    61.285714\n",
       "2728    64.500000\n",
       "2718    64.750000\n",
       "2711    66.000000\n",
       "2715    66.000000\n",
       "2854    66.333333\n",
       "2710    67.500000\n",
       "2844    70.428571\n",
       "2579    70.750000\n",
       "2724    70.750000\n",
       "2657    71.000000\n",
       "2836    71.857143\n",
       "2716    72.250000\n",
       "2725    72.250000\n",
       "2650    72.250000\n",
       "2726    72.750000\n",
       "2576    75.500000\n",
       "2655    75.800000\n",
       "2763    76.600000\n",
       "2828    77.000000\n",
       "2741    77.142857\n",
       "2782    77.250000\n",
       "2832    77.571429\n",
       "2652    77.750000\n",
       "2871    77.857143\n",
       "2783    78.500000\n",
       "2647    79.250000\n",
       "2713    80.750000\n",
       "2603    81.750000\n",
       "2643    82.250000\n",
       "2631    90.750000\n",
       "Name: Final_Exam, dtype: float64"
      ]
     },
     "execution_count": 63,
     "metadata": {},
     "output_type": "execute_result"
    }
   ],
   "source": [
    "DGDD.groupby('STUDENT_ID')['Final_Exam'].mean().sort_values()"
   ]
  },
  {
   "cell_type": "code",
   "execution_count": 64,
   "metadata": {},
   "outputs": [
    {
     "name": "stdout",
     "output_type": "stream",
     "text": [
      "90.5\n",
      "9.5\n"
     ]
    }
   ],
   "source": [
    "final =DGDD['Final_Exam']\n",
    "\n",
    "print ((final[final >= 50.0 ].count() /final.count())*100)\n",
    "print ((final[final < 50.0 ].count() /final.count())*100)"
   ]
  },
  {
   "cell_type": "code",
   "execution_count": 87,
   "metadata": {},
   "outputs": [
    {
     "name": "stdout",
     "output_type": "stream",
     "text": [
      "4\n",
      "     STUDENT_ID COURSE          COURSE_UNIT  SEMESTER  TEST  COURSE_WORK  \\\n",
      "189        2801   DGDD           DRAWING II         2     1            1   \n",
      "190        2801   DGDD  PRINTING MANAGEMENT         2     1            1   \n",
      "\n",
      "     EXAM GRADE_POINT GENDER  Final_Exam  \n",
      "189     1           F      M           3  \n",
      "190     1           F      M           3  \n"
     ]
    }
   ],
   "source": [
    "# MISSED EXAMINATION \n",
    "missed = DGDD['Final_Exam']\n",
    "print (missed[missed <= 03.0 ].count())\n",
    "\n",
    "print (DGDD[(DGDD['Final_Exam'] <= 3) & (DGDD['STUDENT_ID'] )])\n"
   ]
  },
  {
   "cell_type": "code",
   "execution_count": 88,
   "metadata": {},
   "outputs": [
    {
     "data": {
      "text/html": [
       "<div>\n",
       "<style scoped>\n",
       "    .dataframe tbody tr th:only-of-type {\n",
       "        vertical-align: middle;\n",
       "    }\n",
       "\n",
       "    .dataframe tbody tr th {\n",
       "        vertical-align: top;\n",
       "    }\n",
       "\n",
       "    .dataframe thead th {\n",
       "        text-align: right;\n",
       "    }\n",
       "</style>\n",
       "<table border=\"1\" class=\"dataframe\">\n",
       "  <thead>\n",
       "    <tr style=\"text-align: right;\">\n",
       "      <th></th>\n",
       "      <th>STUDENT_ID</th>\n",
       "      <th>COURSE</th>\n",
       "      <th>COURSE_UNIT</th>\n",
       "      <th>SEMESTER</th>\n",
       "      <th>TEST</th>\n",
       "      <th>COURSE_WORK</th>\n",
       "      <th>EXAM</th>\n",
       "      <th>GRADE_POINT</th>\n",
       "      <th>GENDER</th>\n",
       "      <th>Final_Exam</th>\n",
       "    </tr>\n",
       "  </thead>\n",
       "  <tbody>\n",
       "    <tr>\n",
       "      <th>189</th>\n",
       "      <td>2801</td>\n",
       "      <td>DGDD</td>\n",
       "      <td>DRAWING II</td>\n",
       "      <td>2</td>\n",
       "      <td>1</td>\n",
       "      <td>1</td>\n",
       "      <td>1</td>\n",
       "      <td>F</td>\n",
       "      <td>M</td>\n",
       "      <td>3</td>\n",
       "    </tr>\n",
       "    <tr>\n",
       "      <th>190</th>\n",
       "      <td>2801</td>\n",
       "      <td>DGDD</td>\n",
       "      <td>PRINTING MANAGEMENT</td>\n",
       "      <td>2</td>\n",
       "      <td>1</td>\n",
       "      <td>1</td>\n",
       "      <td>1</td>\n",
       "      <td>F</td>\n",
       "      <td>M</td>\n",
       "      <td>3</td>\n",
       "    </tr>\n",
       "  </tbody>\n",
       "</table>\n",
       "</div>"
      ],
      "text/plain": [
       "     STUDENT_ID COURSE          COURSE_UNIT  SEMESTER  TEST  COURSE_WORK  \\\n",
       "189        2801   DGDD           DRAWING II         2     1            1   \n",
       "190        2801   DGDD  PRINTING MANAGEMENT         2     1            1   \n",
       "\n",
       "     EXAM GRADE_POINT GENDER  Final_Exam  \n",
       "189     1           F      M           3  \n",
       "190     1           F      M           3  "
      ]
     },
     "execution_count": 88,
     "metadata": {},
     "output_type": "execute_result"
    }
   ],
   "source": [
    "(DGDD[(DGDD['Final_Exam'] <= 3) & (DGDD['STUDENT_ID'] )])"
   ]
  },
  {
   "cell_type": "code",
   "execution_count": 92,
   "metadata": {},
   "outputs": [
    {
     "data": {
      "text/html": [
       "<div>\n",
       "<style scoped>\n",
       "    .dataframe tbody tr th:only-of-type {\n",
       "        vertical-align: middle;\n",
       "    }\n",
       "\n",
       "    .dataframe tbody tr th {\n",
       "        vertical-align: top;\n",
       "    }\n",
       "\n",
       "    .dataframe thead th {\n",
       "        text-align: right;\n",
       "    }\n",
       "</style>\n",
       "<table border=\"1\" class=\"dataframe\">\n",
       "  <thead>\n",
       "    <tr style=\"text-align: right;\">\n",
       "      <th></th>\n",
       "      <th>STUDENT_ID</th>\n",
       "      <th>COURSE</th>\n",
       "      <th>COURSE_UNIT</th>\n",
       "      <th>SEMESTER</th>\n",
       "      <th>TEST</th>\n",
       "      <th>COURSE_WORK</th>\n",
       "      <th>EXAM</th>\n",
       "      <th>GRADE_POINT</th>\n",
       "      <th>GENDER</th>\n",
       "      <th>Final_Exam</th>\n",
       "    </tr>\n",
       "  </thead>\n",
       "  <tbody>\n",
       "    <tr>\n",
       "      <th>179</th>\n",
       "      <td>2764</td>\n",
       "      <td>DGDD</td>\n",
       "      <td>ENTREPRENEURSHIP</td>\n",
       "      <td>2</td>\n",
       "      <td>1</td>\n",
       "      <td>1</td>\n",
       "      <td>1</td>\n",
       "      <td>F</td>\n",
       "      <td>F</td>\n",
       "      <td>3</td>\n",
       "    </tr>\n",
       "    <tr>\n",
       "      <th>189</th>\n",
       "      <td>2801</td>\n",
       "      <td>DGDD</td>\n",
       "      <td>DRAWING II</td>\n",
       "      <td>2</td>\n",
       "      <td>1</td>\n",
       "      <td>1</td>\n",
       "      <td>1</td>\n",
       "      <td>F</td>\n",
       "      <td>M</td>\n",
       "      <td>3</td>\n",
       "    </tr>\n",
       "    <tr>\n",
       "      <th>190</th>\n",
       "      <td>2801</td>\n",
       "      <td>DGDD</td>\n",
       "      <td>PRINTING MANAGEMENT</td>\n",
       "      <td>2</td>\n",
       "      <td>1</td>\n",
       "      <td>1</td>\n",
       "      <td>1</td>\n",
       "      <td>F</td>\n",
       "      <td>M</td>\n",
       "      <td>3</td>\n",
       "    </tr>\n",
       "    <tr>\n",
       "      <th>317</th>\n",
       "      <td>2666</td>\n",
       "      <td>DGDD</td>\n",
       "      <td>3D MODELING WITH WINGS 3D</td>\n",
       "      <td>3</td>\n",
       "      <td>1</td>\n",
       "      <td>1</td>\n",
       "      <td>1</td>\n",
       "      <td>F</td>\n",
       "      <td>F</td>\n",
       "      <td>3</td>\n",
       "    </tr>\n",
       "  </tbody>\n",
       "</table>\n",
       "</div>"
      ],
      "text/plain": [
       "     STUDENT_ID COURSE                COURSE_UNIT  SEMESTER  TEST  \\\n",
       "179        2764   DGDD           ENTREPRENEURSHIP         2     1   \n",
       "189        2801   DGDD                 DRAWING II         2     1   \n",
       "190        2801   DGDD        PRINTING MANAGEMENT         2     1   \n",
       "317        2666   DGDD  3D MODELING WITH WINGS 3D         3     1   \n",
       "\n",
       "     COURSE_WORK  EXAM GRADE_POINT GENDER  Final_Exam  \n",
       "179            1     1           F      F           3  \n",
       "189            1     1           F      M           3  \n",
       "190            1     1           F      M           3  \n",
       "317            1     1           F      F           3  "
      ]
     },
     "execution_count": 92,
     "metadata": {},
     "output_type": "execute_result"
    }
   ],
   "source": [
    "(DGDD[(DGDD['Final_Exam'] <= 3) & (DGDD['COURSE_UNIT'] )])"
   ]
  },
  {
   "cell_type": "code",
   "execution_count": 91,
   "metadata": {},
   "outputs": [
    {
     "data": {
      "text/html": [
       "<div>\n",
       "<style scoped>\n",
       "    .dataframe tbody tr th:only-of-type {\n",
       "        vertical-align: middle;\n",
       "    }\n",
       "\n",
       "    .dataframe tbody tr th {\n",
       "        vertical-align: top;\n",
       "    }\n",
       "\n",
       "    .dataframe thead th {\n",
       "        text-align: right;\n",
       "    }\n",
       "</style>\n",
       "<table border=\"1\" class=\"dataframe\">\n",
       "  <thead>\n",
       "    <tr style=\"text-align: right;\">\n",
       "      <th></th>\n",
       "      <th>STUDENT_ID</th>\n",
       "      <th>COURSE</th>\n",
       "      <th>COURSE_UNIT</th>\n",
       "      <th>SEMESTER</th>\n",
       "      <th>TEST</th>\n",
       "      <th>COURSE_WORK</th>\n",
       "      <th>EXAM</th>\n",
       "      <th>GRADE_POINT</th>\n",
       "      <th>GENDER</th>\n",
       "      <th>Final_Exam</th>\n",
       "    </tr>\n",
       "  </thead>\n",
       "  <tbody>\n",
       "    <tr>\n",
       "      <th>189</th>\n",
       "      <td>2801</td>\n",
       "      <td>DGDD</td>\n",
       "      <td>DRAWING II</td>\n",
       "      <td>2</td>\n",
       "      <td>1</td>\n",
       "      <td>1</td>\n",
       "      <td>1</td>\n",
       "      <td>F</td>\n",
       "      <td>M</td>\n",
       "      <td>3</td>\n",
       "    </tr>\n",
       "    <tr>\n",
       "      <th>190</th>\n",
       "      <td>2801</td>\n",
       "      <td>DGDD</td>\n",
       "      <td>PRINTING MANAGEMENT</td>\n",
       "      <td>2</td>\n",
       "      <td>1</td>\n",
       "      <td>1</td>\n",
       "      <td>1</td>\n",
       "      <td>F</td>\n",
       "      <td>M</td>\n",
       "      <td>3</td>\n",
       "    </tr>\n",
       "  </tbody>\n",
       "</table>\n",
       "</div>"
      ],
      "text/plain": [
       "     STUDENT_ID COURSE          COURSE_UNIT  SEMESTER  TEST  COURSE_WORK  \\\n",
       "189        2801   DGDD           DRAWING II         2     1            1   \n",
       "190        2801   DGDD  PRINTING MANAGEMENT         2     1            1   \n",
       "\n",
       "     EXAM GRADE_POINT GENDER  Final_Exam  \n",
       "189     1           F      M           3  \n",
       "190     1           F      M           3  "
      ]
     },
     "execution_count": 91,
     "metadata": {},
     "output_type": "execute_result"
    }
   ],
   "source": [
    "(DGDD[(DGDD['STUDENT_ID'] & (DGDD['Final_Exam'] <= 3)   )])"
   ]
  },
  {
   "cell_type": "code",
   "execution_count": 283,
   "metadata": {},
   "outputs": [
    {
     "data": {
      "image/png": "[encoded data removed]",
      "text/plain": [
       "<Figure size 1152x720 with 1 Axes>"
      ]
     },
     "metadata": {},
     "output_type": "display_data"
    }
   ],
   "source": [
    "xx = DGDD['Final_Exam']\n",
    "sns.distplot(xx)\n",
    "plt.title('Perfomance  \\n ', fontsize=25)\n",
    "plt.xlabel('Total (x/100)', fontsize=25)\n",
    "plt.show()"
   ]
  },
  {
   "cell_type": "code",
   "execution_count": 65,
   "metadata": {},
   "outputs": [
    {
     "data": {
      "text/plain": [
       "GENDER\n",
       "F    17\n",
       "M    26\n",
       "Name: STUDENT_ID, dtype: int64"
      ]
     },
     "execution_count": 65,
     "metadata": {},
     "output_type": "execute_result"
    }
   ],
   "source": [
    "DGDD.groupby('GENDER')['STUDENT_ID'].nunique()"
   ]
  },
  {
   "cell_type": "code",
   "execution_count": 66,
   "metadata": {},
   "outputs": [
    {
     "data": {
      "text/plain": [
       "GENDER\n",
       "F    63.686047\n",
       "M    71.385965\n",
       "Name: Final_Exam, dtype: float64"
      ]
     },
     "execution_count": 66,
     "metadata": {},
     "output_type": "execute_result"
    }
   ],
   "source": [
    "DGDD.groupby('GENDER')['Final_Exam'].mean()"
   ]
  },
  {
   "cell_type": "code",
   "execution_count": 298,
   "metadata": {},
   "outputs": [
    {
     "data": {
      "image/png": "[encoded data removed]",
      "text/plain": [
       "<Figure size 1152x720 with 1 Axes>"
      ]
     },
     "metadata": {},
     "output_type": "display_data"
    }
   ],
   "source": [
    "DGDD.boxplot(column='Final_Exam',by ='GENDER')\n",
    "plt.title('Box plot showing final pass mark by gender', fontsize=25)\n",
    "#plt.xlabel('Semester', fontsize=25)\n",
    "plt.ylabel('Marks (x/100%)',fontsize=25)\n",
    "plt.xticks(fontsize=25)\n",
    "#plt.legend()\n",
    "plt.show()"
   ]
  },
  {
   "cell_type": "code",
   "execution_count": 226,
   "metadata": {},
   "outputs": [
    {
     "data": {
      "image/png": "[encoded data removed]",
      "text/plain": [
       "<Figure size 1152x720 with 1 Axes>"
      ]
     },
     "metadata": {},
     "output_type": "display_data"
    }
   ],
   "source": [
    "(DGDD.groupby('GENDER')['Final_Exam'].mean()).plot(kind='Bar')\n",
    "plt.title('Performance per gender', fontsize=25)\n",
    "plt.xlabel('Gender ', fontsize=25)\n",
    "plt.ylabel('Mean percentage mark',fontsize=25)\n",
    "plt.xticks(rotation=60,fontsize=25)\n",
    "#plt.legend()\n",
    "plt.show()"
   ]
  },
  {
   "cell_type": "code",
   "execution_count": 67,
   "metadata": {},
   "outputs": [
    {
     "data": {
      "text/plain": [
       "SEMESTER\n",
       "1    11\n",
       "2     6\n",
       "3    22\n",
       "4     5\n",
       "Name: STUDENT_ID, dtype: int64"
      ]
     },
     "execution_count": 67,
     "metadata": {},
     "output_type": "execute_result"
    }
   ],
   "source": [
    "DGDD.groupby('SEMESTER')['STUDENT_ID'].nunique()"
   ]
  },
  {
   "cell_type": "code",
   "execution_count": 49,
   "metadata": {},
   "outputs": [
    {
     "data": {
      "text/plain": [
       "SEMESTER\n",
       "1    11\n",
       "2     6\n",
       "3    22\n",
       "4     5\n",
       "Name: STUDENT_ID, dtype: int64"
      ]
     },
     "execution_count": 49,
     "metadata": {},
     "output_type": "execute_result"
    }
   ],
   "source": [
    "DGDD.groupby('SEMESTER')['STUDENT_ID'].nunique()"
   ]
  },
  {
   "cell_type": "code",
   "execution_count": 68,
   "metadata": {},
   "outputs": [
    {
     "data": {
      "text/plain": [
       "STUDENT_ID     43\n",
       "COURSE          1\n",
       "COURSE_UNIT    21\n",
       "SEMESTER        4\n",
       "TEST           16\n",
       "COURSE_WORK    17\n",
       "EXAM           41\n",
       "GRADE_POINT     9\n",
       "GENDER          2\n",
       "Final_Exam     57\n",
       "dtype: int64"
      ]
     },
     "execution_count": 68,
     "metadata": {},
     "output_type": "execute_result"
    }
   ],
   "source": [
    "DGDD.nunique()"
   ]
  },
  {
   "cell_type": "code",
   "execution_count": 70,
   "metadata": {},
   "outputs": [
    {
     "data": {
      "text/plain": [
       "COURSE_UNIT\n",
       "DRAWING II                      47.000000\n",
       "PRINTING MANAGEMENT             53.000000\n",
       "ENTREPRENEURSHIP                57.000000\n",
       "FIGURATIVE DRAWING              57.666667\n",
       "CORELDRAW                       60.800000\n",
       "ILLUSTRATOR                     62.200000\n",
       "STUDIO MANAGEMENT               62.200000\n",
       "TYPOGRAPHY                      63.000000\n",
       "DRAWING I                       65.777778\n",
       "DESIGN PRINCIPLES               66.555556\n",
       "INDESIGN                        68.714286\n",
       "FIREWORKS                       69.142857\n",
       "3D MODELING WITH WINGS 3D       71.409091\n",
       "ENGLISH                         71.700000\n",
       "DRAWING FOR GRAPHICS            72.777778\n",
       "PHOTOSHOP                       73.761905\n",
       "BUSINESS COMMUNICATION SKILL    74.272727\n",
       "CUSTOMER CARE                   75.750000\n",
       "COLOR THEORY                    76.200000\n",
       "ICT FUNDAMENTAL                 76.900000\n",
       "3D MODELING WITH BLENDER 3D     79.200000\n",
       "Name: Final_Exam, dtype: float64"
      ]
     },
     "execution_count": 70,
     "metadata": {},
     "output_type": "execute_result"
    }
   ],
   "source": [
    "DGDD.groupby('COURSE_UNIT')['Final_Exam'].mean().sort_values()"
   ]
  },
  {
   "cell_type": "code",
   "execution_count": 71,
   "metadata": {},
   "outputs": [
    {
     "data": {
      "text/plain": [
       "COURSE_UNIT\n",
       "CORELDRAW                       73\n",
       "DRAWING II                      75\n",
       "ILLUSTRATOR                     76\n",
       "PRINTING MANAGEMENT             77\n",
       "INDESIGN                        81\n",
       "3D MODELING WITH BLENDER 3D     82\n",
       "CUSTOMER CARE                   82\n",
       "DESIGN PRINCIPLES               84\n",
       "DRAWING I                       84\n",
       "TYPOGRAPHY                      85\n",
       "ENTREPRENEURSHIP                86\n",
       "ICT FUNDAMENTAL                 86\n",
       "STUDIO MANAGEMENT               88\n",
       "FIGURATIVE DRAWING              88\n",
       "PHOTOSHOP                       89\n",
       "DRAWING FOR GRAPHICS            90\n",
       "ENGLISH                         91\n",
       "COLOR THEORY                    93\n",
       "BUSINESS COMMUNICATION SKILL    94\n",
       "FIREWORKS                       95\n",
       "3D MODELING WITH WINGS 3D       98\n",
       "Name: Final_Exam, dtype: int64"
      ]
     },
     "execution_count": 71,
     "metadata": {},
     "output_type": "execute_result"
    }
   ],
   "source": [
    "DGDD.groupby('COURSE_UNIT')['Final_Exam'].max().sort_values()"
   ]
  },
  {
   "cell_type": "code",
   "execution_count": 72,
   "metadata": {},
   "outputs": [
    {
     "data": {
      "text/plain": [
       "COURSE_UNIT\n",
       "3D MODELING WITH WINGS 3D        3\n",
       "PRINTING MANAGEMENT              3\n",
       "DRAWING II                       3\n",
       "ENTREPRENEURSHIP                 3\n",
       "FIGURATIVE DRAWING              14\n",
       "FIREWORKS                       28\n",
       "STUDIO MANAGEMENT               32\n",
       "TYPOGRAPHY                      35\n",
       "BUSINESS COMMUNICATION SKILL    40\n",
       "CORELDRAW                       40\n",
       "ILLUSTRATOR                     44\n",
       "DRAWING I                       48\n",
       "PHOTOSHOP                       50\n",
       "DESIGN PRINCIPLES               50\n",
       "INDESIGN                        52\n",
       "ENGLISH                         54\n",
       "COLOR THEORY                    60\n",
       "DRAWING FOR GRAPHICS            61\n",
       "ICT FUNDAMENTAL                 67\n",
       "CUSTOMER CARE                   70\n",
       "3D MODELING WITH BLENDER 3D     75\n",
       "Name: Final_Exam, dtype: int64"
      ]
     },
     "execution_count": 72,
     "metadata": {},
     "output_type": "execute_result"
    }
   ],
   "source": [
    "DGDD.groupby('COURSE_UNIT')['Final_Exam'].min().sort_values()"
   ]
  },
  {
   "cell_type": "code",
   "execution_count": 51,
   "metadata": {},
   "outputs": [
    {
     "data": {
      "text/plain": [
       "COURSE_UNIT\n",
       "ADOBE ILLUSTRATOR                 1\n",
       "BUSINESS COMMUNICATION SKILLS     1\n",
       "DRAWING II                        3\n",
       "ENTREPRENEURSHIP                  3\n",
       "ILLUSTRATOR                       4\n",
       "CUSTOMER CARE                     4\n",
       "PRINTING MANAGEMENT               5\n",
       "STUDIO MANAGEMENT                 5\n",
       "3D MODELING WITH BLENDER 3D       5\n",
       "COLOR THEORY                      5\n",
       "TYPOGRAPHY                        5\n",
       "INDESIGN                          7\n",
       "DRAWING FOR GRAPHICS              9\n",
       "DRAWING I                         9\n",
       "DESIGN PRINCIPLES                 9\n",
       "CORELDRAW                        10\n",
       "ENGLISH                          10\n",
       "ICT FUNDAMENTAL                  10\n",
       "BUSINESS COMMUNICATION SKILL     10\n",
       "FIGURATIVE DRAWING               21\n",
       "FIREWORKS                        21\n",
       "PHOTOSHOP                        21\n",
       "3D MODELING WITH WINGS 3D        22\n",
       "Name: STUDENT_ID, dtype: int64"
      ]
     },
     "execution_count": 51,
     "metadata": {},
     "output_type": "execute_result"
    }
   ],
   "source": [
    "DGDD.groupby('COURSE_UNIT')['STUDENT_ID'].nunique().sort_values()"
   ]
  },
  {
   "cell_type": "code",
   "execution_count": 296,
   "metadata": {},
   "outputs": [
    {
     "data": {
      "text/plain": [
       "GRADE_POINT\n",
       "D+     4\n",
       "C      5\n",
       "C-     6\n",
       "B-    10\n",
       "F     11\n",
       "B     12\n",
       "C+    13\n",
       "A     16\n",
       "B+    17\n",
       "Name: COURSE_UNIT, dtype: int64"
      ]
     },
     "execution_count": 296,
     "metadata": {},
     "output_type": "execute_result"
    }
   ],
   "source": [
    "DGDD.groupby('GRADE_POINT')['COURSE_UNIT'].nunique().sort_values()"
   ]
  },
  {
   "cell_type": "code",
   "execution_count": 330,
   "metadata": {},
   "outputs": [
    {
     "data": {
      "text/plain": [
       "SEMESTER\n",
       "4    59.705882\n",
       "2    62.782609\n",
       "3    68.197674\n",
       "1    69.720588\n",
       "Name: Final_Exam, dtype: float64"
      ]
     },
     "execution_count": 330,
     "metadata": {},
     "output_type": "execute_result"
    }
   ],
   "source": [
    "DGDD.groupby('SEMESTER')['Final_Exam'].mean().sort_values()"
   ]
  },
  {
   "cell_type": "code",
   "execution_count": 288,
   "metadata": {},
   "outputs": [
    {
     "data": {
      "text/html": [
       "<div>\n",
       "<style scoped>\n",
       "    .dataframe tbody tr th:only-of-type {\n",
       "        vertical-align: middle;\n",
       "    }\n",
       "\n",
       "    .dataframe tbody tr th {\n",
       "        vertical-align: top;\n",
       "    }\n",
       "\n",
       "    .dataframe thead th {\n",
       "        text-align: right;\n",
       "    }\n",
       "</style>\n",
       "<table border=\"1\" class=\"dataframe\">\n",
       "  <thead>\n",
       "    <tr style=\"text-align: right;\">\n",
       "      <th></th>\n",
       "      <th>STUDENT_ID</th>\n",
       "      <th>COURSE</th>\n",
       "      <th>COURSE_UNIT</th>\n",
       "      <th>SEMESTER</th>\n",
       "      <th>TEST</th>\n",
       "      <th>COURSE_WORK</th>\n",
       "      <th>EXAM</th>\n",
       "      <th>GRADE_POINT</th>\n",
       "      <th>GENDER</th>\n",
       "      <th>Final_Exam</th>\n",
       "    </tr>\n",
       "  </thead>\n",
       "  <tbody>\n",
       "    <tr>\n",
       "      <th>335</th>\n",
       "      <td>2603</td>\n",
       "      <td>DGDD</td>\n",
       "      <td>STUDIO MANAGEMENT</td>\n",
       "      <td>4</td>\n",
       "      <td>18</td>\n",
       "      <td>13</td>\n",
       "      <td>1</td>\n",
       "      <td>F</td>\n",
       "      <td>M</td>\n",
       "      <td>32</td>\n",
       "    </tr>\n",
       "    <tr>\n",
       "      <th>347</th>\n",
       "      <td>2612</td>\n",
       "      <td>DGDD</td>\n",
       "      <td>STUDIO MANAGEMENT</td>\n",
       "      <td>4</td>\n",
       "      <td>13</td>\n",
       "      <td>18</td>\n",
       "      <td>1</td>\n",
       "      <td>F</td>\n",
       "      <td>M</td>\n",
       "      <td>32</td>\n",
       "    </tr>\n",
       "  </tbody>\n",
       "</table>\n",
       "</div>"
      ],
      "text/plain": [
       "     STUDENT_ID COURSE        COURSE_UNIT  SEMESTER  TEST  COURSE_WORK  EXAM  \\\n",
       "335        2603   DGDD  STUDIO MANAGEMENT         4    18           13     1   \n",
       "347        2612   DGDD  STUDIO MANAGEMENT         4    13           18     1   \n",
       "\n",
       "    GRADE_POINT GENDER  Final_Exam  \n",
       "335           F      M          32  \n",
       "347           F      M          32  "
      ]
     },
     "execution_count": 288,
     "metadata": {},
     "output_type": "execute_result"
    }
   ],
   "source": [
    "DGDD [DGDD ['Final_Exam'] == 32]"
   ]
  },
  {
   "cell_type": "code",
   "execution_count": 280,
   "metadata": {},
   "outputs": [
    {
     "data": {
      "text/html": [
       "<div>\n",
       "<style scoped>\n",
       "    .dataframe tbody tr th:only-of-type {\n",
       "        vertical-align: middle;\n",
       "    }\n",
       "\n",
       "    .dataframe tbody tr th {\n",
       "        vertical-align: top;\n",
       "    }\n",
       "\n",
       "    .dataframe thead th {\n",
       "        text-align: right;\n",
       "    }\n",
       "</style>\n",
       "<table border=\"1\" class=\"dataframe\">\n",
       "  <thead>\n",
       "    <tr style=\"text-align: right;\">\n",
       "      <th></th>\n",
       "      <th>STUDENT_ID</th>\n",
       "      <th>COURSE</th>\n",
       "      <th>COURSE_UNIT</th>\n",
       "      <th>SEMESTER</th>\n",
       "      <th>TEST</th>\n",
       "      <th>COURSE_WORK</th>\n",
       "      <th>EXAM</th>\n",
       "      <th>GRADE_POINT</th>\n",
       "      <th>GENDER</th>\n",
       "      <th>Final_Exam</th>\n",
       "    </tr>\n",
       "  </thead>\n",
       "  <tbody>\n",
       "    <tr>\n",
       "      <th>266</th>\n",
       "      <td>2631</td>\n",
       "      <td>DGDD</td>\n",
       "      <td>FIGURATIVE DRAWING</td>\n",
       "      <td>3</td>\n",
       "      <td>19</td>\n",
       "      <td>17</td>\n",
       "      <td>52</td>\n",
       "      <td>A</td>\n",
       "      <td>M</td>\n",
       "      <td>88</td>\n",
       "    </tr>\n",
       "    <tr>\n",
       "      <th>267</th>\n",
       "      <td>2631</td>\n",
       "      <td>DGDD</td>\n",
       "      <td>PHOTOSHOP</td>\n",
       "      <td>3</td>\n",
       "      <td>19</td>\n",
       "      <td>20</td>\n",
       "      <td>50</td>\n",
       "      <td>A</td>\n",
       "      <td>M</td>\n",
       "      <td>89</td>\n",
       "    </tr>\n",
       "    <tr>\n",
       "      <th>268</th>\n",
       "      <td>2631</td>\n",
       "      <td>DGDD</td>\n",
       "      <td>3D MODELING WITH WINGS 3D</td>\n",
       "      <td>3</td>\n",
       "      <td>19</td>\n",
       "      <td>20</td>\n",
       "      <td>59</td>\n",
       "      <td>A</td>\n",
       "      <td>M</td>\n",
       "      <td>98</td>\n",
       "    </tr>\n",
       "    <tr>\n",
       "      <th>269</th>\n",
       "      <td>2631</td>\n",
       "      <td>DGDD</td>\n",
       "      <td>FIREWORKS</td>\n",
       "      <td>3</td>\n",
       "      <td>16</td>\n",
       "      <td>20</td>\n",
       "      <td>52</td>\n",
       "      <td>A</td>\n",
       "      <td>M</td>\n",
       "      <td>88</td>\n",
       "    </tr>\n",
       "  </tbody>\n",
       "</table>\n",
       "</div>"
      ],
      "text/plain": [
       "     STUDENT_ID COURSE                COURSE_UNIT  SEMESTER  TEST  \\\n",
       "266        2631   DGDD         FIGURATIVE DRAWING         3    19   \n",
       "267        2631   DGDD                  PHOTOSHOP         3    19   \n",
       "268        2631   DGDD  3D MODELING WITH WINGS 3D         3    19   \n",
       "269        2631   DGDD                  FIREWORKS         3    16   \n",
       "\n",
       "     COURSE_WORK  EXAM GRADE_POINT GENDER  Final_Exam  \n",
       "266           17    52           A      M          88  \n",
       "267           20    50           A      M          89  \n",
       "268           20    59           A      M          98  \n",
       "269           20    52           A      M          88  "
      ]
     },
     "execution_count": 280,
     "metadata": {},
     "output_type": "execute_result"
    }
   ],
   "source": [
    "DGDD[DGDD ['STUDENT_ID'] == 2631]"
   ]
  },
  {
   "cell_type": "code",
   "execution_count": 289,
   "metadata": {},
   "outputs": [
    {
     "data": {
      "text/html": [
       "<div>\n",
       "<style scoped>\n",
       "    .dataframe tbody tr th:only-of-type {\n",
       "        vertical-align: middle;\n",
       "    }\n",
       "\n",
       "    .dataframe tbody tr th {\n",
       "        vertical-align: top;\n",
       "    }\n",
       "\n",
       "    .dataframe thead th {\n",
       "        text-align: right;\n",
       "    }\n",
       "</style>\n",
       "<table border=\"1\" class=\"dataframe\">\n",
       "  <thead>\n",
       "    <tr style=\"text-align: right;\">\n",
       "      <th></th>\n",
       "      <th>STUDENT_ID</th>\n",
       "      <th>COURSE</th>\n",
       "      <th>COURSE_UNIT</th>\n",
       "      <th>SEMESTER</th>\n",
       "      <th>TEST</th>\n",
       "      <th>COURSE_WORK</th>\n",
       "      <th>EXAM</th>\n",
       "      <th>GRADE_POINT</th>\n",
       "      <th>GENDER</th>\n",
       "      <th>Final_Exam</th>\n",
       "    </tr>\n",
       "  </thead>\n",
       "  <tbody>\n",
       "    <tr>\n",
       "      <th>2</th>\n",
       "      <td>2741</td>\n",
       "      <td>DGDD</td>\n",
       "      <td>BUSINESS COMMUNICATION SKILL</td>\n",
       "      <td>1</td>\n",
       "      <td>12</td>\n",
       "      <td>20</td>\n",
       "      <td>54</td>\n",
       "      <td>A</td>\n",
       "      <td>M</td>\n",
       "      <td>86</td>\n",
       "    </tr>\n",
       "    <tr>\n",
       "      <th>4</th>\n",
       "      <td>2741</td>\n",
       "      <td>DGDD</td>\n",
       "      <td>DRAWING FOR GRAPHICS</td>\n",
       "      <td>1</td>\n",
       "      <td>12</td>\n",
       "      <td>20</td>\n",
       "      <td>58</td>\n",
       "      <td>A</td>\n",
       "      <td>M</td>\n",
       "      <td>90</td>\n",
       "    </tr>\n",
       "    <tr>\n",
       "      <th>14</th>\n",
       "      <td>2871</td>\n",
       "      <td>DGDD</td>\n",
       "      <td>ICT FUNDAMENTAL</td>\n",
       "      <td>1</td>\n",
       "      <td>18</td>\n",
       "      <td>17</td>\n",
       "      <td>48</td>\n",
       "      <td>A</td>\n",
       "      <td>F</td>\n",
       "      <td>83</td>\n",
       "    </tr>\n",
       "    <tr>\n",
       "      <th>18</th>\n",
       "      <td>2871</td>\n",
       "      <td>DGDD</td>\n",
       "      <td>DRAWING I</td>\n",
       "      <td>1</td>\n",
       "      <td>19</td>\n",
       "      <td>14</td>\n",
       "      <td>51</td>\n",
       "      <td>A</td>\n",
       "      <td>F</td>\n",
       "      <td>84</td>\n",
       "    </tr>\n",
       "    <tr>\n",
       "      <th>20</th>\n",
       "      <td>2871</td>\n",
       "      <td>DGDD</td>\n",
       "      <td>DESIGN PRINCIPLES</td>\n",
       "      <td>1</td>\n",
       "      <td>16</td>\n",
       "      <td>15</td>\n",
       "      <td>53</td>\n",
       "      <td>A</td>\n",
       "      <td>F</td>\n",
       "      <td>84</td>\n",
       "    </tr>\n",
       "  </tbody>\n",
       "</table>\n",
       "</div>"
      ],
      "text/plain": [
       "    STUDENT_ID COURSE                   COURSE_UNIT  SEMESTER  TEST  \\\n",
       "2         2741   DGDD  BUSINESS COMMUNICATION SKILL         1    12   \n",
       "4         2741   DGDD          DRAWING FOR GRAPHICS         1    12   \n",
       "14        2871   DGDD               ICT FUNDAMENTAL         1    18   \n",
       "18        2871   DGDD                     DRAWING I         1    19   \n",
       "20        2871   DGDD             DESIGN PRINCIPLES         1    16   \n",
       "\n",
       "    COURSE_WORK  EXAM GRADE_POINT GENDER  Final_Exam  \n",
       "2            20    54           A      M          86  \n",
       "4            20    58           A      M          90  \n",
       "14           17    48           A      F          83  \n",
       "18           14    51           A      F          84  \n",
       "20           15    53           A      F          84  "
      ]
     },
     "execution_count": 289,
     "metadata": {},
     "output_type": "execute_result"
    }
   ],
   "source": [
    "DGDD[(DGDD['COURSE'] == \"DGDD\") & (DGDD['Final_Exam'] >= 80)].head()"
   ]
  },
  {
   "cell_type": "code",
   "execution_count": 324,
   "metadata": {},
   "outputs": [
    {
     "name": "stdout",
     "output_type": "stream",
     "text": [
      "                     Final_Exam\n",
      "                          count\n",
      "SEMESTER GRADE_POINT           \n",
      "1        A                   14\n",
      "         B                   14\n",
      "         B+                  10\n",
      "         B-                   9\n",
      "         C                    3\n",
      "         C+                  11\n",
      "         C-                   2\n",
      "         D+                   3\n",
      "         F                    2\n",
      "2        A                    5\n",
      "         B                    3\n",
      "         B+                   4\n",
      "         B-                   1\n",
      "         C+                   6\n",
      "         C-                   1\n",
      "         F                    3\n",
      "3        A                   22\n",
      "         B                   13\n",
      "         B+                   6\n",
      "         B-                  18\n",
      "         C                    3\n",
      "         C+                  11\n",
      "         C-                   6\n",
      "         D+                   2\n",
      "         F                    5\n",
      "4        A                    5\n",
      "         B+                   4\n",
      "         C                    1\n",
      "         C+                   1\n",
      "         F                    6\n"
     ]
    }
   ],
   "source": [
    "gr=(DGDD.groupby(['SEMESTER', 'GRADE_POINT'])\n",
    "   .agg({'Final_Exam':['count']\n",
    "#         'Gender':['count']\n",
    "        }))\n",
    "print (gr.head(40))"
   ]
  },
  {
   "cell_type": "code",
   "execution_count": 48,
   "metadata": {},
   "outputs": [
    {
     "name": "stdout",
     "output_type": "stream",
     "text": [
      "                   Final_Exam\n",
      "                        count\n",
      "GENDER GRADE_POINT           \n",
      "F      A                    9\n",
      "       B                   14\n",
      "       B+                  12\n",
      "       B-                  12\n",
      "       C                    8\n",
      "       C+                  15\n",
      "       C-                   4\n",
      "       D+                   5\n",
      "       F                    7\n",
      "M      A                   39\n",
      "       B                   18\n",
      "       B+                  13\n",
      "       B-                  16\n",
      "       C+                  16\n",
      "       C-                   5\n",
      "       F                    7\n"
     ]
    }
   ],
   "source": [
    "gr=(DGDD.groupby(['GENDER', 'GRADE_POINT'])\n",
    "   .agg({'Final_Exam':['count']\n",
    "#         'Gender':['count']\n",
    "        }))\n",
    "print (gr.head(40))"
   ]
  },
  {
   "cell_type": "code",
   "execution_count": 313,
   "metadata": {},
   "outputs": [],
   "source": [
    "#gr.to_csv('E:\\python\\data36\\gr.csv')"
   ]
  },
  {
   "cell_type": "code",
   "execution_count": 73,
   "metadata": {},
   "outputs": [
    {
     "data": {
      "text/html": [
       "<div>\n",
       "<style scoped>\n",
       "    .dataframe tbody tr th:only-of-type {\n",
       "        vertical-align: middle;\n",
       "    }\n",
       "\n",
       "    .dataframe tbody tr th {\n",
       "        vertical-align: top;\n",
       "    }\n",
       "\n",
       "    .dataframe thead th {\n",
       "        text-align: right;\n",
       "    }\n",
       "</style>\n",
       "<table border=\"1\" class=\"dataframe\">\n",
       "  <thead>\n",
       "    <tr style=\"text-align: right;\">\n",
       "      <th></th>\n",
       "      <th>STUDENT_ID</th>\n",
       "      <th>SEMESTER</th>\n",
       "      <th>TEST</th>\n",
       "      <th>COURSE_WORK</th>\n",
       "      <th>EXAM</th>\n",
       "      <th>Final_Exam</th>\n",
       "    </tr>\n",
       "  </thead>\n",
       "  <tbody>\n",
       "    <tr>\n",
       "      <th>count</th>\n",
       "      <td>200.000000</td>\n",
       "      <td>200.000000</td>\n",
       "      <td>200.000000</td>\n",
       "      <td>200.000000</td>\n",
       "      <td>200.000000</td>\n",
       "      <td>200.000000</td>\n",
       "    </tr>\n",
       "    <tr>\n",
       "      <th>mean</th>\n",
       "      <td>2734.970000</td>\n",
       "      <td>2.285000</td>\n",
       "      <td>15.300000</td>\n",
       "      <td>14.175000</td>\n",
       "      <td>38.600000</td>\n",
       "      <td>68.075000</td>\n",
       "    </tr>\n",
       "    <tr>\n",
       "      <th>std</th>\n",
       "      <td>87.803338</td>\n",
       "      <td>1.048461</td>\n",
       "      <td>4.287413</td>\n",
       "      <td>4.884019</td>\n",
       "      <td>12.393466</td>\n",
       "      <td>16.832888</td>\n",
       "    </tr>\n",
       "    <tr>\n",
       "      <th>min</th>\n",
       "      <td>2576.000000</td>\n",
       "      <td>1.000000</td>\n",
       "      <td>1.000000</td>\n",
       "      <td>1.000000</td>\n",
       "      <td>1.000000</td>\n",
       "      <td>3.000000</td>\n",
       "    </tr>\n",
       "    <tr>\n",
       "      <th>25%</th>\n",
       "      <td>2655.000000</td>\n",
       "      <td>1.000000</td>\n",
       "      <td>12.000000</td>\n",
       "      <td>10.000000</td>\n",
       "      <td>33.750000</td>\n",
       "      <td>60.750000</td>\n",
       "    </tr>\n",
       "    <tr>\n",
       "      <th>50%</th>\n",
       "      <td>2726.000000</td>\n",
       "      <td>3.000000</td>\n",
       "      <td>16.500000</td>\n",
       "      <td>15.000000</td>\n",
       "      <td>40.000000</td>\n",
       "      <td>70.000000</td>\n",
       "    </tr>\n",
       "    <tr>\n",
       "      <th>75%</th>\n",
       "      <td>2828.000000</td>\n",
       "      <td>3.000000</td>\n",
       "      <td>19.000000</td>\n",
       "      <td>19.000000</td>\n",
       "      <td>47.000000</td>\n",
       "      <td>79.000000</td>\n",
       "    </tr>\n",
       "    <tr>\n",
       "      <th>max</th>\n",
       "      <td>2871.000000</td>\n",
       "      <td>4.000000</td>\n",
       "      <td>20.000000</td>\n",
       "      <td>20.000000</td>\n",
       "      <td>59.000000</td>\n",
       "      <td>98.000000</td>\n",
       "    </tr>\n",
       "  </tbody>\n",
       "</table>\n",
       "</div>"
      ],
      "text/plain": [
       "        STUDENT_ID    SEMESTER        TEST  COURSE_WORK        EXAM  \\\n",
       "count   200.000000  200.000000  200.000000   200.000000  200.000000   \n",
       "mean   2734.970000    2.285000   15.300000    14.175000   38.600000   \n",
       "std      87.803338    1.048461    4.287413     4.884019   12.393466   \n",
       "min    2576.000000    1.000000    1.000000     1.000000    1.000000   \n",
       "25%    2655.000000    1.000000   12.000000    10.000000   33.750000   \n",
       "50%    2726.000000    3.000000   16.500000    15.000000   40.000000   \n",
       "75%    2828.000000    3.000000   19.000000    19.000000   47.000000   \n",
       "max    2871.000000    4.000000   20.000000    20.000000   59.000000   \n",
       "\n",
       "       Final_Exam  \n",
       "count  200.000000  \n",
       "mean    68.075000  \n",
       "std     16.832888  \n",
       "min      3.000000  \n",
       "25%     60.750000  \n",
       "50%     70.000000  \n",
       "75%     79.000000  \n",
       "max     98.000000  "
      ]
     },
     "execution_count": 73,
     "metadata": {},
     "output_type": "execute_result"
    }
   ],
   "source": [
    "DGDD.describe()"
   ]
  },
  {
   "cell_type": "code",
   "execution_count": 76,
   "metadata": {},
   "outputs": [
    {
     "data": {
      "text/html": [
       "<div>\n",
       "<style scoped>\n",
       "    .dataframe tbody tr th:only-of-type {\n",
       "        vertical-align: middle;\n",
       "    }\n",
       "\n",
       "    .dataframe tbody tr th {\n",
       "        vertical-align: top;\n",
       "    }\n",
       "\n",
       "    .dataframe thead th {\n",
       "        text-align: right;\n",
       "    }\n",
       "</style>\n",
       "<table border=\"1\" class=\"dataframe\">\n",
       "  <thead>\n",
       "    <tr style=\"text-align: right;\">\n",
       "      <th></th>\n",
       "      <th>STUDENT_ID</th>\n",
       "      <th>COURSE</th>\n",
       "      <th>COURSE_UNIT</th>\n",
       "      <th>SEMESTER</th>\n",
       "      <th>TEST</th>\n",
       "      <th>COURSE_WORK</th>\n",
       "      <th>EXAM</th>\n",
       "      <th>GRADE_POINT</th>\n",
       "      <th>GENDER</th>\n",
       "      <th>Final_Exam</th>\n",
       "    </tr>\n",
       "  </thead>\n",
       "  <tbody>\n",
       "    <tr>\n",
       "      <th>325</th>\n",
       "      <td>2706</td>\n",
       "      <td>CVTVP</td>\n",
       "      <td>CUSTOMER CARE</td>\n",
       "      <td>3</td>\n",
       "      <td>8</td>\n",
       "      <td>17</td>\n",
       "      <td>42</td>\n",
       "      <td>B-</td>\n",
       "      <td>M</td>\n",
       "      <td>67</td>\n",
       "    </tr>\n",
       "    <tr>\n",
       "      <th>326</th>\n",
       "      <td>2706</td>\n",
       "      <td>CVTVP</td>\n",
       "      <td>PREMIER PRO I</td>\n",
       "      <td>3</td>\n",
       "      <td>19</td>\n",
       "      <td>16</td>\n",
       "      <td>50</td>\n",
       "      <td>A</td>\n",
       "      <td>M</td>\n",
       "      <td>85</td>\n",
       "    </tr>\n",
       "    <tr>\n",
       "      <th>327</th>\n",
       "      <td>2706</td>\n",
       "      <td>CVTVP</td>\n",
       "      <td>COMPOSITION PRINCIPLES</td>\n",
       "      <td>3</td>\n",
       "      <td>19</td>\n",
       "      <td>14</td>\n",
       "      <td>56</td>\n",
       "      <td>A</td>\n",
       "      <td>M</td>\n",
       "      <td>89</td>\n",
       "    </tr>\n",
       "    <tr>\n",
       "      <th>328</th>\n",
       "      <td>2649</td>\n",
       "      <td>CVTVP</td>\n",
       "      <td>CUSTOMER CARE</td>\n",
       "      <td>3</td>\n",
       "      <td>18</td>\n",
       "      <td>12</td>\n",
       "      <td>57</td>\n",
       "      <td>A</td>\n",
       "      <td>F</td>\n",
       "      <td>87</td>\n",
       "    </tr>\n",
       "    <tr>\n",
       "      <th>329</th>\n",
       "      <td>2649</td>\n",
       "      <td>CVTVP</td>\n",
       "      <td>PREMIOR PRO I</td>\n",
       "      <td>3</td>\n",
       "      <td>8</td>\n",
       "      <td>17</td>\n",
       "      <td>42</td>\n",
       "      <td>B-</td>\n",
       "      <td>F</td>\n",
       "      <td>67</td>\n",
       "    </tr>\n",
       "    <tr>\n",
       "      <th>330</th>\n",
       "      <td>2649</td>\n",
       "      <td>CVTVP</td>\n",
       "      <td>COMPOSITION PRINCIPLES</td>\n",
       "      <td>3</td>\n",
       "      <td>18</td>\n",
       "      <td>17</td>\n",
       "      <td>54</td>\n",
       "      <td>A</td>\n",
       "      <td>F</td>\n",
       "      <td>89</td>\n",
       "    </tr>\n",
       "  </tbody>\n",
       "</table>\n",
       "</div>"
      ],
      "text/plain": [
       "     STUDENT_ID COURSE             COURSE_UNIT  SEMESTER  TEST  COURSE_WORK  \\\n",
       "325        2706  CVTVP           CUSTOMER CARE         3     8           17   \n",
       "326        2706  CVTVP           PREMIER PRO I         3    19           16   \n",
       "327        2706  CVTVP  COMPOSITION PRINCIPLES         3    19           14   \n",
       "328        2649  CVTVP           CUSTOMER CARE         3    18           12   \n",
       "329        2649  CVTVP           PREMIOR PRO I         3     8           17   \n",
       "330        2649  CVTVP  COMPOSITION PRINCIPLES         3    18           17   \n",
       "\n",
       "     EXAM GRADE_POINT GENDER  Final_Exam  \n",
       "325    42          B-      M          67  \n",
       "326    50           A      M          85  \n",
       "327    56           A      M          89  \n",
       "328    57           A      F          87  \n",
       "329    42          B-      F          67  \n",
       "330    54           A      F          89  "
      ]
     },
     "execution_count": 76,
     "metadata": {},
     "output_type": "execute_result"
    }
   ],
   "source": [
    "df[df['COURSE'].str.match('CVTVP')]"
   ]
  },
  {
   "cell_type": "markdown",
   "metadata": {},
   "source": [
    "# LOOKING AT CGDD in the department of Graphics"
   ]
  },
  {
   "cell_type": "code",
   "execution_count": 77,
   "metadata": {},
   "outputs": [],
   "source": [
    "CGDD = df[df['COURSE'] == \"CGDD\"]"
   ]
  },
  {
   "cell_type": "code",
   "execution_count": 78,
   "metadata": {},
   "outputs": [
    {
     "data": {
      "text/plain": [
       "17"
      ]
     },
     "execution_count": 78,
     "metadata": {},
     "output_type": "execute_result"
    }
   ],
   "source": [
    "len(CGDD.STUDENT_ID.unique())"
   ]
  },
  {
   "cell_type": "code",
   "execution_count": 79,
   "metadata": {},
   "outputs": [
    {
     "data": {
      "text/html": [
       "<div>\n",
       "<style scoped>\n",
       "    .dataframe tbody tr th:only-of-type {\n",
       "        vertical-align: middle;\n",
       "    }\n",
       "\n",
       "    .dataframe tbody tr th {\n",
       "        vertical-align: top;\n",
       "    }\n",
       "\n",
       "    .dataframe thead th {\n",
       "        text-align: right;\n",
       "    }\n",
       "</style>\n",
       "<table border=\"1\" class=\"dataframe\">\n",
       "  <thead>\n",
       "    <tr style=\"text-align: right;\">\n",
       "      <th></th>\n",
       "      <th>STUDENT_ID</th>\n",
       "      <th>SEMESTER</th>\n",
       "      <th>TEST</th>\n",
       "      <th>COURSE_WORK</th>\n",
       "      <th>EXAM</th>\n",
       "      <th>Final_Exam</th>\n",
       "    </tr>\n",
       "  </thead>\n",
       "  <tbody>\n",
       "    <tr>\n",
       "      <th>count</th>\n",
       "      <td>73.000000</td>\n",
       "      <td>73.00000</td>\n",
       "      <td>73.000000</td>\n",
       "      <td>73.000000</td>\n",
       "      <td>73.000000</td>\n",
       "      <td>73.000000</td>\n",
       "    </tr>\n",
       "    <tr>\n",
       "      <th>mean</th>\n",
       "      <td>2806.178082</td>\n",
       "      <td>1.60274</td>\n",
       "      <td>13.123288</td>\n",
       "      <td>12.041096</td>\n",
       "      <td>31.287671</td>\n",
       "      <td>56.452055</td>\n",
       "    </tr>\n",
       "    <tr>\n",
       "      <th>std</th>\n",
       "      <td>63.923857</td>\n",
       "      <td>0.79477</td>\n",
       "      <td>4.705036</td>\n",
       "      <td>5.070170</td>\n",
       "      <td>13.025061</td>\n",
       "      <td>19.435821</td>\n",
       "    </tr>\n",
       "    <tr>\n",
       "      <th>min</th>\n",
       "      <td>2592.000000</td>\n",
       "      <td>1.00000</td>\n",
       "      <td>1.000000</td>\n",
       "      <td>1.000000</td>\n",
       "      <td>1.000000</td>\n",
       "      <td>3.000000</td>\n",
       "    </tr>\n",
       "    <tr>\n",
       "      <th>25%</th>\n",
       "      <td>2773.000000</td>\n",
       "      <td>1.00000</td>\n",
       "      <td>10.000000</td>\n",
       "      <td>8.000000</td>\n",
       "      <td>25.000000</td>\n",
       "      <td>43.000000</td>\n",
       "    </tr>\n",
       "    <tr>\n",
       "      <th>50%</th>\n",
       "      <td>2805.000000</td>\n",
       "      <td>1.00000</td>\n",
       "      <td>14.000000</td>\n",
       "      <td>13.000000</td>\n",
       "      <td>33.000000</td>\n",
       "      <td>61.000000</td>\n",
       "    </tr>\n",
       "    <tr>\n",
       "      <th>75%</th>\n",
       "      <td>2856.000000</td>\n",
       "      <td>2.00000</td>\n",
       "      <td>17.000000</td>\n",
       "      <td>16.000000</td>\n",
       "      <td>41.000000</td>\n",
       "      <td>71.000000</td>\n",
       "    </tr>\n",
       "    <tr>\n",
       "      <th>max</th>\n",
       "      <td>2873.000000</td>\n",
       "      <td>4.00000</td>\n",
       "      <td>20.000000</td>\n",
       "      <td>20.000000</td>\n",
       "      <td>56.000000</td>\n",
       "      <td>91.000000</td>\n",
       "    </tr>\n",
       "  </tbody>\n",
       "</table>\n",
       "</div>"
      ],
      "text/plain": [
       "        STUDENT_ID  SEMESTER       TEST  COURSE_WORK       EXAM  Final_Exam\n",
       "count    73.000000  73.00000  73.000000    73.000000  73.000000   73.000000\n",
       "mean   2806.178082   1.60274  13.123288    12.041096  31.287671   56.452055\n",
       "std      63.923857   0.79477   4.705036     5.070170  13.025061   19.435821\n",
       "min    2592.000000   1.00000   1.000000     1.000000   1.000000    3.000000\n",
       "25%    2773.000000   1.00000  10.000000     8.000000  25.000000   43.000000\n",
       "50%    2805.000000   1.00000  14.000000    13.000000  33.000000   61.000000\n",
       "75%    2856.000000   2.00000  17.000000    16.000000  41.000000   71.000000\n",
       "max    2873.000000   4.00000  20.000000    20.000000  56.000000   91.000000"
      ]
     },
     "execution_count": 79,
     "metadata": {},
     "output_type": "execute_result"
    }
   ],
   "source": [
    "CGDD.describe()"
   ]
  },
  {
   "cell_type": "code",
   "execution_count": 80,
   "metadata": {},
   "outputs": [
    {
     "data": {
      "text/plain": [
       "GENDER\n",
       "F    10\n",
       "M     7\n",
       "Name: STUDENT_ID, dtype: int64"
      ]
     },
     "execution_count": 80,
     "metadata": {},
     "output_type": "execute_result"
    }
   ],
   "source": [
    "CGDD.groupby('GENDER')['STUDENT_ID'].nunique()"
   ]
  },
  {
   "cell_type": "code",
   "execution_count": 93,
   "metadata": {},
   "outputs": [
    {
     "data": {
      "text/plain": [
       "GENDER\n",
       "F    55.680851\n",
       "M    57.846154\n",
       "Name: Final_Exam, dtype: float64"
      ]
     },
     "execution_count": 93,
     "metadata": {},
     "output_type": "execute_result"
    }
   ],
   "source": [
    "CGDD.groupby('GENDER')['Final_Exam'].mean()"
   ]
  },
  {
   "cell_type": "code",
   "execution_count": 94,
   "metadata": {},
   "outputs": [
    {
     "data": {
      "image/png": "[encoded data removed]",
      "text/plain": [
       "<Figure size 1152x720 with 1 Axes>"
      ]
     },
     "metadata": {},
     "output_type": "display_data"
    }
   ],
   "source": [
    "(CGDD.groupby('GENDER')['Final_Exam'].mean()).plot(kind='Bar')\n",
    "plt.title('Performance per gender', fontsize=25)\n",
    "plt.xlabel('Gender ', fontsize=25)\n",
    "plt.ylabel('Mean percentage mark',fontsize=25)\n",
    "plt.xticks(rotation=60,fontsize=25)\n",
    "#plt.legend()\n",
    "plt.show()"
   ]
  },
  {
   "cell_type": "code",
   "execution_count": 95,
   "metadata": {},
   "outputs": [
    {
     "data": {
      "text/plain": [
       "STUDENT_ID\n",
       "2797    31.250000\n",
       "2858    44.166667\n",
       "2856    45.333333\n",
       "2805    46.600000\n",
       "2824    47.500000\n",
       "2760    47.750000\n",
       "2799    48.500000\n",
       "2873    56.500000\n",
       "2712    62.333333\n",
       "2592    64.000000\n",
       "2773    65.333333\n",
       "2870    66.400000\n",
       "2803    70.000000\n",
       "2711    71.000000\n",
       "2771    71.250000\n",
       "2851    73.500000\n",
       "2778    77.333333\n",
       "Name: Final_Exam, dtype: float64"
      ]
     },
     "execution_count": 95,
     "metadata": {},
     "output_type": "execute_result"
    }
   ],
   "source": [
    "CGDD.groupby('STUDENT_ID')['Final_Exam'].mean().sort_values()"
   ]
  },
  {
   "cell_type": "code",
   "execution_count": 96,
   "metadata": {},
   "outputs": [
    {
     "name": "stderr",
     "output_type": "stream",
     "text": [
      "C:\\Users\\Academic Registra\\Anaconda3\\lib\\site-packages\\scipy\\stats\\stats.py:1713: FutureWarning: Using a non-tuple sequence for multidimensional indexing is deprecated; use `arr[tuple(seq)]` instead of `arr[seq]`. In the future this will be interpreted as an array index, `arr[np.array(seq)]`, which will result either in an error or a different result.\n",
      "  return np.add.reduce(sorted[indexer] * weights, axis=axis) / sumval\n"
     ]
    },
    {
     "data": {
      "image/png": "[encoded data removed]",
      "text/plain": [
       "<Figure size 1152x720 with 1 Axes>"
      ]
     },
     "metadata": {},
     "output_type": "display_data"
    }
   ],
   "source": [
    "xC = CGDD['Final_Exam']\n",
    "sns.distplot(xC)\n",
    "plt.title('Perfomance  \\n ', fontsize=25)\n",
    "plt.xlabel('Total (x/100)', fontsize=25)\n",
    "plt.show()"
   ]
  },
  {
   "cell_type": "code",
   "execution_count": 100,
   "metadata": {},
   "outputs": [
    {
     "name": "stdout",
     "output_type": "stream",
     "text": [
      "65.75342465753424\n",
      "34.24657534246575\n"
     ]
    }
   ],
   "source": [
    "finalC =CGDD['Final_Exam']\n",
    "\n",
    "print ((finalC[finalC >= 50.0 ].count() /finalC.count())*100)\n",
    "print ((finalC[finalC < 50.0 ].count() /finalC.count())*100)"
   ]
  },
  {
   "cell_type": "code",
   "execution_count": 102,
   "metadata": {},
   "outputs": [
    {
     "name": "stdout",
     "output_type": "stream",
     "text": [
      "                   Final_Exam\n",
      "                        count\n",
      "GENDER GRADE_POINT           \n",
      "F      A                    5\n",
      "       B                    2\n",
      "       B+                   6\n",
      "       B-                   4\n",
      "       C                    4\n",
      "       C+                   4\n",
      "       C-                   4\n",
      "       D+                   2\n",
      "       F                   16\n",
      "M      A                    3\n",
      "       B                    2\n",
      "       B+                   1\n",
      "       B-                   2\n",
      "       C+                   9\n",
      "       C-                   2\n",
      "       D+                   3\n",
      "       F                    4\n"
     ]
    }
   ],
   "source": [
    "gr=(CGDD.groupby(['GENDER', 'GRADE_POINT'])\n",
    "   .agg({'Final_Exam':['count']\n",
    "#         'Gender':['count']\n",
    "        }))\n",
    "print (gr.head(40))"
   ]
  },
  {
   "cell_type": "code",
   "execution_count": 121,
   "metadata": {},
   "outputs": [
    {
     "name": "stdout",
     "output_type": "stream",
     "text": [
      "                     Final_Exam\n",
      "                          count\n",
      "SEMESTER GRADE_POINT           \n",
      "1        A                    3\n",
      "         B                    1\n",
      "         B+                   5\n",
      "         B-                   3\n",
      "         C                    2\n",
      "         C+                   6\n",
      "         C-                   3\n",
      "         D+                   4\n",
      "         F                   13\n",
      "2        A                    5\n",
      "         B                    1\n",
      "         B+                   1\n",
      "         B-                   2\n",
      "         C                    2\n",
      "         C+                   5\n",
      "         C-                   1\n",
      "         D+                   1\n",
      "         F                    7\n",
      "3        B                    1\n",
      "         B+                   1\n",
      "         C+                   2\n",
      "         C-                   1\n",
      "4        B                    1\n",
      "         B-                   1\n",
      "         C-                   1\n"
     ]
    }
   ],
   "source": [
    "gr=(CGDD.groupby(['SEMESTER', 'GRADE_POINT'])\n",
    "   .agg({'Final_Exam':['count']\n",
    "#         'Gender':['count']\n",
    "        }))\n",
    "print (gr.head(40))"
   ]
  },
  {
   "cell_type": "code",
   "execution_count": 108,
   "metadata": {},
   "outputs": [
    {
     "data": {
      "text/plain": [
       "COURSE_UNIT\n",
       "3D MODELING WITH WINGS 3D       1\n",
       "ILLUSTRATOR                     1\n",
       "INDSIGN I                       1\n",
       "MAJOR WORK                      1\n",
       "PHOTOSHOP                       2\n",
       "FIREWORKS                       3\n",
       "ENTREPRENEURSHIP                4\n",
       "DRAWING I                       6\n",
       "ICT FUNDAMENTAL                 6\n",
       "INDESIGN I                      6\n",
       "BUSINESS COMMUNICATION SKILL    7\n",
       "CORELDRAW                       7\n",
       "CUSTOMER CARE                   7\n",
       "DRAWING II                      7\n",
       "ENGLISH                         7\n",
       "INDESIGN II                     7\n",
       "Name: STUDENT_ID, dtype: int64"
      ]
     },
     "execution_count": 108,
     "metadata": {},
     "output_type": "execute_result"
    }
   ],
   "source": [
    "CGDD.groupby('COURSE_UNIT')['STUDENT_ID'].nunique().sort_values()"
   ]
  },
  {
   "cell_type": "code",
   "execution_count": 117,
   "metadata": {},
   "outputs": [
    {
     "data": {
      "text/plain": [
       "SEMESTER\n",
       "4    72\n",
       "3    79\n",
       "1    85\n",
       "2    91\n",
       "Name: Final_Exam, dtype: int64"
      ]
     },
     "execution_count": 117,
     "metadata": {},
     "output_type": "execute_result"
    }
   ],
   "source": [
    "CGDD.groupby('SEMESTER')['Final_Exam'].max().sort_values()"
   ]
  },
  {
   "cell_type": "code",
   "execution_count": 120,
   "metadata": {},
   "outputs": [
    {
     "data": {
      "text/plain": [
       "SEMESTER\n",
       "1    9\n",
       "2    9\n",
       "3    4\n",
       "4    3\n",
       "Name: GRADE_POINT, dtype: int64"
      ]
     },
     "execution_count": 120,
     "metadata": {},
     "output_type": "execute_result"
    }
   ],
   "source": [
    "CGDD.groupby('SEMESTER')['GRADE_POINT'].nunique()"
   ]
  },
  {
   "cell_type": "code",
   "execution_count": 109,
   "metadata": {},
   "outputs": [
    {
     "data": {
      "text/plain": [
       "STUDENT_ID     17\n",
       "COURSE          1\n",
       "COURSE_UNIT    16\n",
       "SEMESTER        4\n",
       "TEST           16\n",
       "COURSE_WORK    19\n",
       "EXAM           35\n",
       "GRADE_POINT     9\n",
       "GENDER          2\n",
       "Final_Exam     48\n",
       "dtype: int64"
      ]
     },
     "execution_count": 109,
     "metadata": {},
     "output_type": "execute_result"
    }
   ],
   "source": [
    "CGDD.nunique()"
   ]
  },
  {
   "cell_type": "code",
   "execution_count": 122,
   "metadata": {},
   "outputs": [
    {
     "data": {
      "text/html": [
       "<div>\n",
       "<style scoped>\n",
       "    .dataframe tbody tr th:only-of-type {\n",
       "        vertical-align: middle;\n",
       "    }\n",
       "\n",
       "    .dataframe tbody tr th {\n",
       "        vertical-align: top;\n",
       "    }\n",
       "\n",
       "    .dataframe thead th {\n",
       "        text-align: right;\n",
       "    }\n",
       "</style>\n",
       "<table border=\"1\" class=\"dataframe\">\n",
       "  <thead>\n",
       "    <tr style=\"text-align: right;\">\n",
       "      <th></th>\n",
       "      <th>STUDENT_ID</th>\n",
       "      <th>COURSE</th>\n",
       "      <th>COURSE_UNIT</th>\n",
       "      <th>SEMESTER</th>\n",
       "      <th>TEST</th>\n",
       "      <th>COURSE_WORK</th>\n",
       "      <th>EXAM</th>\n",
       "      <th>GRADE_POINT</th>\n",
       "      <th>GENDER</th>\n",
       "      <th>Final_Exam</th>\n",
       "    </tr>\n",
       "  </thead>\n",
       "  <tbody>\n",
       "    <tr>\n",
       "      <th>65</th>\n",
       "      <td>2858</td>\n",
       "      <td>CGDD</td>\n",
       "      <td>BUSINESS COMMUNICATION SKILL</td>\n",
       "      <td>1</td>\n",
       "      <td>1</td>\n",
       "      <td>1</td>\n",
       "      <td>1</td>\n",
       "      <td>F</td>\n",
       "      <td>M</td>\n",
       "      <td>3</td>\n",
       "    </tr>\n",
       "  </tbody>\n",
       "</table>\n",
       "</div>"
      ],
      "text/plain": [
       "    STUDENT_ID COURSE                   COURSE_UNIT  SEMESTER  TEST  \\\n",
       "65        2858   CGDD  BUSINESS COMMUNICATION SKILL         1     1   \n",
       "\n",
       "    COURSE_WORK  EXAM GRADE_POINT GENDER  Final_Exam  \n",
       "65            1     1           F      M           3  "
      ]
     },
     "execution_count": 122,
     "metadata": {},
     "output_type": "execute_result"
    }
   ],
   "source": [
    "(CGDD[(CGDD['Final_Exam'] <= 3) & (CGDD['COURSE_UNIT'] )])"
   ]
  },
  {
   "cell_type": "code",
   "execution_count": 128,
   "metadata": {},
   "outputs": [
    {
     "data": {
      "text/plain": [
       "COURSE\n",
       "CCS       1\n",
       "CEE       1\n",
       "CIT       1\n",
       "CMM       1\n",
       "DEE       1\n",
       "DIT       1\n",
       "CVTVP     2\n",
       "DMM       3\n",
       "DAD       4\n",
       "DVTVP     4\n",
       "CGDD     17\n",
       "DGDD     43\n",
       "Name: STUDENT_ID, dtype: int64"
      ]
     },
     "execution_count": 128,
     "metadata": {},
     "output_type": "execute_result"
    }
   ],
   "source": [
    "df.groupby('COURSE')['STUDENT_ID'].nunique().sort_values()"
   ]
  },
  {
   "cell_type": "markdown",
   "metadata": {},
   "source": [
    "# diploma and certificate in video editing and production "
   ]
  },
  {
   "cell_type": "code",
   "execution_count": 200,
   "metadata": {},
   "outputs": [],
   "source": [
    "VTVP =df[df['COURSE'].str.contains('VTVP')]"
   ]
  },
  {
   "cell_type": "code",
   "execution_count": 201,
   "metadata": {},
   "outputs": [
    {
     "data": {
      "text/html": [
       "<div>\n",
       "<style scoped>\n",
       "    .dataframe tbody tr th:only-of-type {\n",
       "        vertical-align: middle;\n",
       "    }\n",
       "\n",
       "    .dataframe tbody tr th {\n",
       "        vertical-align: top;\n",
       "    }\n",
       "\n",
       "    .dataframe thead th {\n",
       "        text-align: right;\n",
       "    }\n",
       "</style>\n",
       "<table border=\"1\" class=\"dataframe\">\n",
       "  <thead>\n",
       "    <tr style=\"text-align: right;\">\n",
       "      <th></th>\n",
       "      <th>STUDENT_ID</th>\n",
       "      <th>COURSE</th>\n",
       "      <th>COURSE_UNIT</th>\n",
       "      <th>SEMESTER</th>\n",
       "      <th>TEST</th>\n",
       "      <th>COURSE_WORK</th>\n",
       "      <th>EXAM</th>\n",
       "      <th>GRADE_POINT</th>\n",
       "      <th>GENDER</th>\n",
       "      <th>Final_Exam</th>\n",
       "    </tr>\n",
       "  </thead>\n",
       "  <tbody>\n",
       "    <tr>\n",
       "      <th>118</th>\n",
       "      <td>2831</td>\n",
       "      <td>DVTVP</td>\n",
       "      <td>BUSINESS COMMUNICATION SKILL</td>\n",
       "      <td>1</td>\n",
       "      <td>18</td>\n",
       "      <td>11</td>\n",
       "      <td>34</td>\n",
       "      <td>C+</td>\n",
       "      <td>M</td>\n",
       "      <td>63</td>\n",
       "    </tr>\n",
       "    <tr>\n",
       "      <th>119</th>\n",
       "      <td>2831</td>\n",
       "      <td>DVTVP</td>\n",
       "      <td>TV PRODUCTION THEORY</td>\n",
       "      <td>1</td>\n",
       "      <td>17</td>\n",
       "      <td>15</td>\n",
       "      <td>45</td>\n",
       "      <td>B+</td>\n",
       "      <td>M</td>\n",
       "      <td>77</td>\n",
       "    </tr>\n",
       "    <tr>\n",
       "      <th>120</th>\n",
       "      <td>2831</td>\n",
       "      <td>DVTVP</td>\n",
       "      <td>COLOR THEORY</td>\n",
       "      <td>1</td>\n",
       "      <td>10</td>\n",
       "      <td>18</td>\n",
       "      <td>40</td>\n",
       "      <td>B-</td>\n",
       "      <td>M</td>\n",
       "      <td>68</td>\n",
       "    </tr>\n",
       "    <tr>\n",
       "      <th>121</th>\n",
       "      <td>2831</td>\n",
       "      <td>DVTVP</td>\n",
       "      <td>ICT FUNDAMENTAL</td>\n",
       "      <td>1</td>\n",
       "      <td>16</td>\n",
       "      <td>17</td>\n",
       "      <td>22</td>\n",
       "      <td>C</td>\n",
       "      <td>M</td>\n",
       "      <td>55</td>\n",
       "    </tr>\n",
       "    <tr>\n",
       "      <th>122</th>\n",
       "      <td>2831</td>\n",
       "      <td>DVTVP</td>\n",
       "      <td>ENGLISH</td>\n",
       "      <td>1</td>\n",
       "      <td>16</td>\n",
       "      <td>20</td>\n",
       "      <td>43</td>\n",
       "      <td>B+</td>\n",
       "      <td>M</td>\n",
       "      <td>79</td>\n",
       "    </tr>\n",
       "    <tr>\n",
       "      <th>130</th>\n",
       "      <td>2768</td>\n",
       "      <td>DVTVP</td>\n",
       "      <td>ICT FUNDAMENTAL</td>\n",
       "      <td>1</td>\n",
       "      <td>17</td>\n",
       "      <td>16</td>\n",
       "      <td>43</td>\n",
       "      <td>B+</td>\n",
       "      <td>M</td>\n",
       "      <td>76</td>\n",
       "    </tr>\n",
       "    <tr>\n",
       "      <th>131</th>\n",
       "      <td>2768</td>\n",
       "      <td>DVTVP</td>\n",
       "      <td>BUSINESS COMMUNICATION SKILL</td>\n",
       "      <td>1</td>\n",
       "      <td>20</td>\n",
       "      <td>12</td>\n",
       "      <td>52</td>\n",
       "      <td>A</td>\n",
       "      <td>M</td>\n",
       "      <td>84</td>\n",
       "    </tr>\n",
       "    <tr>\n",
       "      <th>132</th>\n",
       "      <td>2768</td>\n",
       "      <td>DVTVP</td>\n",
       "      <td>COLOR THEORY</td>\n",
       "      <td>1</td>\n",
       "      <td>14</td>\n",
       "      <td>16</td>\n",
       "      <td>44</td>\n",
       "      <td>B</td>\n",
       "      <td>M</td>\n",
       "      <td>74</td>\n",
       "    </tr>\n",
       "    <tr>\n",
       "      <th>133</th>\n",
       "      <td>2768</td>\n",
       "      <td>DVTVP</td>\n",
       "      <td>ENGLISH</td>\n",
       "      <td>1</td>\n",
       "      <td>14</td>\n",
       "      <td>20</td>\n",
       "      <td>41</td>\n",
       "      <td>B+</td>\n",
       "      <td>M</td>\n",
       "      <td>75</td>\n",
       "    </tr>\n",
       "    <tr>\n",
       "      <th>134</th>\n",
       "      <td>2768</td>\n",
       "      <td>DVTVP</td>\n",
       "      <td>ENTREPRENEURSHIP</td>\n",
       "      <td>1</td>\n",
       "      <td>18</td>\n",
       "      <td>12</td>\n",
       "      <td>33</td>\n",
       "      <td>C+</td>\n",
       "      <td>M</td>\n",
       "      <td>63</td>\n",
       "    </tr>\n",
       "    <tr>\n",
       "      <th>135</th>\n",
       "      <td>2662</td>\n",
       "      <td>DVTVP</td>\n",
       "      <td>BUSINESS COMMUNICATION SKILL</td>\n",
       "      <td>1</td>\n",
       "      <td>20</td>\n",
       "      <td>18</td>\n",
       "      <td>57</td>\n",
       "      <td>A</td>\n",
       "      <td>M</td>\n",
       "      <td>95</td>\n",
       "    </tr>\n",
       "    <tr>\n",
       "      <th>136</th>\n",
       "      <td>2662</td>\n",
       "      <td>DVTVP</td>\n",
       "      <td>ENTREPRENEURSHIP</td>\n",
       "      <td>1</td>\n",
       "      <td>18</td>\n",
       "      <td>18</td>\n",
       "      <td>47</td>\n",
       "      <td>A</td>\n",
       "      <td>M</td>\n",
       "      <td>83</td>\n",
       "    </tr>\n",
       "    <tr>\n",
       "      <th>137</th>\n",
       "      <td>2662</td>\n",
       "      <td>DVTVP</td>\n",
       "      <td>ICT FUNDAMENTAL</td>\n",
       "      <td>1</td>\n",
       "      <td>18</td>\n",
       "      <td>15</td>\n",
       "      <td>44</td>\n",
       "      <td>B+</td>\n",
       "      <td>M</td>\n",
       "      <td>77</td>\n",
       "    </tr>\n",
       "    <tr>\n",
       "      <th>138</th>\n",
       "      <td>2662</td>\n",
       "      <td>DVTVP</td>\n",
       "      <td>ENGLISH</td>\n",
       "      <td>1</td>\n",
       "      <td>17</td>\n",
       "      <td>15</td>\n",
       "      <td>42</td>\n",
       "      <td>B</td>\n",
       "      <td>M</td>\n",
       "      <td>74</td>\n",
       "    </tr>\n",
       "    <tr>\n",
       "      <th>139</th>\n",
       "      <td>2662</td>\n",
       "      <td>DVTVP</td>\n",
       "      <td>COLOR THEORY</td>\n",
       "      <td>1</td>\n",
       "      <td>17</td>\n",
       "      <td>14</td>\n",
       "      <td>40</td>\n",
       "      <td>B</td>\n",
       "      <td>M</td>\n",
       "      <td>71</td>\n",
       "    </tr>\n",
       "    <tr>\n",
       "      <th>325</th>\n",
       "      <td>2706</td>\n",
       "      <td>CVTVP</td>\n",
       "      <td>CUSTOMER CARE</td>\n",
       "      <td>3</td>\n",
       "      <td>8</td>\n",
       "      <td>17</td>\n",
       "      <td>42</td>\n",
       "      <td>B-</td>\n",
       "      <td>M</td>\n",
       "      <td>67</td>\n",
       "    </tr>\n",
       "    <tr>\n",
       "      <th>326</th>\n",
       "      <td>2706</td>\n",
       "      <td>CVTVP</td>\n",
       "      <td>PREMIER PRO I</td>\n",
       "      <td>3</td>\n",
       "      <td>19</td>\n",
       "      <td>16</td>\n",
       "      <td>50</td>\n",
       "      <td>A</td>\n",
       "      <td>M</td>\n",
       "      <td>85</td>\n",
       "    </tr>\n",
       "    <tr>\n",
       "      <th>327</th>\n",
       "      <td>2706</td>\n",
       "      <td>CVTVP</td>\n",
       "      <td>COMPOSITION PRINCIPLES</td>\n",
       "      <td>3</td>\n",
       "      <td>19</td>\n",
       "      <td>14</td>\n",
       "      <td>56</td>\n",
       "      <td>A</td>\n",
       "      <td>M</td>\n",
       "      <td>89</td>\n",
       "    </tr>\n",
       "    <tr>\n",
       "      <th>328</th>\n",
       "      <td>2649</td>\n",
       "      <td>CVTVP</td>\n",
       "      <td>CUSTOMER CARE</td>\n",
       "      <td>3</td>\n",
       "      <td>18</td>\n",
       "      <td>12</td>\n",
       "      <td>57</td>\n",
       "      <td>A</td>\n",
       "      <td>F</td>\n",
       "      <td>87</td>\n",
       "    </tr>\n",
       "    <tr>\n",
       "      <th>329</th>\n",
       "      <td>2649</td>\n",
       "      <td>CVTVP</td>\n",
       "      <td>PREMIER PRO I</td>\n",
       "      <td>3</td>\n",
       "      <td>8</td>\n",
       "      <td>17</td>\n",
       "      <td>42</td>\n",
       "      <td>B-</td>\n",
       "      <td>F</td>\n",
       "      <td>67</td>\n",
       "    </tr>\n",
       "    <tr>\n",
       "      <th>330</th>\n",
       "      <td>2649</td>\n",
       "      <td>CVTVP</td>\n",
       "      <td>COMPOSITION PRINCIPLES</td>\n",
       "      <td>3</td>\n",
       "      <td>18</td>\n",
       "      <td>17</td>\n",
       "      <td>54</td>\n",
       "      <td>A</td>\n",
       "      <td>F</td>\n",
       "      <td>89</td>\n",
       "    </tr>\n",
       "    <tr>\n",
       "      <th>351</th>\n",
       "      <td>2573</td>\n",
       "      <td>DVTVP</td>\n",
       "      <td>PROPOSAL WRITING</td>\n",
       "      <td>4</td>\n",
       "      <td>17</td>\n",
       "      <td>19</td>\n",
       "      <td>58</td>\n",
       "      <td>A</td>\n",
       "      <td>M</td>\n",
       "      <td>94</td>\n",
       "    </tr>\n",
       "    <tr>\n",
       "      <th>352</th>\n",
       "      <td>2573</td>\n",
       "      <td>DVTVP</td>\n",
       "      <td>PROJECT PRESENTATION</td>\n",
       "      <td>4</td>\n",
       "      <td>17</td>\n",
       "      <td>18</td>\n",
       "      <td>52</td>\n",
       "      <td>A</td>\n",
       "      <td>M</td>\n",
       "      <td>87</td>\n",
       "    </tr>\n",
       "    <tr>\n",
       "      <th>353</th>\n",
       "      <td>2573</td>\n",
       "      <td>DVTVP</td>\n",
       "      <td>AFTER EFFECTS II</td>\n",
       "      <td>4</td>\n",
       "      <td>20</td>\n",
       "      <td>17</td>\n",
       "      <td>45</td>\n",
       "      <td>A</td>\n",
       "      <td>M</td>\n",
       "      <td>82</td>\n",
       "    </tr>\n",
       "    <tr>\n",
       "      <th>354</th>\n",
       "      <td>2573</td>\n",
       "      <td>DVTVP</td>\n",
       "      <td>3D MODELING WITH BLENDER 3D</td>\n",
       "      <td>4</td>\n",
       "      <td>20</td>\n",
       "      <td>17</td>\n",
       "      <td>50</td>\n",
       "      <td>A</td>\n",
       "      <td>M</td>\n",
       "      <td>87</td>\n",
       "    </tr>\n",
       "  </tbody>\n",
       "</table>\n",
       "</div>"
      ],
      "text/plain": [
       "     STUDENT_ID COURSE                   COURSE_UNIT  SEMESTER  TEST  \\\n",
       "118        2831  DVTVP  BUSINESS COMMUNICATION SKILL         1    18   \n",
       "119        2831  DVTVP          TV PRODUCTION THEORY         1    17   \n",
       "120        2831  DVTVP                  COLOR THEORY         1    10   \n",
       "121        2831  DVTVP               ICT FUNDAMENTAL         1    16   \n",
       "122        2831  DVTVP                       ENGLISH         1    16   \n",
       "130        2768  DVTVP               ICT FUNDAMENTAL         1    17   \n",
       "131        2768  DVTVP  BUSINESS COMMUNICATION SKILL         1    20   \n",
       "132        2768  DVTVP                  COLOR THEORY         1    14   \n",
       "133        2768  DVTVP                       ENGLISH         1    14   \n",
       "134        2768  DVTVP              ENTREPRENEURSHIP         1    18   \n",
       "135        2662  DVTVP  BUSINESS COMMUNICATION SKILL         1    20   \n",
       "136        2662  DVTVP              ENTREPRENEURSHIP         1    18   \n",
       "137        2662  DVTVP               ICT FUNDAMENTAL         1    18   \n",
       "138        2662  DVTVP                       ENGLISH         1    17   \n",
       "139        2662  DVTVP                  COLOR THEORY         1    17   \n",
       "325        2706  CVTVP                 CUSTOMER CARE         3     8   \n",
       "326        2706  CVTVP                 PREMIER PRO I         3    19   \n",
       "327        2706  CVTVP        COMPOSITION PRINCIPLES         3    19   \n",
       "328        2649  CVTVP                 CUSTOMER CARE         3    18   \n",
       "329        2649  CVTVP                 PREMIER PRO I         3     8   \n",
       "330        2649  CVTVP        COMPOSITION PRINCIPLES         3    18   \n",
       "351        2573  DVTVP              PROPOSAL WRITING         4    17   \n",
       "352        2573  DVTVP          PROJECT PRESENTATION         4    17   \n",
       "353        2573  DVTVP              AFTER EFFECTS II         4    20   \n",
       "354        2573  DVTVP   3D MODELING WITH BLENDER 3D         4    20   \n",
       "\n",
       "     COURSE_WORK  EXAM GRADE_POINT GENDER  Final_Exam  \n",
       "118           11    34          C+      M          63  \n",
       "119           15    45          B+      M          77  \n",
       "120           18    40          B-      M          68  \n",
       "121           17    22           C      M          55  \n",
       "122           20    43          B+      M          79  \n",
       "130           16    43          B+      M          76  \n",
       "131           12    52           A      M          84  \n",
       "132           16    44           B      M          74  \n",
       "133           20    41          B+      M          75  \n",
       "134           12    33          C+      M          63  \n",
       "135           18    57           A      M          95  \n",
       "136           18    47           A      M          83  \n",
       "137           15    44          B+      M          77  \n",
       "138           15    42           B      M          74  \n",
       "139           14    40           B      M          71  \n",
       "325           17    42          B-      M          67  \n",
       "326           16    50           A      M          85  \n",
       "327           14    56           A      M          89  \n",
       "328           12    57           A      F          87  \n",
       "329           17    42          B-      F          67  \n",
       "330           17    54           A      F          89  \n",
       "351           19    58           A      M          94  \n",
       "352           18    52           A      M          87  \n",
       "353           17    45           A      M          82  \n",
       "354           17    50           A      M          87  "
      ]
     },
     "execution_count": 201,
     "metadata": {},
     "output_type": "execute_result"
    }
   ],
   "source": [
    "VTVP"
   ]
  },
  {
   "cell_type": "code",
   "execution_count": 202,
   "metadata": {},
   "outputs": [
    {
     "data": {
      "text/plain": [
       "6"
      ]
     },
     "execution_count": 202,
     "metadata": {},
     "output_type": "execute_result"
    }
   ],
   "source": [
    "len(VTVP.STUDENT_ID.unique())"
   ]
  },
  {
   "cell_type": "code",
   "execution_count": 203,
   "metadata": {},
   "outputs": [
    {
     "data": {
      "text/plain": [
       "GENDER\n",
       "F                            [2649]\n",
       "M    [2831, 2768, 2662, 2706, 2573]\n",
       "Name: STUDENT_ID, dtype: object"
      ]
     },
     "execution_count": 203,
     "metadata": {},
     "output_type": "execute_result"
    }
   ],
   "source": [
    "VTVP.groupby('GENDER')['STUDENT_ID'].unique()"
   ]
  },
  {
   "cell_type": "code",
   "execution_count": 204,
   "metadata": {},
   "outputs": [
    {
     "data": {
      "text/plain": [
       "GENDER\n",
       "F    1\n",
       "M    5\n",
       "Name: STUDENT_ID, dtype: int64"
      ]
     },
     "execution_count": 204,
     "metadata": {},
     "output_type": "execute_result"
    }
   ],
   "source": [
    "VTVP.groupby('GENDER')['STUDENT_ID'].nunique()"
   ]
  },
  {
   "cell_type": "code",
   "execution_count": 205,
   "metadata": {},
   "outputs": [
    {
     "name": "stdout",
     "output_type": "stream",
     "text": [
      "100.0\n",
      "0.0\n"
     ]
    }
   ],
   "source": [
    "finalV =VTVP['Final_Exam']\n",
    "\n",
    "print ((finalV[finalV >= 50.0 ].count() /finalV.count())*100)\n",
    "print ((finalV[finalV < 50.0 ].count() /finalV.count())*100)"
   ]
  },
  {
   "cell_type": "code",
   "execution_count": 150,
   "metadata": {},
   "outputs": [
    {
     "name": "stderr",
     "output_type": "stream",
     "text": [
      "C:\\Users\\Academic Registra\\Anaconda3\\lib\\site-packages\\scipy\\stats\\stats.py:1713: FutureWarning: Using a non-tuple sequence for multidimensional indexing is deprecated; use `arr[tuple(seq)]` instead of `arr[seq]`. In the future this will be interpreted as an array index, `arr[np.array(seq)]`, which will result either in an error or a different result.\n",
      "  return np.add.reduce(sorted[indexer] * weights, axis=axis) / sumval\n"
     ]
    },
    {
     "data": {
      "image/png": "[encoded data removed]",
      "text/plain": [
       "<Figure size 1152x720 with 1 Axes>"
      ]
     },
     "metadata": {},
     "output_type": "display_data"
    }
   ],
   "source": [
    "xC = VTVP['Final_Exam']\n",
    "sns.distplot(xC)\n",
    "plt.title('Perfomance  \\n ', fontsize=25)\n",
    "plt.xlabel('Total (x/100)', fontsize=25)\n",
    "plt.show()"
   ]
  },
  {
   "cell_type": "code",
   "execution_count": 206,
   "metadata": {},
   "outputs": [
    {
     "data": {
      "text/plain": [
       "STUDENT_ID\n",
       "2831    68.400000\n",
       "2768    74.400000\n",
       "2662    80.000000\n",
       "2706    80.333333\n",
       "2649    81.000000\n",
       "2573    87.500000\n",
       "Name: Final_Exam, dtype: float64"
      ]
     },
     "execution_count": 206,
     "metadata": {},
     "output_type": "execute_result"
    }
   ],
   "source": [
    "VTVP.groupby('STUDENT_ID')['Final_Exam'].mean().sort_values()"
   ]
  },
  {
   "cell_type": "code",
   "execution_count": 164,
   "metadata": {},
   "outputs": [
    {
     "name": "stdout",
     "output_type": "stream",
     "text": [
      "                         Final_Exam\n",
      "                               mean\n",
      "STUDENT_ID COURSE GENDER           \n",
      "2573       DVTVP  M       87.500000\n",
      "2649       CVTVP  F       81.000000\n",
      "2662       DVTVP  M       80.000000\n",
      "2706       CVTVP  M       80.333333\n",
      "2768       DVTVP  M       74.400000\n",
      "2831       DVTVP  M       68.400000\n"
     ]
    }
   ],
   "source": [
    "gr=(VTVP.groupby(['STUDENT_ID', 'COURSE','GENDER'])\n",
    "   .agg({'Final_Exam':['mean']\n",
    "#       ,  'GENDER':['count']\n",
    "        }))\n",
    "print (gr)"
   ]
  },
  {
   "cell_type": "code",
   "execution_count": 166,
   "metadata": {},
   "outputs": [
    {
     "data": {
      "text/html": [
       "<div>\n",
       "<style scoped>\n",
       "    .dataframe tbody tr th:only-of-type {\n",
       "        vertical-align: middle;\n",
       "    }\n",
       "\n",
       "    .dataframe tbody tr th {\n",
       "        vertical-align: top;\n",
       "    }\n",
       "\n",
       "    .dataframe thead th {\n",
       "        text-align: right;\n",
       "    }\n",
       "</style>\n",
       "<table border=\"1\" class=\"dataframe\">\n",
       "  <thead>\n",
       "    <tr style=\"text-align: right;\">\n",
       "      <th></th>\n",
       "      <th>STUDENT_ID</th>\n",
       "      <th>SEMESTER</th>\n",
       "      <th>TEST</th>\n",
       "      <th>COURSE_WORK</th>\n",
       "      <th>EXAM</th>\n",
       "      <th>Final_Exam</th>\n",
       "    </tr>\n",
       "  </thead>\n",
       "  <tbody>\n",
       "    <tr>\n",
       "      <th>count</th>\n",
       "      <td>25.00000</td>\n",
       "      <td>25.000000</td>\n",
       "      <td>25.000000</td>\n",
       "      <td>25.000000</td>\n",
       "      <td>25.000000</td>\n",
       "      <td>25.000000</td>\n",
       "    </tr>\n",
       "    <tr>\n",
       "      <th>mean</th>\n",
       "      <td>2706.48000</td>\n",
       "      <td>1.960000</td>\n",
       "      <td>16.560000</td>\n",
       "      <td>16.040000</td>\n",
       "      <td>45.320000</td>\n",
       "      <td>77.920000</td>\n",
       "    </tr>\n",
       "    <tr>\n",
       "      <th>std</th>\n",
       "      <td>88.39359</td>\n",
       "      <td>1.240967</td>\n",
       "      <td>3.392148</td>\n",
       "      <td>2.474537</td>\n",
       "      <td>8.429709</td>\n",
       "      <td>10.355836</td>\n",
       "    </tr>\n",
       "    <tr>\n",
       "      <th>min</th>\n",
       "      <td>2573.00000</td>\n",
       "      <td>1.000000</td>\n",
       "      <td>8.000000</td>\n",
       "      <td>11.000000</td>\n",
       "      <td>22.000000</td>\n",
       "      <td>55.000000</td>\n",
       "    </tr>\n",
       "    <tr>\n",
       "      <th>25%</th>\n",
       "      <td>2649.00000</td>\n",
       "      <td>1.000000</td>\n",
       "      <td>16.000000</td>\n",
       "      <td>15.000000</td>\n",
       "      <td>42.000000</td>\n",
       "      <td>71.000000</td>\n",
       "    </tr>\n",
       "    <tr>\n",
       "      <th>50%</th>\n",
       "      <td>2706.00000</td>\n",
       "      <td>1.000000</td>\n",
       "      <td>17.000000</td>\n",
       "      <td>17.000000</td>\n",
       "      <td>44.000000</td>\n",
       "      <td>77.000000</td>\n",
       "    </tr>\n",
       "    <tr>\n",
       "      <th>75%</th>\n",
       "      <td>2768.00000</td>\n",
       "      <td>3.000000</td>\n",
       "      <td>18.000000</td>\n",
       "      <td>18.000000</td>\n",
       "      <td>52.000000</td>\n",
       "      <td>87.000000</td>\n",
       "    </tr>\n",
       "    <tr>\n",
       "      <th>max</th>\n",
       "      <td>2831.00000</td>\n",
       "      <td>4.000000</td>\n",
       "      <td>20.000000</td>\n",
       "      <td>20.000000</td>\n",
       "      <td>58.000000</td>\n",
       "      <td>95.000000</td>\n",
       "    </tr>\n",
       "  </tbody>\n",
       "</table>\n",
       "</div>"
      ],
      "text/plain": [
       "       STUDENT_ID   SEMESTER       TEST  COURSE_WORK       EXAM  Final_Exam\n",
       "count    25.00000  25.000000  25.000000    25.000000  25.000000   25.000000\n",
       "mean   2706.48000   1.960000  16.560000    16.040000  45.320000   77.920000\n",
       "std      88.39359   1.240967   3.392148     2.474537   8.429709   10.355836\n",
       "min    2573.00000   1.000000   8.000000    11.000000  22.000000   55.000000\n",
       "25%    2649.00000   1.000000  16.000000    15.000000  42.000000   71.000000\n",
       "50%    2706.00000   1.000000  17.000000    17.000000  44.000000   77.000000\n",
       "75%    2768.00000   3.000000  18.000000    18.000000  52.000000   87.000000\n",
       "max    2831.00000   4.000000  20.000000    20.000000  58.000000   95.000000"
      ]
     },
     "execution_count": 166,
     "metadata": {},
     "output_type": "execute_result"
    }
   ],
   "source": [
    "VTVP.describe()"
   ]
  },
  {
   "cell_type": "code",
   "execution_count": 207,
   "metadata": {},
   "outputs": [
    {
     "data": {
      "text/plain": [
       "COURSE_UNIT\n",
       "3D MODELING WITH BLENDER 3D     1\n",
       "AFTER EFFECTS II                1\n",
       "PROJECT PRESENTATION            1\n",
       "PROPOSAL WRITING                1\n",
       "TV PRODUCTION THEORY            1\n",
       "COMPOSITION PRINCIPLES          2\n",
       "CUSTOMER CARE                   2\n",
       "ENTREPRENEURSHIP                2\n",
       "PREMIER PRO I                   2\n",
       "BUSINESS COMMUNICATION SKILL    3\n",
       "COLOR THEORY                    3\n",
       "ENGLISH                         3\n",
       "ICT FUNDAMENTAL                 3\n",
       "Name: STUDENT_ID, dtype: int64"
      ]
     },
     "execution_count": 207,
     "metadata": {},
     "output_type": "execute_result"
    }
   ],
   "source": [
    "VTVP.groupby('COURSE_UNIT')['STUDENT_ID'].nunique().sort_values()"
   ]
  },
  {
   "cell_type": "code",
   "execution_count": 214,
   "metadata": {},
   "outputs": [
    {
     "data": {
      "text/plain": [
       "SEMESTER\n",
       "1    74.266667\n",
       "3    80.666667\n",
       "4    87.500000\n",
       "Name: Final_Exam, dtype: float64"
      ]
     },
     "execution_count": 214,
     "metadata": {},
     "output_type": "execute_result"
    }
   ],
   "source": [
    "VTVP.groupby('SEMESTER')['Final_Exam'].mean().sort_values()"
   ]
  },
  {
   "cell_type": "code",
   "execution_count": 212,
   "metadata": {},
   "outputs": [
    {
     "data": {
      "text/plain": [
       "COURSE_UNIT\n",
       "COLOR THEORY                    74\n",
       "ICT FUNDAMENTAL                 77\n",
       "TV PRODUCTION THEORY            77\n",
       "ENGLISH                         79\n",
       "AFTER EFFECTS II                82\n",
       "ENTREPRENEURSHIP                83\n",
       "PREMIER PRO I                   85\n",
       "3D MODELING WITH BLENDER 3D     87\n",
       "CUSTOMER CARE                   87\n",
       "PROJECT PRESENTATION            87\n",
       "COMPOSITION PRINCIPLES          89\n",
       "PROPOSAL WRITING                94\n",
       "BUSINESS COMMUNICATION SKILL    95\n",
       "Name: Final_Exam, dtype: int64"
      ]
     },
     "execution_count": 212,
     "metadata": {},
     "output_type": "execute_result"
    }
   ],
   "source": [
    "VTVP.groupby('COURSE_UNIT')['Final_Exam'].max().sort_values()"
   ]
  },
  {
   "cell_type": "code",
   "execution_count": 218,
   "metadata": {},
   "outputs": [
    {
     "name": "stdout",
     "output_type": "stream",
     "text": [
      "                                                        Final_Exam\n",
      "                                                              mean\n",
      "COURSE_UNIT                  STUDENT_ID COURSE SEMESTER           \n",
      "3D MODELING WITH BLENDER 3D  2573       DVTVP  4                87\n",
      "AFTER EFFECTS II             2573       DVTVP  4                82\n",
      "BUSINESS COMMUNICATION SKILL 2662       DVTVP  1                95\n",
      "                             2768       DVTVP  1                84\n",
      "                             2831       DVTVP  1                63\n",
      "COLOR THEORY                 2662       DVTVP  1                71\n",
      "                             2768       DVTVP  1                74\n",
      "                             2831       DVTVP  1                68\n",
      "COMPOSITION PRINCIPLES       2649       CVTVP  3                89\n",
      "                             2706       CVTVP  3                89\n",
      "CUSTOMER CARE                2649       CVTVP  3                87\n",
      "                             2706       CVTVP  3                67\n",
      "ENGLISH                      2662       DVTVP  1                74\n",
      "                             2768       DVTVP  1                75\n",
      "                             2831       DVTVP  1                79\n",
      "ENTREPRENEURSHIP             2662       DVTVP  1                83\n",
      "                             2768       DVTVP  1                63\n",
      "ICT FUNDAMENTAL              2662       DVTVP  1                77\n",
      "                             2768       DVTVP  1                76\n",
      "                             2831       DVTVP  1                55\n",
      "PREMIER PRO I                2649       CVTVP  3                67\n",
      "                             2706       CVTVP  3                85\n",
      "PROJECT PRESENTATION         2573       DVTVP  4                87\n",
      "PROPOSAL WRITING             2573       DVTVP  4                94\n",
      "TV PRODUCTION THEORY         2831       DVTVP  1                77\n"
     ]
    }
   ],
   "source": [
    "gr=(VTVP.groupby([ 'COURSE_UNIT','STUDENT_ID','COURSE','SEMESTER'])\n",
    "   .agg({'Final_Exam':['mean']\n",
    "#       ,  'STUDENT_ID':['count']\n",
    "        }))\n",
    "print (gr)"
   ]
  },
  {
   "cell_type": "code",
   "execution_count": 172,
   "metadata": {},
   "outputs": [
    {
     "data": {
      "image/png": "[encoded data removed]",
      "text/plain": [
       "<Figure size 1152x720 with 1 Axes>"
      ]
     },
     "metadata": {},
     "output_type": "display_data"
    }
   ],
   "source": [
    "VTVP.boxplot(column=['TEST','COURSE_WORK','EXAM','Final_Exam'])\n",
    "plt.title('Box plot showing perfomance \\n ', fontsize=25)\n",
    "#plt.xlabel('Semester', fontsize=25)\n",
    "plt.ylabel('Marks (x/100%)',fontsize=25)\n",
    "plt.xticks(fontsize=25)\n",
    "#plt.legend()\n",
    "plt.show()"
   ]
  },
  {
   "cell_type": "code",
   "execution_count": 222,
   "metadata": {},
   "outputs": [
    {
     "name": "stdout",
     "output_type": "stream",
     "text": [
      "                     Final_Exam\n",
      "                          count\n",
      "SEMESTER GRADE_POINT           \n",
      "1        A                    3\n",
      "         B                    3\n",
      "         B+                   5\n",
      "         B-                   1\n",
      "         C                    1\n",
      "         C+                   2\n",
      "3        A                    4\n",
      "         B-                   2\n",
      "4        A                    4\n"
     ]
    }
   ],
   "source": [
    "gr=(VTVP.groupby(['SEMESTER', 'GRADE_POINT'])\n",
    "   .agg({'Final_Exam':['count']\n",
    "#         'Gender':['count']\n",
    "        }))\n",
    "print (gr.head(40))"
   ]
  },
  {
   "cell_type": "markdown",
   "metadata": {},
   "source": [
    "# Multimedia department "
   ]
  },
  {
   "cell_type": "code",
   "execution_count": 29,
   "metadata": {},
   "outputs": [],
   "source": [
    "MM = df[(df.COURSE == 'CMM') | (df.COURSE == 'DMM')]"
   ]
  },
  {
   "cell_type": "code",
   "execution_count": 30,
   "metadata": {},
   "outputs": [
    {
     "data": {
      "text/html": [
       "<div>\n",
       "<style scoped>\n",
       "    .dataframe tbody tr th:only-of-type {\n",
       "        vertical-align: middle;\n",
       "    }\n",
       "\n",
       "    .dataframe tbody tr th {\n",
       "        vertical-align: top;\n",
       "    }\n",
       "\n",
       "    .dataframe thead th {\n",
       "        text-align: right;\n",
       "    }\n",
       "</style>\n",
       "<table border=\"1\" class=\"dataframe\">\n",
       "  <thead>\n",
       "    <tr style=\"text-align: right;\">\n",
       "      <th></th>\n",
       "      <th>STUDENT_ID</th>\n",
       "      <th>COURSE</th>\n",
       "      <th>COURSE_UNIT</th>\n",
       "      <th>SEMESTER</th>\n",
       "      <th>TEST</th>\n",
       "      <th>COURSE_WORK</th>\n",
       "      <th>EXAM</th>\n",
       "      <th>GRADE_POINT</th>\n",
       "      <th>GENDER</th>\n",
       "      <th>Final_Exam</th>\n",
       "    </tr>\n",
       "  </thead>\n",
       "  <tbody>\n",
       "    <tr>\n",
       "      <th>108</th>\n",
       "      <td>2872</td>\n",
       "      <td>CMM</td>\n",
       "      <td>BUSINESS COMMUNICATION SKILL</td>\n",
       "      <td>1</td>\n",
       "      <td>12</td>\n",
       "      <td>19</td>\n",
       "      <td>39</td>\n",
       "      <td>B</td>\n",
       "      <td>F</td>\n",
       "      <td>70</td>\n",
       "    </tr>\n",
       "    <tr>\n",
       "      <th>109</th>\n",
       "      <td>2872</td>\n",
       "      <td>CMM</td>\n",
       "      <td>COLOR THEORY</td>\n",
       "      <td>1</td>\n",
       "      <td>13</td>\n",
       "      <td>18</td>\n",
       "      <td>37</td>\n",
       "      <td>B-</td>\n",
       "      <td>F</td>\n",
       "      <td>68</td>\n",
       "    </tr>\n",
       "    <tr>\n",
       "      <th>110</th>\n",
       "      <td>2872</td>\n",
       "      <td>CMM</td>\n",
       "      <td>ICT FUNDAMENTAL</td>\n",
       "      <td>1</td>\n",
       "      <td>10</td>\n",
       "      <td>8</td>\n",
       "      <td>36</td>\n",
       "      <td>C-</td>\n",
       "      <td>F</td>\n",
       "      <td>54</td>\n",
       "    </tr>\n",
       "    <tr>\n",
       "      <th>111</th>\n",
       "      <td>2872</td>\n",
       "      <td>CMM</td>\n",
       "      <td>ENGLISH</td>\n",
       "      <td>1</td>\n",
       "      <td>20</td>\n",
       "      <td>14</td>\n",
       "      <td>30</td>\n",
       "      <td>C+</td>\n",
       "      <td>F</td>\n",
       "      <td>64</td>\n",
       "    </tr>\n",
       "    <tr>\n",
       "      <th>112</th>\n",
       "      <td>2872</td>\n",
       "      <td>CMM</td>\n",
       "      <td>ENTREPRENEURSHIP</td>\n",
       "      <td>1</td>\n",
       "      <td>15</td>\n",
       "      <td>15</td>\n",
       "      <td>30</td>\n",
       "      <td>C+</td>\n",
       "      <td>F</td>\n",
       "      <td>60</td>\n",
       "    </tr>\n",
       "    <tr>\n",
       "      <th>113</th>\n",
       "      <td>2866</td>\n",
       "      <td>DMM</td>\n",
       "      <td>ICT FUNDAMENTAL</td>\n",
       "      <td>1</td>\n",
       "      <td>19</td>\n",
       "      <td>15</td>\n",
       "      <td>1</td>\n",
       "      <td>F</td>\n",
       "      <td>M</td>\n",
       "      <td>35</td>\n",
       "    </tr>\n",
       "    <tr>\n",
       "      <th>114</th>\n",
       "      <td>2866</td>\n",
       "      <td>DMM</td>\n",
       "      <td>TV THEORY</td>\n",
       "      <td>1</td>\n",
       "      <td>18</td>\n",
       "      <td>19</td>\n",
       "      <td>1</td>\n",
       "      <td>F</td>\n",
       "      <td>M</td>\n",
       "      <td>38</td>\n",
       "    </tr>\n",
       "    <tr>\n",
       "      <th>115</th>\n",
       "      <td>2866</td>\n",
       "      <td>DMM</td>\n",
       "      <td>COLOR THEORY</td>\n",
       "      <td>1</td>\n",
       "      <td>18</td>\n",
       "      <td>16</td>\n",
       "      <td>1</td>\n",
       "      <td>F</td>\n",
       "      <td>M</td>\n",
       "      <td>35</td>\n",
       "    </tr>\n",
       "    <tr>\n",
       "      <th>116</th>\n",
       "      <td>2866</td>\n",
       "      <td>DMM</td>\n",
       "      <td>BUSINESS COMMUNICATION SKILL</td>\n",
       "      <td>1</td>\n",
       "      <td>20</td>\n",
       "      <td>10</td>\n",
       "      <td>1</td>\n",
       "      <td>F</td>\n",
       "      <td>M</td>\n",
       "      <td>31</td>\n",
       "    </tr>\n",
       "    <tr>\n",
       "      <th>117</th>\n",
       "      <td>2866</td>\n",
       "      <td>DMM</td>\n",
       "      <td>ENGLISH</td>\n",
       "      <td>1</td>\n",
       "      <td>16</td>\n",
       "      <td>19</td>\n",
       "      <td>1</td>\n",
       "      <td>F</td>\n",
       "      <td>M</td>\n",
       "      <td>36</td>\n",
       "    </tr>\n",
       "    <tr>\n",
       "      <th>123</th>\n",
       "      <td>2867</td>\n",
       "      <td>DMM</td>\n",
       "      <td>BUSINESS COMMUNICATION SKILL</td>\n",
       "      <td>1</td>\n",
       "      <td>10</td>\n",
       "      <td>12</td>\n",
       "      <td>40</td>\n",
       "      <td>C+</td>\n",
       "      <td>M</td>\n",
       "      <td>62</td>\n",
       "    </tr>\n",
       "    <tr>\n",
       "      <th>124</th>\n",
       "      <td>2867</td>\n",
       "      <td>DMM</td>\n",
       "      <td>CONCEPT AND STORY VISUALIZATION</td>\n",
       "      <td>1</td>\n",
       "      <td>15</td>\n",
       "      <td>19</td>\n",
       "      <td>57</td>\n",
       "      <td>A</td>\n",
       "      <td>M</td>\n",
       "      <td>91</td>\n",
       "    </tr>\n",
       "    <tr>\n",
       "      <th>125</th>\n",
       "      <td>2867</td>\n",
       "      <td>DMM</td>\n",
       "      <td>PHOTOSHOP</td>\n",
       "      <td>1</td>\n",
       "      <td>17</td>\n",
       "      <td>18</td>\n",
       "      <td>41</td>\n",
       "      <td>B+</td>\n",
       "      <td>M</td>\n",
       "      <td>76</td>\n",
       "    </tr>\n",
       "    <tr>\n",
       "      <th>126</th>\n",
       "      <td>2867</td>\n",
       "      <td>DMM</td>\n",
       "      <td>COLOR THEORY</td>\n",
       "      <td>1</td>\n",
       "      <td>18</td>\n",
       "      <td>10</td>\n",
       "      <td>54</td>\n",
       "      <td>A</td>\n",
       "      <td>M</td>\n",
       "      <td>82</td>\n",
       "    </tr>\n",
       "    <tr>\n",
       "      <th>127</th>\n",
       "      <td>2867</td>\n",
       "      <td>DMM</td>\n",
       "      <td>ENTREPRENEURSHIP</td>\n",
       "      <td>1</td>\n",
       "      <td>15</td>\n",
       "      <td>15</td>\n",
       "      <td>30</td>\n",
       "      <td>C+</td>\n",
       "      <td>M</td>\n",
       "      <td>60</td>\n",
       "    </tr>\n",
       "    <tr>\n",
       "      <th>128</th>\n",
       "      <td>2867</td>\n",
       "      <td>DMM</td>\n",
       "      <td>ICT FUNDAMENTAL</td>\n",
       "      <td>1</td>\n",
       "      <td>17</td>\n",
       "      <td>16</td>\n",
       "      <td>50</td>\n",
       "      <td>A</td>\n",
       "      <td>M</td>\n",
       "      <td>83</td>\n",
       "    </tr>\n",
       "    <tr>\n",
       "      <th>129</th>\n",
       "      <td>2867</td>\n",
       "      <td>DMM</td>\n",
       "      <td>ENGLISH</td>\n",
       "      <td>1</td>\n",
       "      <td>10</td>\n",
       "      <td>10</td>\n",
       "      <td>37</td>\n",
       "      <td>C</td>\n",
       "      <td>M</td>\n",
       "      <td>57</td>\n",
       "    </tr>\n",
       "    <tr>\n",
       "      <th>216</th>\n",
       "      <td>2668</td>\n",
       "      <td>DMM</td>\n",
       "      <td>PROPOSAL WRITING</td>\n",
       "      <td>2</td>\n",
       "      <td>16</td>\n",
       "      <td>15</td>\n",
       "      <td>54</td>\n",
       "      <td>A</td>\n",
       "      <td>M</td>\n",
       "      <td>85</td>\n",
       "    </tr>\n",
       "    <tr>\n",
       "      <th>217</th>\n",
       "      <td>2668</td>\n",
       "      <td>DMM</td>\n",
       "      <td>MOTION GRAPHICS</td>\n",
       "      <td>2</td>\n",
       "      <td>16</td>\n",
       "      <td>10</td>\n",
       "      <td>50</td>\n",
       "      <td>B+</td>\n",
       "      <td>M</td>\n",
       "      <td>76</td>\n",
       "    </tr>\n",
       "    <tr>\n",
       "      <th>218</th>\n",
       "      <td>2668</td>\n",
       "      <td>DMM</td>\n",
       "      <td>CAMERA WORK II</td>\n",
       "      <td>2</td>\n",
       "      <td>19</td>\n",
       "      <td>20</td>\n",
       "      <td>43</td>\n",
       "      <td>A</td>\n",
       "      <td>M</td>\n",
       "      <td>82</td>\n",
       "    </tr>\n",
       "  </tbody>\n",
       "</table>\n",
       "</div>"
      ],
      "text/plain": [
       "     STUDENT_ID COURSE                      COURSE_UNIT  SEMESTER  TEST  \\\n",
       "108        2872    CMM     BUSINESS COMMUNICATION SKILL         1    12   \n",
       "109        2872    CMM                     COLOR THEORY         1    13   \n",
       "110        2872    CMM                  ICT FUNDAMENTAL         1    10   \n",
       "111        2872    CMM                          ENGLISH         1    20   \n",
       "112        2872    CMM                 ENTREPRENEURSHIP         1    15   \n",
       "113        2866    DMM                  ICT FUNDAMENTAL         1    19   \n",
       "114        2866    DMM                        TV THEORY         1    18   \n",
       "115        2866    DMM                     COLOR THEORY         1    18   \n",
       "116        2866    DMM     BUSINESS COMMUNICATION SKILL         1    20   \n",
       "117        2866    DMM                          ENGLISH         1    16   \n",
       "123        2867    DMM     BUSINESS COMMUNICATION SKILL         1    10   \n",
       "124        2867    DMM  CONCEPT AND STORY VISUALIZATION         1    15   \n",
       "125        2867    DMM                        PHOTOSHOP         1    17   \n",
       "126        2867    DMM                     COLOR THEORY         1    18   \n",
       "127        2867    DMM                 ENTREPRENEURSHIP         1    15   \n",
       "128        2867    DMM                  ICT FUNDAMENTAL         1    17   \n",
       "129        2867    DMM                          ENGLISH         1    10   \n",
       "216        2668    DMM                 PROPOSAL WRITING         2    16   \n",
       "217        2668    DMM                  MOTION GRAPHICS         2    16   \n",
       "218        2668    DMM                   CAMERA WORK II         2    19   \n",
       "\n",
       "     COURSE_WORK  EXAM GRADE_POINT GENDER  Final_Exam  \n",
       "108           19    39           B      F          70  \n",
       "109           18    37          B-      F          68  \n",
       "110            8    36          C-      F          54  \n",
       "111           14    30          C+      F          64  \n",
       "112           15    30          C+      F          60  \n",
       "113           15     1           F      M          35  \n",
       "114           19     1           F      M          38  \n",
       "115           16     1           F      M          35  \n",
       "116           10     1           F      M          31  \n",
       "117           19     1           F      M          36  \n",
       "123           12    40          C+      M          62  \n",
       "124           19    57           A      M          91  \n",
       "125           18    41          B+      M          76  \n",
       "126           10    54           A      M          82  \n",
       "127           15    30          C+      M          60  \n",
       "128           16    50           A      M          83  \n",
       "129           10    37           C      M          57  \n",
       "216           15    54           A      M          85  \n",
       "217           10    50          B+      M          76  \n",
       "218           20    43           A      M          82  "
      ]
     },
     "execution_count": 30,
     "metadata": {},
     "output_type": "execute_result"
    }
   ],
   "source": [
    "MM"
   ]
  },
  {
   "cell_type": "code",
   "execution_count": 31,
   "metadata": {},
   "outputs": [
    {
     "data": {
      "text/plain": [
       "4"
      ]
     },
     "execution_count": 31,
     "metadata": {},
     "output_type": "execute_result"
    }
   ],
   "source": [
    "len(MM.STUDENT_ID.unique())"
   ]
  },
  {
   "cell_type": "code",
   "execution_count": 32,
   "metadata": {},
   "outputs": [
    {
     "data": {
      "text/plain": [
       "GENDER\n",
       "F    1\n",
       "M    3\n",
       "Name: STUDENT_ID, dtype: int64"
      ]
     },
     "execution_count": 32,
     "metadata": {},
     "output_type": "execute_result"
    }
   ],
   "source": [
    "MM.groupby('GENDER')['STUDENT_ID'].nunique()"
   ]
  },
  {
   "cell_type": "code",
   "execution_count": 33,
   "metadata": {},
   "outputs": [
    {
     "name": "stdout",
     "output_type": "stream",
     "text": [
      "75.0\n",
      "25.0\n"
     ]
    }
   ],
   "source": [
    "final =MM['Final_Exam']\n",
    "\n",
    "print ((final[final >= 50.0 ].count() /final.count())*100)\n",
    "print ((final[final < 50.0 ].count() /final.count())*100)"
   ]
  },
  {
   "cell_type": "code",
   "execution_count": 35,
   "metadata": {},
   "outputs": [
    {
     "data": {
      "text/plain": [
       "COURSE\n",
       "CMM    1\n",
       "DMM    3\n",
       "Name: STUDENT_ID, dtype: int64"
      ]
     },
     "execution_count": 35,
     "metadata": {},
     "output_type": "execute_result"
    }
   ],
   "source": [
    "MM.groupby('COURSE')['STUDENT_ID'].nunique()"
   ]
  },
  {
   "cell_type": "code",
   "execution_count": 36,
   "metadata": {},
   "outputs": [
    {
     "data": {
      "text/plain": [
       "STUDENT_ID\n",
       "2866    35.0\n",
       "2872    63.2\n",
       "2867    73.0\n",
       "2668    81.0\n",
       "Name: Final_Exam, dtype: float64"
      ]
     },
     "execution_count": 36,
     "metadata": {},
     "output_type": "execute_result"
    }
   ],
   "source": [
    "MM.groupby('STUDENT_ID')['Final_Exam'].mean().sort_values()"
   ]
  },
  {
   "cell_type": "code",
   "execution_count": 37,
   "metadata": {},
   "outputs": [
    {
     "name": "stderr",
     "output_type": "stream",
     "text": [
      "C:\\Users\\Academic Registra\\Anaconda3\\lib\\site-packages\\scipy\\stats\\stats.py:1713: FutureWarning: Using a non-tuple sequence for multidimensional indexing is deprecated; use `arr[tuple(seq)]` instead of `arr[seq]`. In the future this will be interpreted as an array index, `arr[np.array(seq)]`, which will result either in an error or a different result.\n",
      "  return np.add.reduce(sorted[indexer] * weights, axis=axis) / sumval\n"
     ]
    },
    {
     "data": {
      "image/png": "[encoded data removed]",
      "text/plain": [
       "<Figure size 1152x720 with 1 Axes>"
      ]
     },
     "metadata": {},
     "output_type": "display_data"
    }
   ],
   "source": [
    "xC = MM['Final_Exam']\n",
    "sns.distplot(xC)\n",
    "plt.title('Perfomance  \\n ', fontsize=25)\n",
    "plt.xlabel('Total (x/100)', fontsize=25)\n",
    "plt.show()"
   ]
  },
  {
   "cell_type": "code",
   "execution_count": 39,
   "metadata": {},
   "outputs": [
    {
     "data": {
      "text/plain": [
       "GENDER\n",
       "F    63.200000\n",
       "M    61.933333\n",
       "Name: Final_Exam, dtype: float64"
      ]
     },
     "execution_count": 39,
     "metadata": {},
     "output_type": "execute_result"
    }
   ],
   "source": [
    "MM.groupby('GENDER')['Final_Exam'].mean()"
   ]
  },
  {
   "cell_type": "code",
   "execution_count": 40,
   "metadata": {},
   "outputs": [
    {
     "data": {
      "image/png": "[encoded data removed]",
      "text/plain": [
       "<Figure size 1152x720 with 1 Axes>"
      ]
     },
     "metadata": {},
     "output_type": "display_data"
    }
   ],
   "source": [
    "(MM.groupby('GENDER')['Final_Exam'].mean()).plot(kind='Bar')\n",
    "plt.title('Performance per gender', fontsize=25)\n",
    "plt.xlabel('Gender ', fontsize=25)\n",
    "plt.ylabel('Mean percentage mark',fontsize=25)\n",
    "plt.xticks(rotation=60,fontsize=25)\n",
    "#plt.legend()\n",
    "plt.show()"
   ]
  },
  {
   "cell_type": "code",
   "execution_count": 41,
   "metadata": {},
   "outputs": [
    {
     "data": {
      "text/plain": [
       "COURSE_UNIT\n",
       "CAMERA WORK II                     1\n",
       "CONCEPT AND STORY VISUALIZATION    1\n",
       "MOTION GRAPHICS                    1\n",
       "PHOTOSHOP                          1\n",
       "PROPOSAL WRITING                   1\n",
       "TV THEORY                          1\n",
       "ENTREPRENEURSHIP                   2\n",
       "BUSINESS COMMUNICATION SKILL       3\n",
       "COLOR THEORY                       3\n",
       "ENGLISH                            3\n",
       "ICT FUNDAMENTAL                    3\n",
       "Name: STUDENT_ID, dtype: int64"
      ]
     },
     "execution_count": 41,
     "metadata": {},
     "output_type": "execute_result"
    }
   ],
   "source": [
    "MM.groupby('COURSE_UNIT')['STUDENT_ID'].nunique().sort_values()"
   ]
  },
  {
   "cell_type": "code",
   "execution_count": 45,
   "metadata": {},
   "outputs": [
    {
     "data": {
      "text/plain": [
       "COURSE_UNIT\n",
       "TV THEORY                          38\n",
       "ENTREPRENEURSHIP                   60\n",
       "ENGLISH                            64\n",
       "BUSINESS COMMUNICATION SKILL       70\n",
       "MOTION GRAPHICS                    76\n",
       "PHOTOSHOP                          76\n",
       "CAMERA WORK II                     82\n",
       "COLOR THEORY                       82\n",
       "ICT FUNDAMENTAL                    83\n",
       "PROPOSAL WRITING                   85\n",
       "CONCEPT AND STORY VISUALIZATION    91\n",
       "Name: Final_Exam, dtype: int64"
      ]
     },
     "execution_count": 45,
     "metadata": {},
     "output_type": "execute_result"
    }
   ],
   "source": [
    "MM.groupby('COURSE_UNIT')['Final_Exam'].max().sort_values()"
   ]
  },
  {
   "cell_type": "code",
   "execution_count": 43,
   "metadata": {},
   "outputs": [
    {
     "data": {
      "text/html": [
       "<div>\n",
       "<style scoped>\n",
       "    .dataframe tbody tr th:only-of-type {\n",
       "        vertical-align: middle;\n",
       "    }\n",
       "\n",
       "    .dataframe tbody tr th {\n",
       "        vertical-align: top;\n",
       "    }\n",
       "\n",
       "    .dataframe thead th {\n",
       "        text-align: right;\n",
       "    }\n",
       "</style>\n",
       "<table border=\"1\" class=\"dataframe\">\n",
       "  <thead>\n",
       "    <tr style=\"text-align: right;\">\n",
       "      <th></th>\n",
       "      <th>STUDENT_ID</th>\n",
       "      <th>SEMESTER</th>\n",
       "      <th>TEST</th>\n",
       "      <th>COURSE_WORK</th>\n",
       "      <th>EXAM</th>\n",
       "      <th>Final_Exam</th>\n",
       "    </tr>\n",
       "  </thead>\n",
       "  <tbody>\n",
       "    <tr>\n",
       "      <th>count</th>\n",
       "      <td>20.000000</td>\n",
       "      <td>20.000000</td>\n",
       "      <td>20.000000</td>\n",
       "      <td>20.000000</td>\n",
       "      <td>20.000000</td>\n",
       "      <td>20.000000</td>\n",
       "    </tr>\n",
       "    <tr>\n",
       "      <th>mean</th>\n",
       "      <td>2838.150000</td>\n",
       "      <td>1.150000</td>\n",
       "      <td>15.700000</td>\n",
       "      <td>14.900000</td>\n",
       "      <td>31.650000</td>\n",
       "      <td>62.250000</td>\n",
       "    </tr>\n",
       "    <tr>\n",
       "      <th>std</th>\n",
       "      <td>73.372356</td>\n",
       "      <td>0.366348</td>\n",
       "      <td>3.229795</td>\n",
       "      <td>3.754296</td>\n",
       "      <td>19.783765</td>\n",
       "      <td>19.020418</td>\n",
       "    </tr>\n",
       "    <tr>\n",
       "      <th>min</th>\n",
       "      <td>2668.000000</td>\n",
       "      <td>1.000000</td>\n",
       "      <td>10.000000</td>\n",
       "      <td>8.000000</td>\n",
       "      <td>1.000000</td>\n",
       "      <td>31.000000</td>\n",
       "    </tr>\n",
       "    <tr>\n",
       "      <th>25%</th>\n",
       "      <td>2866.000000</td>\n",
       "      <td>1.000000</td>\n",
       "      <td>14.500000</td>\n",
       "      <td>11.500000</td>\n",
       "      <td>22.750000</td>\n",
       "      <td>50.000000</td>\n",
       "    </tr>\n",
       "    <tr>\n",
       "      <th>50%</th>\n",
       "      <td>2867.000000</td>\n",
       "      <td>1.000000</td>\n",
       "      <td>16.000000</td>\n",
       "      <td>15.000000</td>\n",
       "      <td>37.000000</td>\n",
       "      <td>63.000000</td>\n",
       "    </tr>\n",
       "    <tr>\n",
       "      <th>75%</th>\n",
       "      <td>2868.250000</td>\n",
       "      <td>1.000000</td>\n",
       "      <td>18.000000</td>\n",
       "      <td>18.250000</td>\n",
       "      <td>44.750000</td>\n",
       "      <td>77.500000</td>\n",
       "    </tr>\n",
       "    <tr>\n",
       "      <th>max</th>\n",
       "      <td>2872.000000</td>\n",
       "      <td>2.000000</td>\n",
       "      <td>20.000000</td>\n",
       "      <td>20.000000</td>\n",
       "      <td>57.000000</td>\n",
       "      <td>91.000000</td>\n",
       "    </tr>\n",
       "  </tbody>\n",
       "</table>\n",
       "</div>"
      ],
      "text/plain": [
       "        STUDENT_ID   SEMESTER       TEST  COURSE_WORK       EXAM  Final_Exam\n",
       "count    20.000000  20.000000  20.000000    20.000000  20.000000   20.000000\n",
       "mean   2838.150000   1.150000  15.700000    14.900000  31.650000   62.250000\n",
       "std      73.372356   0.366348   3.229795     3.754296  19.783765   19.020418\n",
       "min    2668.000000   1.000000  10.000000     8.000000   1.000000   31.000000\n",
       "25%    2866.000000   1.000000  14.500000    11.500000  22.750000   50.000000\n",
       "50%    2867.000000   1.000000  16.000000    15.000000  37.000000   63.000000\n",
       "75%    2868.250000   1.000000  18.000000    18.250000  44.750000   77.500000\n",
       "max    2872.000000   2.000000  20.000000    20.000000  57.000000   91.000000"
      ]
     },
     "execution_count": 43,
     "metadata": {},
     "output_type": "execute_result"
    }
   ],
   "source": [
    "MM.describe()"
   ]
  },
  {
   "cell_type": "code",
   "execution_count": 46,
   "metadata": {},
   "outputs": [
    {
     "name": "stdout",
     "output_type": "stream",
     "text": [
      "                     Final_Exam\n",
      "                          count\n",
      "SEMESTER GRADE_POINT           \n",
      "1        A                    3\n",
      "         B                    1\n",
      "         B+                   1\n",
      "         B-                   1\n",
      "         C                    1\n",
      "         C+                   4\n",
      "         C-                   1\n",
      "         F                    5\n",
      "2        A                    2\n",
      "         B+                   1\n"
     ]
    }
   ],
   "source": [
    "gr=(MM.groupby(['SEMESTER', 'GRADE_POINT'])\n",
    "   .agg({'Final_Exam':['count']\n",
    "#         'Gender':['count']\n",
    "        }))\n",
    "print (gr.head(40))"
   ]
  },
  {
   "cell_type": "code",
   "execution_count": 54,
   "metadata": {},
   "outputs": [
    {
     "data": {
      "image/png": "[encoded data removed]",
      "text/plain": [
       "<Figure size 1152x720 with 1 Axes>"
      ]
     },
     "metadata": {},
     "output_type": "display_data"
    }
   ],
   "source": [
    "MM.boxplot(column=['TEST','COURSE_WORK','EXAM','Final_Exam'])\n",
    "plt.title('Box plot showing perfomance \\n ', fontsize=25)\n",
    "#plt.xlabel('Semester', fontsize=25)\n",
    "plt.ylabel('Marks (x/100%)',fontsize=25)\n",
    "plt.xticks(fontsize=25)\n",
    "#plt.legend()\n",
    "plt.show()"
   ]
  },
  {
   "cell_type": "markdown",
   "metadata": {},
   "source": [
    "# IT Department "
   ]
  },
  {
   "cell_type": "code",
   "execution_count": 9,
   "metadata": {},
   "outputs": [],
   "source": [
    "IT = df[(df.COURSE == 'CIT') | (df.COURSE == 'DIT') | (df.COURSE == 'CCS')]"
   ]
  },
  {
   "cell_type": "code",
   "execution_count": 10,
   "metadata": {},
   "outputs": [
    {
     "data": {
      "text/html": [
       "<div>\n",
       "<style scoped>\n",
       "    .dataframe tbody tr th:only-of-type {\n",
       "        vertical-align: middle;\n",
       "    }\n",
       "\n",
       "    .dataframe tbody tr th {\n",
       "        vertical-align: top;\n",
       "    }\n",
       "\n",
       "    .dataframe thead th {\n",
       "        text-align: right;\n",
       "    }\n",
       "</style>\n",
       "<table border=\"1\" class=\"dataframe\">\n",
       "  <thead>\n",
       "    <tr style=\"text-align: right;\">\n",
       "      <th></th>\n",
       "      <th>STUDENT_ID</th>\n",
       "      <th>COURSE</th>\n",
       "      <th>COURSE_UNIT</th>\n",
       "      <th>SEMESTER</th>\n",
       "      <th>TEST</th>\n",
       "      <th>COURSE_WORK</th>\n",
       "      <th>EXAM</th>\n",
       "      <th>GRADE_POINT</th>\n",
       "      <th>GENDER</th>\n",
       "      <th>Final_Exam</th>\n",
       "    </tr>\n",
       "  </thead>\n",
       "  <tbody>\n",
       "    <tr>\n",
       "      <th>219</th>\n",
       "      <td>2798</td>\n",
       "      <td>CIT</td>\n",
       "      <td>CUSTOMER CARE</td>\n",
       "      <td>2</td>\n",
       "      <td>5</td>\n",
       "      <td>8</td>\n",
       "      <td>35</td>\n",
       "      <td>D+</td>\n",
       "      <td>F</td>\n",
       "      <td>48</td>\n",
       "    </tr>\n",
       "    <tr>\n",
       "      <th>220</th>\n",
       "      <td>2798</td>\n",
       "      <td>CIT</td>\n",
       "      <td>DATA BASE PROGRAMMING</td>\n",
       "      <td>2</td>\n",
       "      <td>13</td>\n",
       "      <td>18</td>\n",
       "      <td>46</td>\n",
       "      <td>B+</td>\n",
       "      <td>F</td>\n",
       "      <td>77</td>\n",
       "    </tr>\n",
       "    <tr>\n",
       "      <th>221</th>\n",
       "      <td>2798</td>\n",
       "      <td>CIT</td>\n",
       "      <td>USER INTERFACE DESIGN</td>\n",
       "      <td>2</td>\n",
       "      <td>18</td>\n",
       "      <td>20</td>\n",
       "      <td>48</td>\n",
       "      <td>A</td>\n",
       "      <td>F</td>\n",
       "      <td>86</td>\n",
       "    </tr>\n",
       "    <tr>\n",
       "      <th>222</th>\n",
       "      <td>2798</td>\n",
       "      <td>CIT</td>\n",
       "      <td>SYSTERM ANALYSIS</td>\n",
       "      <td>2</td>\n",
       "      <td>1</td>\n",
       "      <td>1</td>\n",
       "      <td>1</td>\n",
       "      <td>F</td>\n",
       "      <td>F</td>\n",
       "      <td>3</td>\n",
       "    </tr>\n",
       "    <tr>\n",
       "      <th>331</th>\n",
       "      <td>2738</td>\n",
       "      <td>CCS</td>\n",
       "      <td>SYSTEM ADMINISTRATION</td>\n",
       "      <td>3</td>\n",
       "      <td>16</td>\n",
       "      <td>18</td>\n",
       "      <td>43</td>\n",
       "      <td>B+</td>\n",
       "      <td>M</td>\n",
       "      <td>77</td>\n",
       "    </tr>\n",
       "    <tr>\n",
       "      <th>332</th>\n",
       "      <td>2727</td>\n",
       "      <td>DIT</td>\n",
       "      <td>SYSTERM ANALYSIS</td>\n",
       "      <td>3</td>\n",
       "      <td>19</td>\n",
       "      <td>10</td>\n",
       "      <td>32</td>\n",
       "      <td>C+</td>\n",
       "      <td>M</td>\n",
       "      <td>61</td>\n",
       "    </tr>\n",
       "    <tr>\n",
       "      <th>333</th>\n",
       "      <td>2727</td>\n",
       "      <td>DIT</td>\n",
       "      <td>USER INTERFACE DESIGN</td>\n",
       "      <td>3</td>\n",
       "      <td>17</td>\n",
       "      <td>18</td>\n",
       "      <td>41</td>\n",
       "      <td>B+</td>\n",
       "      <td>M</td>\n",
       "      <td>76</td>\n",
       "    </tr>\n",
       "  </tbody>\n",
       "</table>\n",
       "</div>"
      ],
      "text/plain": [
       "     STUDENT_ID COURSE            COURSE_UNIT  SEMESTER  TEST  COURSE_WORK  \\\n",
       "219        2798    CIT          CUSTOMER CARE         2     5            8   \n",
       "220        2798    CIT  DATA BASE PROGRAMMING         2    13           18   \n",
       "221        2798    CIT  USER INTERFACE DESIGN         2    18           20   \n",
       "222        2798    CIT       SYSTERM ANALYSIS         2     1            1   \n",
       "331        2738    CCS  SYSTEM ADMINISTRATION         3    16           18   \n",
       "332        2727    DIT       SYSTERM ANALYSIS         3    19           10   \n",
       "333        2727    DIT  USER INTERFACE DESIGN         3    17           18   \n",
       "\n",
       "     EXAM GRADE_POINT GENDER  Final_Exam  \n",
       "219    35          D+      F          48  \n",
       "220    46          B+      F          77  \n",
       "221    48           A      F          86  \n",
       "222     1           F      F           3  \n",
       "331    43          B+      M          77  \n",
       "332    32          C+      M          61  \n",
       "333    41          B+      M          76  "
      ]
     },
     "execution_count": 10,
     "metadata": {},
     "output_type": "execute_result"
    }
   ],
   "source": [
    "IT"
   ]
  },
  {
   "cell_type": "code",
   "execution_count": 11,
   "metadata": {},
   "outputs": [
    {
     "data": {
      "text/plain": [
       "3"
      ]
     },
     "execution_count": 11,
     "metadata": {},
     "output_type": "execute_result"
    }
   ],
   "source": [
    "len(IT.STUDENT_ID.unique())"
   ]
  },
  {
   "cell_type": "code",
   "execution_count": 12,
   "metadata": {},
   "outputs": [
    {
     "data": {
      "text/plain": [
       "COURSE\n",
       "CCS    1\n",
       "CIT    1\n",
       "DIT    1\n",
       "Name: STUDENT_ID, dtype: int64"
      ]
     },
     "execution_count": 12,
     "metadata": {},
     "output_type": "execute_result"
    }
   ],
   "source": [
    "IT.groupby('COURSE')['STUDENT_ID'].nunique()"
   ]
  },
  {
   "cell_type": "code",
   "execution_count": 13,
   "metadata": {},
   "outputs": [
    {
     "data": {
      "text/plain": [
       "GENDER\n",
       "F    53.500000\n",
       "M    71.333333\n",
       "Name: Final_Exam, dtype: float64"
      ]
     },
     "execution_count": 13,
     "metadata": {},
     "output_type": "execute_result"
    }
   ],
   "source": [
    "IT.groupby('GENDER')['Final_Exam'].mean()"
   ]
  },
  {
   "cell_type": "code",
   "execution_count": 14,
   "metadata": {},
   "outputs": [
    {
     "data": {
      "text/html": [
       "<div>\n",
       "<style scoped>\n",
       "    .dataframe tbody tr th:only-of-type {\n",
       "        vertical-align: middle;\n",
       "    }\n",
       "\n",
       "    .dataframe tbody tr th {\n",
       "        vertical-align: top;\n",
       "    }\n",
       "\n",
       "    .dataframe thead th {\n",
       "        text-align: right;\n",
       "    }\n",
       "</style>\n",
       "<table border=\"1\" class=\"dataframe\">\n",
       "  <thead>\n",
       "    <tr style=\"text-align: right;\">\n",
       "      <th></th>\n",
       "      <th>STUDENT_ID</th>\n",
       "      <th>SEMESTER</th>\n",
       "      <th>TEST</th>\n",
       "      <th>COURSE_WORK</th>\n",
       "      <th>EXAM</th>\n",
       "      <th>Final_Exam</th>\n",
       "    </tr>\n",
       "  </thead>\n",
       "  <tbody>\n",
       "    <tr>\n",
       "      <th>count</th>\n",
       "      <td>7.000000</td>\n",
       "      <td>7.000000</td>\n",
       "      <td>7.000000</td>\n",
       "      <td>7.000000</td>\n",
       "      <td>7.000000</td>\n",
       "      <td>7.000000</td>\n",
       "    </tr>\n",
       "    <tr>\n",
       "      <th>mean</th>\n",
       "      <td>2769.142857</td>\n",
       "      <td>2.428571</td>\n",
       "      <td>12.714286</td>\n",
       "      <td>13.285714</td>\n",
       "      <td>35.142857</td>\n",
       "      <td>61.142857</td>\n",
       "    </tr>\n",
       "    <tr>\n",
       "      <th>std</th>\n",
       "      <td>36.177473</td>\n",
       "      <td>0.534522</td>\n",
       "      <td>6.993194</td>\n",
       "      <td>7.087884</td>\n",
       "      <td>16.097915</td>\n",
       "      <td>28.562380</td>\n",
       "    </tr>\n",
       "    <tr>\n",
       "      <th>min</th>\n",
       "      <td>2727.000000</td>\n",
       "      <td>2.000000</td>\n",
       "      <td>1.000000</td>\n",
       "      <td>1.000000</td>\n",
       "      <td>1.000000</td>\n",
       "      <td>3.000000</td>\n",
       "    </tr>\n",
       "    <tr>\n",
       "      <th>25%</th>\n",
       "      <td>2732.500000</td>\n",
       "      <td>2.000000</td>\n",
       "      <td>9.000000</td>\n",
       "      <td>9.000000</td>\n",
       "      <td>33.500000</td>\n",
       "      <td>54.500000</td>\n",
       "    </tr>\n",
       "    <tr>\n",
       "      <th>50%</th>\n",
       "      <td>2798.000000</td>\n",
       "      <td>2.000000</td>\n",
       "      <td>16.000000</td>\n",
       "      <td>18.000000</td>\n",
       "      <td>41.000000</td>\n",
       "      <td>76.000000</td>\n",
       "    </tr>\n",
       "    <tr>\n",
       "      <th>75%</th>\n",
       "      <td>2798.000000</td>\n",
       "      <td>3.000000</td>\n",
       "      <td>17.500000</td>\n",
       "      <td>18.000000</td>\n",
       "      <td>44.500000</td>\n",
       "      <td>77.000000</td>\n",
       "    </tr>\n",
       "    <tr>\n",
       "      <th>max</th>\n",
       "      <td>2798.000000</td>\n",
       "      <td>3.000000</td>\n",
       "      <td>19.000000</td>\n",
       "      <td>20.000000</td>\n",
       "      <td>48.000000</td>\n",
       "      <td>86.000000</td>\n",
       "    </tr>\n",
       "  </tbody>\n",
       "</table>\n",
       "</div>"
      ],
      "text/plain": [
       "        STUDENT_ID  SEMESTER       TEST  COURSE_WORK       EXAM  Final_Exam\n",
       "count     7.000000  7.000000   7.000000     7.000000   7.000000    7.000000\n",
       "mean   2769.142857  2.428571  12.714286    13.285714  35.142857   61.142857\n",
       "std      36.177473  0.534522   6.993194     7.087884  16.097915   28.562380\n",
       "min    2727.000000  2.000000   1.000000     1.000000   1.000000    3.000000\n",
       "25%    2732.500000  2.000000   9.000000     9.000000  33.500000   54.500000\n",
       "50%    2798.000000  2.000000  16.000000    18.000000  41.000000   76.000000\n",
       "75%    2798.000000  3.000000  17.500000    18.000000  44.500000   77.000000\n",
       "max    2798.000000  3.000000  19.000000    20.000000  48.000000   86.000000"
      ]
     },
     "execution_count": 14,
     "metadata": {},
     "output_type": "execute_result"
    }
   ],
   "source": [
    "IT.describe()"
   ]
  },
  {
   "cell_type": "code",
   "execution_count": 17,
   "metadata": {},
   "outputs": [
    {
     "data": {
      "text/plain": [
       "GENDER\n",
       "F    1\n",
       "M    2\n",
       "Name: STUDENT_ID, dtype: int64"
      ]
     },
     "execution_count": 17,
     "metadata": {},
     "output_type": "execute_result"
    }
   ],
   "source": [
    "IT.groupby('GENDER')['STUDENT_ID'].nunique()"
   ]
  },
  {
   "cell_type": "code",
   "execution_count": 18,
   "metadata": {},
   "outputs": [
    {
     "data": {
      "text/plain": [
       "STUDENT_ID\n",
       "2798    53.5\n",
       "2727    68.5\n",
       "2738    77.0\n",
       "Name: Final_Exam, dtype: float64"
      ]
     },
     "execution_count": 18,
     "metadata": {},
     "output_type": "execute_result"
    }
   ],
   "source": [
    "IT.groupby('STUDENT_ID')['Final_Exam'].mean().sort_values()"
   ]
  },
  {
   "cell_type": "code",
   "execution_count": 19,
   "metadata": {},
   "outputs": [
    {
     "name": "stderr",
     "output_type": "stream",
     "text": [
      "C:\\Users\\Academic Registra\\Anaconda3\\lib\\site-packages\\scipy\\stats\\stats.py:1713: FutureWarning: Using a non-tuple sequence for multidimensional indexing is deprecated; use `arr[tuple(seq)]` instead of `arr[seq]`. In the future this will be interpreted as an array index, `arr[np.array(seq)]`, which will result either in an error or a different result.\n",
      "  return np.add.reduce(sorted[indexer] * weights, axis=axis) / sumval\n"
     ]
    },
    {
     "data": {
      "image/png": "[encoded data removed]",
      "text/plain": [
       "<Figure size 1152x720 with 1 Axes>"
      ]
     },
     "metadata": {},
     "output_type": "display_data"
    }
   ],
   "source": [
    "xC = IT['Final_Exam']\n",
    "sns.distplot(xC)\n",
    "plt.title('Perfomance  \\n ', fontsize=25)\n",
    "plt.xlabel('Total (x/100)', fontsize=25)\n",
    "plt.show()"
   ]
  },
  {
   "cell_type": "code",
   "execution_count": 20,
   "metadata": {},
   "outputs": [
    {
     "data": {
      "text/plain": [
       "STUDENT_ID     3\n",
       "COURSE         3\n",
       "COURSE_UNIT    5\n",
       "SEMESTER       2\n",
       "TEST           7\n",
       "COURSE_WORK    5\n",
       "EXAM           7\n",
       "GRADE_POINT    5\n",
       "GENDER         2\n",
       "Final_Exam     6\n",
       "dtype: int64"
      ]
     },
     "execution_count": 20,
     "metadata": {},
     "output_type": "execute_result"
    }
   ],
   "source": [
    "IT.nunique()"
   ]
  },
  {
   "cell_type": "code",
   "execution_count": 22,
   "metadata": {},
   "outputs": [
    {
     "data": {
      "text/plain": [
       "COURSE_UNIT\n",
       "SYSTERM ANALYSIS         32\n",
       "CUSTOMER CARE            48\n",
       "DATA BASE PROGRAMMING    77\n",
       "SYSTEM ADMINISTRATION    77\n",
       "USER INTERFACE DESIGN    81\n",
       "Name: Final_Exam, dtype: int64"
      ]
     },
     "execution_count": 22,
     "metadata": {},
     "output_type": "execute_result"
    }
   ],
   "source": [
    "IT.groupby('COURSE_UNIT')['Final_Exam'].mean().sort_values()"
   ]
  },
  {
   "cell_type": "code",
   "execution_count": 25,
   "metadata": {},
   "outputs": [
    {
     "data": {
      "text/plain": [
       "COURSE_UNIT\n",
       "SYSTERM ANALYSIS          3\n",
       "CUSTOMER CARE            48\n",
       "USER INTERFACE DESIGN    76\n",
       "DATA BASE PROGRAMMING    77\n",
       "SYSTEM ADMINISTRATION    77\n",
       "Name: Final_Exam, dtype: int64"
      ]
     },
     "execution_count": 25,
     "metadata": {},
     "output_type": "execute_result"
    }
   ],
   "source": [
    "IT.groupby('COURSE_UNIT')['Final_Exam'].min().sort_values()"
   ]
  },
  {
   "cell_type": "code",
   "execution_count": 24,
   "metadata": {},
   "outputs": [
    {
     "data": {
      "text/plain": [
       "COURSE_UNIT\n",
       "CUSTOMER CARE            1\n",
       "DATA BASE PROGRAMMING    1\n",
       "SYSTEM ADMINISTRATION    1\n",
       "SYSTERM ANALYSIS         2\n",
       "USER INTERFACE DESIGN    2\n",
       "Name: STUDENT_ID, dtype: int64"
      ]
     },
     "execution_count": 24,
     "metadata": {},
     "output_type": "execute_result"
    }
   ],
   "source": [
    "IT.groupby('COURSE_UNIT')['STUDENT_ID'].nunique().sort_values()"
   ]
  },
  {
   "cell_type": "code",
   "execution_count": 26,
   "metadata": {},
   "outputs": [
    {
     "name": "stdout",
     "output_type": "stream",
     "text": [
      "71.42857142857143\n",
      "28.57142857142857\n"
     ]
    }
   ],
   "source": [
    "final =IT['Final_Exam']\n",
    "\n",
    "print ((final[final >= 50.0 ].count() /final.count())*100)\n",
    "print ((final[final < 50.0 ].count() /final.count())*100)"
   ]
  },
  {
   "cell_type": "code",
   "execution_count": 27,
   "metadata": {},
   "outputs": [
    {
     "data": {
      "text/html": [
       "<div>\n",
       "<style scoped>\n",
       "    .dataframe tbody tr th:only-of-type {\n",
       "        vertical-align: middle;\n",
       "    }\n",
       "\n",
       "    .dataframe tbody tr th {\n",
       "        vertical-align: top;\n",
       "    }\n",
       "\n",
       "    .dataframe thead th {\n",
       "        text-align: right;\n",
       "    }\n",
       "</style>\n",
       "<table border=\"1\" class=\"dataframe\">\n",
       "  <thead>\n",
       "    <tr style=\"text-align: right;\">\n",
       "      <th></th>\n",
       "      <th>STUDENT_ID</th>\n",
       "      <th>COURSE</th>\n",
       "      <th>COURSE_UNIT</th>\n",
       "      <th>SEMESTER</th>\n",
       "      <th>TEST</th>\n",
       "      <th>COURSE_WORK</th>\n",
       "      <th>EXAM</th>\n",
       "      <th>GRADE_POINT</th>\n",
       "      <th>GENDER</th>\n",
       "      <th>Final_Exam</th>\n",
       "    </tr>\n",
       "  </thead>\n",
       "  <tbody>\n",
       "    <tr>\n",
       "      <th>222</th>\n",
       "      <td>2798</td>\n",
       "      <td>CIT</td>\n",
       "      <td>SYSTERM ANALYSIS</td>\n",
       "      <td>2</td>\n",
       "      <td>1</td>\n",
       "      <td>1</td>\n",
       "      <td>1</td>\n",
       "      <td>F</td>\n",
       "      <td>F</td>\n",
       "      <td>3</td>\n",
       "    </tr>\n",
       "  </tbody>\n",
       "</table>\n",
       "</div>"
      ],
      "text/plain": [
       "     STUDENT_ID COURSE       COURSE_UNIT  SEMESTER  TEST  COURSE_WORK  EXAM  \\\n",
       "222        2798    CIT  SYSTERM ANALYSIS         2     1            1     1   \n",
       "\n",
       "    GRADE_POINT GENDER  Final_Exam  \n",
       "222           F      F           3  "
      ]
     },
     "execution_count": 27,
     "metadata": {},
     "output_type": "execute_result"
    }
   ],
   "source": [
    "# Missed examination\n",
    "(IT[(IT['Final_Exam'] <= 3) & (IT['COURSE_UNIT'] )])"
   ]
  },
  {
   "cell_type": "markdown",
   "metadata": {},
   "source": [
    "# Vocation department "
   ]
  },
  {
   "cell_type": "code",
   "execution_count": 38,
   "metadata": {},
   "outputs": [],
   "source": [
    "VC = df[(df.COURSE == 'CEE') | (df.COURSE == 'DAD') | (df.COURSE == 'DEE')]"
   ]
  },
  {
   "cell_type": "code",
   "execution_count": 30,
   "metadata": {},
   "outputs": [
    {
     "data": {
      "text/plain": [
       "6"
      ]
     },
     "execution_count": 30,
     "metadata": {},
     "output_type": "execute_result"
    }
   ],
   "source": [
    "len(VC.STUDENT_ID.unique())"
   ]
  },
  {
   "cell_type": "code",
   "execution_count": 31,
   "metadata": {},
   "outputs": [
    {
     "data": {
      "text/plain": [
       "GENDER\n",
       "F    2\n",
       "M    4\n",
       "Name: STUDENT_ID, dtype: int64"
      ]
     },
     "execution_count": 31,
     "metadata": {},
     "output_type": "execute_result"
    }
   ],
   "source": [
    "VC.groupby('GENDER')['STUDENT_ID'].nunique()"
   ]
  },
  {
   "cell_type": "code",
   "execution_count": 45,
   "metadata": {},
   "outputs": [
    {
     "name": "stdout",
     "output_type": "stream",
     "text": [
      "79.16666666666666\n",
      "20.833333333333336\n"
     ]
    }
   ],
   "source": [
    "final =VC['Final_Exam']\n",
    "\n",
    "print ((final[final >= 50.0 ].count() /final.count())*100)\n",
    "print ((final[final < 50.0 ].count() /final.count())*100)"
   ]
  },
  {
   "cell_type": "code",
   "execution_count": 32,
   "metadata": {},
   "outputs": [
    {
     "data": {
      "text/plain": [
       "GENDER\n",
       "M    64.344828\n",
       "F    85.052632\n",
       "Name: Final_Exam, dtype: float64"
      ]
     },
     "execution_count": 32,
     "metadata": {},
     "output_type": "execute_result"
    }
   ],
   "source": [
    "VC.groupby('GENDER')['Final_Exam'].mean().sort_values()"
   ]
  },
  {
   "cell_type": "code",
   "execution_count": 33,
   "metadata": {},
   "outputs": [
    {
     "data": {
      "text/plain": [
       "STUDENT_ID\n",
       "2859    42.181818\n",
       "2864    72.571429\n",
       "2869    80.000000\n",
       "2583    82.333333\n",
       "2846    84.636364\n",
       "2829    85.625000\n",
       "Name: Final_Exam, dtype: float64"
      ]
     },
     "execution_count": 33,
     "metadata": {},
     "output_type": "execute_result"
    }
   ],
   "source": [
    "VC.groupby('STUDENT_ID')['Final_Exam'].mean().sort_values()"
   ]
  },
  {
   "cell_type": "code",
   "execution_count": 34,
   "metadata": {},
   "outputs": [
    {
     "name": "stderr",
     "output_type": "stream",
     "text": [
      "C:\\Users\\Academic Registra\\Anaconda3\\lib\\site-packages\\scipy\\stats\\stats.py:1713: FutureWarning: Using a non-tuple sequence for multidimensional indexing is deprecated; use `arr[tuple(seq)]` instead of `arr[seq]`. In the future this will be interpreted as an array index, `arr[np.array(seq)]`, which will result either in an error or a different result.\n",
      "  return np.add.reduce(sorted[indexer] * weights, axis=axis) / sumval\n"
     ]
    },
    {
     "data": {
      "image/png": "[encoded data removed]",
      "text/plain": [
       "<Figure size 1152x720 with 1 Axes>"
      ]
     },
     "metadata": {},
     "output_type": "display_data"
    }
   ],
   "source": [
    "VC = IT['Final_Exam']\n",
    "sns.distplot(xC)\n",
    "plt.title('Perfomance  \\n ', fontsize=25)\n",
    "plt.xlabel('Total (x/100)', fontsize=25)\n",
    "plt.show()"
   ]
  },
  {
   "cell_type": "code",
   "execution_count": 40,
   "metadata": {},
   "outputs": [
    {
     "data": {
      "text/plain": [
       "23"
      ]
     },
     "execution_count": 40,
     "metadata": {},
     "output_type": "execute_result"
    }
   ],
   "source": [
    "len(VC.COURSE_UNIT.unique())"
   ]
  },
  {
   "cell_type": "code",
   "execution_count": 39,
   "metadata": {},
   "outputs": [
    {
     "data": {
      "text/plain": [
       "6"
      ]
     },
     "execution_count": 39,
     "metadata": {},
     "output_type": "execute_result"
    }
   ],
   "source": [
    "len(VC.STUDENT_ID.unique())"
   ]
  },
  {
   "cell_type": "code",
   "execution_count": 41,
   "metadata": {},
   "outputs": [
    {
     "data": {
      "text/html": [
       "<div>\n",
       "<style scoped>\n",
       "    .dataframe tbody tr th:only-of-type {\n",
       "        vertical-align: middle;\n",
       "    }\n",
       "\n",
       "    .dataframe tbody tr th {\n",
       "        vertical-align: top;\n",
       "    }\n",
       "\n",
       "    .dataframe thead th {\n",
       "        text-align: right;\n",
       "    }\n",
       "</style>\n",
       "<table border=\"1\" class=\"dataframe\">\n",
       "  <thead>\n",
       "    <tr style=\"text-align: right;\">\n",
       "      <th></th>\n",
       "      <th>STUDENT_ID</th>\n",
       "      <th>SEMESTER</th>\n",
       "      <th>TEST</th>\n",
       "      <th>COURSE_WORK</th>\n",
       "      <th>EXAM</th>\n",
       "      <th>Final_Exam</th>\n",
       "    </tr>\n",
       "  </thead>\n",
       "  <tbody>\n",
       "    <tr>\n",
       "      <th>count</th>\n",
       "      <td>48.000000</td>\n",
       "      <td>48.000000</td>\n",
       "      <td>48.000000</td>\n",
       "      <td>48.000000</td>\n",
       "      <td>48.000000</td>\n",
       "      <td>48.000000</td>\n",
       "    </tr>\n",
       "    <tr>\n",
       "      <th>mean</th>\n",
       "      <td>2818.291667</td>\n",
       "      <td>1.687500</td>\n",
       "      <td>17.395833</td>\n",
       "      <td>16.125000</td>\n",
       "      <td>39.020833</td>\n",
       "      <td>72.541667</td>\n",
       "    </tr>\n",
       "    <tr>\n",
       "      <th>std</th>\n",
       "      <td>90.770451</td>\n",
       "      <td>1.013867</td>\n",
       "      <td>2.848961</td>\n",
       "      <td>3.739524</td>\n",
       "      <td>19.118321</td>\n",
       "      <td>20.759984</td>\n",
       "    </tr>\n",
       "    <tr>\n",
       "      <th>min</th>\n",
       "      <td>2583.000000</td>\n",
       "      <td>1.000000</td>\n",
       "      <td>9.000000</td>\n",
       "      <td>1.000000</td>\n",
       "      <td>1.000000</td>\n",
       "      <td>25.000000</td>\n",
       "    </tr>\n",
       "    <tr>\n",
       "      <th>25%</th>\n",
       "      <td>2829.000000</td>\n",
       "      <td>1.000000</td>\n",
       "      <td>16.000000</td>\n",
       "      <td>14.750000</td>\n",
       "      <td>32.250000</td>\n",
       "      <td>61.500000</td>\n",
       "    </tr>\n",
       "    <tr>\n",
       "      <th>50%</th>\n",
       "      <td>2846.000000</td>\n",
       "      <td>1.000000</td>\n",
       "      <td>18.000000</td>\n",
       "      <td>17.000000</td>\n",
       "      <td>47.000000</td>\n",
       "      <td>79.500000</td>\n",
       "    </tr>\n",
       "    <tr>\n",
       "      <th>75%</th>\n",
       "      <td>2860.250000</td>\n",
       "      <td>2.000000</td>\n",
       "      <td>19.000000</td>\n",
       "      <td>19.000000</td>\n",
       "      <td>52.250000</td>\n",
       "      <td>86.750000</td>\n",
       "    </tr>\n",
       "    <tr>\n",
       "      <th>max</th>\n",
       "      <td>2869.000000</td>\n",
       "      <td>4.000000</td>\n",
       "      <td>20.000000</td>\n",
       "      <td>20.000000</td>\n",
       "      <td>59.000000</td>\n",
       "      <td>97.000000</td>\n",
       "    </tr>\n",
       "  </tbody>\n",
       "</table>\n",
       "</div>"
      ],
      "text/plain": [
       "        STUDENT_ID   SEMESTER       TEST  COURSE_WORK       EXAM  Final_Exam\n",
       "count    48.000000  48.000000  48.000000    48.000000  48.000000   48.000000\n",
       "mean   2818.291667   1.687500  17.395833    16.125000  39.020833   72.541667\n",
       "std      90.770451   1.013867   2.848961     3.739524  19.118321   20.759984\n",
       "min    2583.000000   1.000000   9.000000     1.000000   1.000000   25.000000\n",
       "25%    2829.000000   1.000000  16.000000    14.750000  32.250000   61.500000\n",
       "50%    2846.000000   1.000000  18.000000    17.000000  47.000000   79.500000\n",
       "75%    2860.250000   2.000000  19.000000    19.000000  52.250000   86.750000\n",
       "max    2869.000000   4.000000  20.000000    20.000000  59.000000   97.000000"
      ]
     },
     "execution_count": 41,
     "metadata": {},
     "output_type": "execute_result"
    }
   ],
   "source": [
    "VC.describe()"
   ]
  },
  {
   "cell_type": "code",
   "execution_count": 48,
   "metadata": {},
   "outputs": [
    {
     "data": {
      "text/plain": [
       "COURSE_UNIT\n",
       "DIGITAL ELECTRONICS 2                      70\n",
       "SURVEYING 2                                71\n",
       "ANALOGUE ELECTRONICS 2                     75\n",
       "ENGINEERING MATH 2                         76\n",
       "BUSINESS COMMUNICATION SKILL               78\n",
       "CONSTRUCTION TECHNOLOGY                    79\n",
       "ENGLISH                                    79\n",
       "DIGITAL ELECTRONICS                        81\n",
       "ENGINEERING SCIENCE                        82\n",
       "INSTALLATION PRACTICE 1                    83\n",
       "ENGINEERING MATH 1                         83\n",
       "CONSTRUCTION TECHNOLOGY II                 84\n",
       "INTRODUCTION TO BUSINESS ADMINISTRATION    86\n",
       "ENGINEERING SURVEYING II                   86\n",
       "ICT FUNDAMENTAL                            89\n",
       "ANALOGE DIGITAL ELECTRONICS PRACTICE       91\n",
       "ARCHITECTURAL STUDIO II                    92\n",
       "REAL LIFE PROJECT 2                        93\n",
       "ARCHITECTURAL STUDIO I                     93\n",
       "CONSTRUCTION TECHNOLOGY 1                  94\n",
       "CONSTRUCTION TECHNOLOGY I                  95\n",
       "ENGINEERING DRAWING                        95\n",
       "ENGINEERING SURVEYING I                    97\n",
       "Name: Final_Exam, dtype: int64"
      ]
     },
     "execution_count": 48,
     "metadata": {},
     "output_type": "execute_result"
    }
   ],
   "source": [
    "VC.groupby('COURSE_UNIT')['Final_Exam'].max().sort_values()"
   ]
  },
  {
   "cell_type": "code",
   "execution_count": 44,
   "metadata": {},
   "outputs": [
    {
     "data": {
      "text/plain": [
       "COURSE_UNIT\n",
       "ANALOGE DIGITAL ELECTRONICS PRACTICE       1\n",
       "INTRODUCTION TO BUSINESS ADMINISTRATION    1\n",
       "INSTALLATION PRACTICE 1                    1\n",
       "ENGINEERING SCIENCE                        1\n",
       "REAL LIFE PROJECT 2                        1\n",
       "DIGITAL ELECTRONICS 2                      1\n",
       "DIGITAL ELECTRONICS                        1\n",
       "SURVEYING 2                                1\n",
       "CONSTRUCTION TECHNOLOGY 1                  1\n",
       "CONSTRUCTION TECHNOLOGY                    1\n",
       "ANALOGUE ELECTRONICS 2                     1\n",
       "CONSTRUCTION TECHNOLOGY II                 2\n",
       "ENGINEERING SURVEYING II                   2\n",
       "ARCHITECTURAL STUDIO I                     2\n",
       "CONSTRUCTION TECHNOLOGY I                  2\n",
       "BUSINESS COMMUNICATION SKILL               3\n",
       "ENGINEERING MATH 2                         3\n",
       "ARCHITECTURAL STUDIO II                    3\n",
       "ENGINEERING SURVEYING I                    3\n",
       "ENGLISH                                    3\n",
       "ENGINEERING MATH 1                         4\n",
       "ICT FUNDAMENTAL                            4\n",
       "ENGINEERING DRAWING                        5\n",
       "Name: Final_Exam, dtype: int64"
      ]
     },
     "execution_count": 44,
     "metadata": {},
     "output_type": "execute_result"
    }
   ],
   "source": [
    "VC.groupby('COURSE_UNIT')['Final_Exam'].nunique().sort_values()"
   ]
  },
  {
   "cell_type": "code",
   "execution_count": 52,
   "metadata": {},
   "outputs": [
    {
     "data": {
      "text/html": [
       "<div>\n",
       "<style scoped>\n",
       "    .dataframe tbody tr th:only-of-type {\n",
       "        vertical-align: middle;\n",
       "    }\n",
       "\n",
       "    .dataframe tbody tr th {\n",
       "        vertical-align: top;\n",
       "    }\n",
       "\n",
       "    .dataframe thead th {\n",
       "        text-align: right;\n",
       "    }\n",
       "</style>\n",
       "<table border=\"1\" class=\"dataframe\">\n",
       "  <thead>\n",
       "    <tr style=\"text-align: right;\">\n",
       "      <th></th>\n",
       "      <th>STUDENT_ID</th>\n",
       "      <th>COURSE</th>\n",
       "      <th>COURSE_UNIT</th>\n",
       "      <th>SEMESTER</th>\n",
       "      <th>TEST</th>\n",
       "      <th>COURSE_WORK</th>\n",
       "      <th>EXAM</th>\n",
       "      <th>GRADE_POINT</th>\n",
       "      <th>GENDER</th>\n",
       "      <th>Final_Exam</th>\n",
       "    </tr>\n",
       "  </thead>\n",
       "  <tbody>\n",
       "    <tr>\n",
       "      <th>155</th>\n",
       "      <td>2859</td>\n",
       "      <td>DAD</td>\n",
       "      <td>CONSTRUCTION TECHNOLOGY I</td>\n",
       "      <td>1</td>\n",
       "      <td>20</td>\n",
       "      <td>19</td>\n",
       "      <td>1</td>\n",
       "      <td>F</td>\n",
       "      <td>M</td>\n",
       "      <td>40</td>\n",
       "    </tr>\n",
       "    <tr>\n",
       "      <th>156</th>\n",
       "      <td>2859</td>\n",
       "      <td>DAD</td>\n",
       "      <td>ENGINEERING SURVEYING I</td>\n",
       "      <td>1</td>\n",
       "      <td>17</td>\n",
       "      <td>15</td>\n",
       "      <td>1</td>\n",
       "      <td>F</td>\n",
       "      <td>M</td>\n",
       "      <td>33</td>\n",
       "    </tr>\n",
       "    <tr>\n",
       "      <th>157</th>\n",
       "      <td>2859</td>\n",
       "      <td>DAD</td>\n",
       "      <td>ENGINEERING DRAWING</td>\n",
       "      <td>1</td>\n",
       "      <td>20</td>\n",
       "      <td>12</td>\n",
       "      <td>1</td>\n",
       "      <td>F</td>\n",
       "      <td>M</td>\n",
       "      <td>33</td>\n",
       "    </tr>\n",
       "    <tr>\n",
       "      <th>158</th>\n",
       "      <td>2859</td>\n",
       "      <td>DAD</td>\n",
       "      <td>ARCHITECTURAL STUDIO I</td>\n",
       "      <td>1</td>\n",
       "      <td>19</td>\n",
       "      <td>20</td>\n",
       "      <td>1</td>\n",
       "      <td>F</td>\n",
       "      <td>M</td>\n",
       "      <td>40</td>\n",
       "    </tr>\n",
       "    <tr>\n",
       "      <th>223</th>\n",
       "      <td>2859</td>\n",
       "      <td>DAD</td>\n",
       "      <td>CONSTRUCTION TECHNOLOGY II</td>\n",
       "      <td>2</td>\n",
       "      <td>18</td>\n",
       "      <td>19</td>\n",
       "      <td>1</td>\n",
       "      <td>F</td>\n",
       "      <td>M</td>\n",
       "      <td>38</td>\n",
       "    </tr>\n",
       "    <tr>\n",
       "      <th>224</th>\n",
       "      <td>2859</td>\n",
       "      <td>DAD</td>\n",
       "      <td>ENGINEERING SURVEYING II</td>\n",
       "      <td>2</td>\n",
       "      <td>19</td>\n",
       "      <td>19</td>\n",
       "      <td>1</td>\n",
       "      <td>F</td>\n",
       "      <td>M</td>\n",
       "      <td>39</td>\n",
       "    </tr>\n",
       "    <tr>\n",
       "      <th>225</th>\n",
       "      <td>2859</td>\n",
       "      <td>DAD</td>\n",
       "      <td>ARCHITECTURAL STUDIO II</td>\n",
       "      <td>2</td>\n",
       "      <td>19</td>\n",
       "      <td>20</td>\n",
       "      <td>1</td>\n",
       "      <td>F</td>\n",
       "      <td>M</td>\n",
       "      <td>40</td>\n",
       "    </tr>\n",
       "  </tbody>\n",
       "</table>\n",
       "</div>"
      ],
      "text/plain": [
       "     STUDENT_ID COURSE                 COURSE_UNIT  SEMESTER  TEST  \\\n",
       "155        2859    DAD   CONSTRUCTION TECHNOLOGY I         1    20   \n",
       "156        2859    DAD     ENGINEERING SURVEYING I         1    17   \n",
       "157        2859    DAD         ENGINEERING DRAWING         1    20   \n",
       "158        2859    DAD      ARCHITECTURAL STUDIO I         1    19   \n",
       "223        2859    DAD  CONSTRUCTION TECHNOLOGY II         2    18   \n",
       "224        2859    DAD    ENGINEERING SURVEYING II         2    19   \n",
       "225        2859    DAD     ARCHITECTURAL STUDIO II         2    19   \n",
       "\n",
       "     COURSE_WORK  EXAM GRADE_POINT GENDER  Final_Exam  \n",
       "155           19     1           F      M          40  \n",
       "156           15     1           F      M          33  \n",
       "157           12     1           F      M          33  \n",
       "158           20     1           F      M          40  \n",
       "223           19     1           F      M          38  \n",
       "224           19     1           F      M          39  \n",
       "225           20     1           F      M          40  "
      ]
     },
     "execution_count": 52,
     "metadata": {},
     "output_type": "execute_result"
    }
   ],
   "source": [
    "# Missed examination\n",
    "(VC[(VC['EXAM'] <= 3) & (VC['COURSE_UNIT'] )])"
   ]
  },
  {
   "cell_type": "code",
   "execution_count": 63,
   "metadata": {},
   "outputs": [
    {
     "name": "stdout",
     "output_type": "stream",
     "text": [
      "              Final_Exam\n",
      "                    mean\n",
      "COURSE GENDER           \n",
      "CCS    M       77.000000\n",
      "CEE    M       82.333333\n",
      "CGDD   F       55.680851\n",
      "       M       57.846154\n",
      "CIT    F       53.500000\n",
      "CMM    F       63.200000\n",
      "CVTVP  F       81.000000\n",
      "       M       80.333333\n",
      "DAD    F       85.052632\n",
      "       M       54.000000\n",
      "DEE    M       72.571429\n",
      "DGDD   F       63.686047\n",
      "       M       71.964912\n",
      "DIT    M       68.500000\n",
      "DMM    M       61.933333\n",
      "DVTVP  M       77.052632\n"
     ]
    }
   ],
   "source": [
    "gr=(df.groupby(['COURSE','GENDER' ])\n",
    "   .agg({'Final_Exam':['mean']\n",
    "#,         'GENDER':['count']\n",
    "        }))\n",
    "print (gr.head(40))"
   ]
  },
  {
   "cell_type": "code",
   "execution_count": 64,
   "metadata": {},
   "outputs": [
    {
     "name": "stdout",
     "output_type": "stream",
     "text": [
      "83.91420911528151\n",
      "16.0857908847185\n"
     ]
    }
   ],
   "source": [
    "final =df['Final_Exam']\n",
    "\n",
    "print ((final[final >= 50.0 ].count() /final.count())*100)\n",
    "print ((final[final < 50.0 ].count() /final.count())*100)"
   ]
  },
  {
   "cell_type": "code",
   "execution_count": 65,
   "metadata": {},
   "outputs": [
    {
     "data": {
      "text/html": [
       "<div>\n",
       "<style scoped>\n",
       "    .dataframe tbody tr th:only-of-type {\n",
       "        vertical-align: middle;\n",
       "    }\n",
       "\n",
       "    .dataframe tbody tr th {\n",
       "        vertical-align: top;\n",
       "    }\n",
       "\n",
       "    .dataframe thead th {\n",
       "        text-align: right;\n",
       "    }\n",
       "</style>\n",
       "<table border=\"1\" class=\"dataframe\">\n",
       "  <thead>\n",
       "    <tr style=\"text-align: right;\">\n",
       "      <th></th>\n",
       "      <th>STUDENT_ID</th>\n",
       "      <th>SEMESTER</th>\n",
       "      <th>TEST</th>\n",
       "      <th>COURSE_WORK</th>\n",
       "      <th>EXAM</th>\n",
       "      <th>Final_Exam</th>\n",
       "    </tr>\n",
       "  </thead>\n",
       "  <tbody>\n",
       "    <tr>\n",
       "      <th>count</th>\n",
       "      <td>373.000000</td>\n",
       "      <td>373.000000</td>\n",
       "      <td>373.000000</td>\n",
       "      <td>373.000000</td>\n",
       "      <td>373.000000</td>\n",
       "      <td>373.000000</td>\n",
       "    </tr>\n",
       "    <tr>\n",
       "      <th>mean</th>\n",
       "      <td>2763.892761</td>\n",
       "      <td>1.994638</td>\n",
       "      <td>15.252011</td>\n",
       "      <td>14.179625</td>\n",
       "      <td>37.337802</td>\n",
       "      <td>66.769437</td>\n",
       "    </tr>\n",
       "    <tr>\n",
       "      <th>std</th>\n",
       "      <td>91.962646</td>\n",
       "      <td>1.039527</td>\n",
       "      <td>4.295631</td>\n",
       "      <td>4.761225</td>\n",
       "      <td>14.174359</td>\n",
       "      <td>18.518385</td>\n",
       "    </tr>\n",
       "    <tr>\n",
       "      <th>min</th>\n",
       "      <td>2573.000000</td>\n",
       "      <td>1.000000</td>\n",
       "      <td>1.000000</td>\n",
       "      <td>1.000000</td>\n",
       "      <td>1.000000</td>\n",
       "      <td>3.000000</td>\n",
       "    </tr>\n",
       "    <tr>\n",
       "      <th>25%</th>\n",
       "      <td>2711.000000</td>\n",
       "      <td>1.000000</td>\n",
       "      <td>12.000000</td>\n",
       "      <td>10.000000</td>\n",
       "      <td>31.000000</td>\n",
       "      <td>60.000000</td>\n",
       "    </tr>\n",
       "    <tr>\n",
       "      <th>50%</th>\n",
       "      <td>2782.000000</td>\n",
       "      <td>2.000000</td>\n",
       "      <td>17.000000</td>\n",
       "      <td>15.000000</td>\n",
       "      <td>40.000000</td>\n",
       "      <td>70.000000</td>\n",
       "    </tr>\n",
       "    <tr>\n",
       "      <th>75%</th>\n",
       "      <td>2846.000000</td>\n",
       "      <td>3.000000</td>\n",
       "      <td>19.000000</td>\n",
       "      <td>18.000000</td>\n",
       "      <td>47.000000</td>\n",
       "      <td>80.000000</td>\n",
       "    </tr>\n",
       "    <tr>\n",
       "      <th>max</th>\n",
       "      <td>2873.000000</td>\n",
       "      <td>4.000000</td>\n",
       "      <td>20.000000</td>\n",
       "      <td>20.000000</td>\n",
       "      <td>59.000000</td>\n",
       "      <td>98.000000</td>\n",
       "    </tr>\n",
       "  </tbody>\n",
       "</table>\n",
       "</div>"
      ],
      "text/plain": [
       "        STUDENT_ID    SEMESTER        TEST  COURSE_WORK        EXAM  \\\n",
       "count   373.000000  373.000000  373.000000   373.000000  373.000000   \n",
       "mean   2763.892761    1.994638   15.252011    14.179625   37.337802   \n",
       "std      91.962646    1.039527    4.295631     4.761225   14.174359   \n",
       "min    2573.000000    1.000000    1.000000     1.000000    1.000000   \n",
       "25%    2711.000000    1.000000   12.000000    10.000000   31.000000   \n",
       "50%    2782.000000    2.000000   17.000000    15.000000   40.000000   \n",
       "75%    2846.000000    3.000000   19.000000    18.000000   47.000000   \n",
       "max    2873.000000    4.000000   20.000000    20.000000   59.000000   \n",
       "\n",
       "       Final_Exam  \n",
       "count  373.000000  \n",
       "mean    66.769437  \n",
       "std     18.518385  \n",
       "min      3.000000  \n",
       "25%     60.000000  \n",
       "50%     70.000000  \n",
       "75%     80.000000  \n",
       "max     98.000000  "
      ]
     },
     "execution_count": 65,
     "metadata": {},
     "output_type": "execute_result"
    }
   ],
   "source": [
    "df.describe()"
   ]
  },
  {
   "cell_type": "code",
   "execution_count": null,
   "metadata": {},
   "outputs": [],
   "source": []
  }
 ],
 "metadata": {
  "kernelspec": {
   "display_name": "Python 3",
   "language": "python",
   "name": "python3"
  },
  "language_info": {
   "codemirror_mode": {
    "name": "ipython",
    "version": 3
   },
   "file_extension": ".py",
   "mimetype": "text/x-python",
   "name": "python",
   "nbconvert_exporter": "python",
   "pygments_lexer": "ipython3",
   "version": "3.7.1"
  }
 },
 "nbformat": 4,
 "nbformat_minor": 2
}
